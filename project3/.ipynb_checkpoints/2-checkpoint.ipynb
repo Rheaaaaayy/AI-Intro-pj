{
 "cells": [
  {
   "cell_type": "code",
   "execution_count": 1,
   "metadata": {},
   "outputs": [],
   "source": [
    "def unpickle(file):\n",
    "    import pickle\n",
    "    with open(file, 'rb') as fo:\n",
    "        dict = pickle.load(fo, encoding='bytes')\n",
    "    return dict\n",
    "pic_data=unpickle('./cifar-10-batches-py/data_batch_1')\n",
    "test_data=unpickle('./cifar-10-batches-py/test_batch')"
   ]
  },
  {
   "cell_type": "code",
   "execution_count": 2,
   "metadata": {},
   "outputs": [
    {
     "data": {
      "text/plain": [
       "dict_keys([b'batch_label', b'labels', b'data', b'filenames'])"
      ]
     },
     "execution_count": 2,
     "metadata": {},
     "output_type": "execute_result"
    }
   ],
   "source": [
    "pic_data.keys()"
   ]
  },
  {
   "cell_type": "code",
   "execution_count": 3,
   "metadata": {},
   "outputs": [
    {
     "name": "stdout",
     "output_type": "stream",
     "text": [
      "(10000, 3072)\n",
      "(10000,)\n"
     ]
    }
   ],
   "source": [
    "import numpy as np\n",
    "print(np.shape(pic_data[b'data']))\n",
    "print(np.shape(pic_data[b'labels']))"
   ]
  },
  {
   "cell_type": "code",
   "execution_count": 4,
   "metadata": {},
   "outputs": [
    {
     "data": {
      "text/html": [
       "<div>\n",
       "<style scoped>\n",
       "    .dataframe tbody tr th:only-of-type {\n",
       "        vertical-align: middle;\n",
       "    }\n",
       "\n",
       "    .dataframe tbody tr th {\n",
       "        vertical-align: top;\n",
       "    }\n",
       "\n",
       "    .dataframe thead th {\n",
       "        text-align: right;\n",
       "    }\n",
       "</style>\n",
       "<table border=\"1\" class=\"dataframe\">\n",
       "  <thead>\n",
       "    <tr style=\"text-align: right;\">\n",
       "      <th></th>\n",
       "      <th>label</th>\n",
       "      <th>count</th>\n",
       "    </tr>\n",
       "  </thead>\n",
       "  <tbody>\n",
       "    <tr>\n",
       "      <th>0</th>\n",
       "      <td>0</td>\n",
       "      <td>1005</td>\n",
       "    </tr>\n",
       "    <tr>\n",
       "      <th>1</th>\n",
       "      <td>1</td>\n",
       "      <td>974</td>\n",
       "    </tr>\n",
       "    <tr>\n",
       "      <th>2</th>\n",
       "      <td>2</td>\n",
       "      <td>1032</td>\n",
       "    </tr>\n",
       "    <tr>\n",
       "      <th>3</th>\n",
       "      <td>3</td>\n",
       "      <td>1016</td>\n",
       "    </tr>\n",
       "    <tr>\n",
       "      <th>4</th>\n",
       "      <td>4</td>\n",
       "      <td>999</td>\n",
       "    </tr>\n",
       "    <tr>\n",
       "      <th>5</th>\n",
       "      <td>5</td>\n",
       "      <td>937</td>\n",
       "    </tr>\n",
       "    <tr>\n",
       "      <th>6</th>\n",
       "      <td>6</td>\n",
       "      <td>1030</td>\n",
       "    </tr>\n",
       "    <tr>\n",
       "      <th>7</th>\n",
       "      <td>7</td>\n",
       "      <td>1001</td>\n",
       "    </tr>\n",
       "    <tr>\n",
       "      <th>8</th>\n",
       "      <td>8</td>\n",
       "      <td>1025</td>\n",
       "    </tr>\n",
       "    <tr>\n",
       "      <th>9</th>\n",
       "      <td>9</td>\n",
       "      <td>981</td>\n",
       "    </tr>\n",
       "  </tbody>\n",
       "</table>\n",
       "</div>"
      ],
      "text/plain": [
       "   label  count\n",
       "0      0   1005\n",
       "1      1    974\n",
       "2      2   1032\n",
       "3      3   1016\n",
       "4      4    999\n",
       "5      5    937\n",
       "6      6   1030\n",
       "7      7   1001\n",
       "8      8   1025\n",
       "9      9    981"
      ]
     },
     "execution_count": 4,
     "metadata": {},
     "output_type": "execute_result"
    }
   ],
   "source": [
    "from collections import Counter\n",
    "import pandas as pd\n",
    "count_label=[]\n",
    "for temp in pic_data[b'labels']:\n",
    "    count_label.append(temp)\n",
    "ct=Counter(count_label)\n",
    "dftext = pd.DataFrame({\"label\":list(ct.keys()),\"count\":list(ct.values())})\n",
    "dftext = dftext.sort_values(by='label')\n",
    "dftext = dftext.reset_index()[[\"label\",\"count\"]]\n",
    "dftext"
   ]
  },
  {
   "cell_type": "code",
   "execution_count": 5,
   "metadata": {},
   "outputs": [
    {
     "data": {
      "text/plain": [
       "array([[ 59,  43,  50, ..., 140,  84,  72],\n",
       "       [154, 126, 105, ..., 139, 142, 144],\n",
       "       [255, 253, 253, ...,  83,  83,  84],\n",
       "       ...,\n",
       "       [ 71,  60,  74, ...,  68,  69,  68],\n",
       "       [250, 254, 211, ..., 215, 255, 254],\n",
       "       [ 62,  61,  60, ..., 130, 130, 131]], dtype=uint8)"
      ]
     },
     "execution_count": 5,
     "metadata": {},
     "output_type": "execute_result"
    }
   ],
   "source": [
    "pic_data[b'data']"
   ]
  },
  {
   "cell_type": "code",
   "execution_count": 6,
   "metadata": {
    "scrolled": false
   },
   "outputs": [
    {
     "data": {
      "text/plain": [
       "array([[[[ 59,  43,  50, ..., 158, 152, 148],\n",
       "         [ 16,   0,  18, ..., 123, 119, 122],\n",
       "         [ 25,  16,  49, ..., 118, 120, 109],\n",
       "         ...,\n",
       "         [208, 201, 198, ..., 160,  56,  53],\n",
       "         [180, 173, 186, ..., 184,  97,  83],\n",
       "         [177, 168, 179, ..., 216, 151, 123]],\n",
       "\n",
       "        [[ 62,  46,  48, ..., 132, 125, 124],\n",
       "         [ 20,   0,   8, ...,  88,  83,  87],\n",
       "         [ 24,   7,  27, ...,  84,  84,  73],\n",
       "         ...,\n",
       "         [170, 153, 161, ..., 133,  31,  34],\n",
       "         [139, 123, 144, ..., 148,  62,  53],\n",
       "         [144, 129, 142, ..., 184, 118,  92]],\n",
       "\n",
       "        [[ 63,  45,  43, ..., 108, 102, 103],\n",
       "         [ 20,   0,   0, ...,  55,  50,  57],\n",
       "         [ 21,   0,   8, ...,  50,  50,  42],\n",
       "         ...,\n",
       "         [ 96,  34,  26, ...,  70,   7,  20],\n",
       "         [ 96,  42,  30, ...,  94,  34,  34],\n",
       "         [116,  94,  87, ..., 140,  84,  72]]],\n",
       "\n",
       "\n",
       "       [[[154, 126, 105, ...,  91,  87,  79],\n",
       "         [140, 145, 125, ...,  96,  77,  71],\n",
       "         [140, 139, 115, ...,  79,  68,  67],\n",
       "         ...,\n",
       "         [175, 156, 154, ...,  42,  61,  93],\n",
       "         [165, 156, 159, ..., 103, 123, 131],\n",
       "         [163, 158, 163, ..., 143, 143, 143]],\n",
       "\n",
       "        [[177, 137, 104, ...,  95,  90,  81],\n",
       "         [160, 153, 125, ...,  99,  80,  73],\n",
       "         [155, 146, 115, ...,  82,  70,  69],\n",
       "         ...,\n",
       "         [167, 154, 160, ...,  34,  53,  83],\n",
       "         [154, 152, 161, ...,  93, 114, 121],\n",
       "         [148, 148, 156, ..., 133, 134, 133]],\n",
       "\n",
       "        [[187, 136,  95, ...,  71,  71,  70],\n",
       "         [169, 154, 118, ...,  78,  62,  61],\n",
       "         [164, 149, 112, ...,  64,  55,  55],\n",
       "         ...,\n",
       "         [166, 160, 170, ...,  36,  57,  91],\n",
       "         [128, 130, 142, ...,  96, 120, 131],\n",
       "         [120, 122, 133, ..., 139, 142, 144]]],\n",
       "\n",
       "\n",
       "       [[[255, 253, 253, ..., 253, 253, 253],\n",
       "         [255, 255, 255, ..., 255, 255, 255],\n",
       "         [255, 254, 254, ..., 254, 254, 254],\n",
       "         ...,\n",
       "         [113, 111, 105, ...,  72,  72,  72],\n",
       "         [111, 104,  99, ...,  68,  70,  78],\n",
       "         [106,  99,  95, ...,  78,  79,  80]],\n",
       "\n",
       "        [[255, 253, 253, ..., 253, 253, 253],\n",
       "         [255, 255, 255, ..., 255, 255, 255],\n",
       "         [255, 254, 254, ..., 254, 254, 254],\n",
       "         ...,\n",
       "         [120, 118, 112, ...,  81,  80,  80],\n",
       "         [118, 111, 106, ...,  75,  76,  84],\n",
       "         [113, 106, 102, ...,  85,  85,  86]],\n",
       "\n",
       "        [[255, 253, 253, ..., 253, 253, 253],\n",
       "         [255, 255, 255, ..., 255, 255, 255],\n",
       "         [255, 254, 254, ..., 254, 254, 254],\n",
       "         ...,\n",
       "         [112, 111, 106, ...,  80,  79,  79],\n",
       "         [110, 104,  98, ...,  73,  75,  82],\n",
       "         [105,  98,  94, ...,  83,  83,  84]]],\n",
       "\n",
       "\n",
       "       ...,\n",
       "\n",
       "\n",
       "       [[[ 71,  60,  74, ..., 251, 255, 191],\n",
       "         [ 89,  80,  67, ..., 250, 255, 181],\n",
       "         [ 74,  69,  68, ..., 246, 254, 193],\n",
       "         ...,\n",
       "         [ 84,  80,  80, ...,  41,  55,  61],\n",
       "         [ 67,  65,  62, ...,  63,  68,  71],\n",
       "         [ 66,  66,  65, ...,  80,  83,  84]],\n",
       "\n",
       "        [[ 77,  69,  83, ..., 251, 255, 192],\n",
       "         [ 96,  89,  77, ..., 248, 254, 181],\n",
       "         [ 80,  77,  77, ..., 245, 254, 195],\n",
       "         ...,\n",
       "         [ 85,  81,  80, ...,  43,  55,  62],\n",
       "         [ 66,  64,  61, ...,  63,  66,  70],\n",
       "         [ 43,  44,  42, ...,  73,  75,  77]],\n",
       "\n",
       "        [[ 44,  35,  56, ..., 253, 255, 186],\n",
       "         [ 62,  58,  51, ..., 249, 254, 170],\n",
       "         [ 46,  50,  53, ..., 248, 254, 183],\n",
       "         ...,\n",
       "         [ 84,  81,  80, ...,  48,  59,  63],\n",
       "         [ 67,  64,  61, ...,  65,  67,  67],\n",
       "         [ 28,  28,  27, ...,  68,  69,  68]]],\n",
       "\n",
       "\n",
       "       [[[250, 254, 211, ..., 188, 255, 255],\n",
       "         [250, 255, 213, ..., 189, 255, 255],\n",
       "         [250, 255, 213, ..., 186, 255, 255],\n",
       "         ...,\n",
       "         [255, 254, 213, ..., 211, 255, 255],\n",
       "         [255, 252, 217, ..., 214, 255, 255],\n",
       "         [255, 253, 218, ..., 214, 255, 255]],\n",
       "\n",
       "        [[255, 253, 224, ..., 195, 255, 254],\n",
       "         [255, 254, 225, ..., 198, 255, 254],\n",
       "         [255, 254, 226, ..., 198, 255, 254],\n",
       "         ...,\n",
       "         [254, 254, 224, ..., 211, 255, 254],\n",
       "         [254, 253, 225, ..., 213, 255, 254],\n",
       "         [254, 253, 221, ..., 212, 255, 254]],\n",
       "\n",
       "        [[255, 254, 220, ..., 193, 255, 255],\n",
       "         [255, 255, 222, ..., 195, 255, 255],\n",
       "         [255, 255, 222, ..., 194, 255, 255],\n",
       "         ...,\n",
       "         [255, 255, 221, ..., 215, 255, 254],\n",
       "         [255, 253, 222, ..., 216, 255, 254],\n",
       "         [255, 253, 220, ..., 215, 255, 254]]],\n",
       "\n",
       "\n",
       "       [[[ 62,  61,  60, ...,  64,  82,  62],\n",
       "         [ 62,  63,  61, ...,  77, 114,  64],\n",
       "         [ 67,  78, 115, ..., 100, 119,  63],\n",
       "         ...,\n",
       "         [161, 159, 159, ..., 152, 157, 156],\n",
       "         [163, 161, 162, ..., 162, 161, 161],\n",
       "         [169, 167, 167, ..., 167, 167, 167]],\n",
       "\n",
       "        [[ 55,  55,  55, ...,  58,  75,  55],\n",
       "         [ 56,  52,  48, ...,  69, 107,  57],\n",
       "         [ 59,  62,  93, ...,  92, 111,  56],\n",
       "         ...,\n",
       "         [192, 190, 190, ..., 167, 190, 192],\n",
       "         [195, 192, 193, ..., 191, 193, 193],\n",
       "         [201, 198, 198, ..., 198, 198, 198]],\n",
       "\n",
       "        [[  7,   7,   6, ...,  10,  28,   9],\n",
       "         [  7,   8,   6, ...,  28,  65,  12],\n",
       "         [ 15,  28,  66, ...,  58,  74,  12],\n",
       "         ...,\n",
       "         [125, 123, 123, ..., 123, 128, 123],\n",
       "         [127, 125, 126, ..., 128, 127, 126],\n",
       "         [132, 130, 131, ..., 130, 130, 131]]]], dtype=uint8)"
      ]
     },
     "execution_count": 6,
     "metadata": {},
     "output_type": "execute_result"
    }
   ],
   "source": [
    "pic_data[b'data']=pic_data[b'data'].reshape(10000,3,32,32)\n",
    "test_data[b'data']=test_data[b'data'].reshape(10000,3,32,32)"
   ]
  },
  {
   "cell_type": "code",
   "execution_count": 8,
   "metadata": {},
   "outputs": [
    {
     "name": "stderr",
     "output_type": "stream",
     "text": [
      "Using TensorFlow backend.\n"
     ]
    },
    {
     "data": {
      "text/plain": [
       "array([[0., 0., 0., ..., 0., 0., 0.],\n",
       "       [0., 0., 0., ..., 0., 0., 1.],\n",
       "       [0., 0., 0., ..., 0., 0., 1.],\n",
       "       ...,\n",
       "       [0., 1., 0., ..., 0., 0., 0.],\n",
       "       [0., 1., 0., ..., 0., 0., 0.],\n",
       "       [0., 0., 0., ..., 0., 0., 0.]], dtype=float32)"
      ]
     },
     "execution_count": 8,
     "metadata": {},
     "output_type": "execute_result"
    }
   ],
   "source": [
    "from keras.utils import np_utils\n",
    "pic_data[b'labels'] = np_utils.to_categorical(pic_data[b'labels'],10)\n",
    "test_data[b'labels'] = np_utils.to_categorical(test_data[b'labels'],10)\n",
    "pic_data[b'labels']"
   ]
  },
  {
   "cell_type": "code",
   "execution_count": 9,
   "metadata": {},
   "outputs": [],
   "source": [
    "from keras.models import Sequential\n",
    "from keras.layers import Dense,Activation,Convolution2D,MaxPooling2D,Flatten\n",
    "from keras.optimizers import Adam"
   ]
  },
  {
   "cell_type": "code",
   "execution_count": 10,
   "metadata": {},
   "outputs": [
    {
     "name": "stdout",
     "output_type": "stream",
     "text": [
      "WARNING:tensorflow:From /home/rhea/anaconda3/lib/python3.7/site-packages/tensorflow/python/framework/op_def_library.py:263: colocate_with (from tensorflow.python.framework.ops) is deprecated and will be removed in a future version.\n",
      "Instructions for updating:\n",
      "Colocations handled automatically by placer.\n"
     ]
    }
   ],
   "source": [
    "model = Sequential()\n",
    "model.add(Convolution2D(\n",
    "    filters=32,\n",
    "    kernel_size=(5,5),\n",
    "    padding='same',\n",
    "    input_shape=(3,32,32)\n",
    "))\n",
    "model.add(Activation('relu'))\n",
    "model.add(MaxPooling2D(\n",
    "    pool_size=(2,2),\n",
    "    strides=(2,2),\n",
    "    padding='same',\n",
    "))\n",
    "model.add(Convolution2D(64,(5,5),padding='same'))\n",
    "model.add(Activation('relu'))\n",
    "model.add(MaxPooling2D(\n",
    "    pool_size=(2,2),\n",
    "    padding='same',\n",
    "))\n",
    "model.add(Flatten())\n",
    "model.add(Dense(1024))\n",
    "model.add(Activation('relu'))\n",
    "model.add(Dense(10))\n",
    "model.add(Activation('softmax'))\n",
    "\n",
    "adam = Adam(lr=1e-4)"
   ]
  },
  {
   "cell_type": "code",
   "execution_count": 11,
   "metadata": {},
   "outputs": [],
   "source": [
    "model.compile(optimizer=adam,loss='categorical_crossentropy',metrics=['accuracy'])"
   ]
  },
  {
   "cell_type": "code",
   "execution_count": 14,
   "metadata": {},
   "outputs": [
    {
     "name": "stdout",
     "output_type": "stream",
     "text": [
      "Training ------------------------\n",
      "Epoch 1/10\n",
      "10000/10000 [==============================] - 4s 399us/step - loss: 1.0595 - acc: 0.6254\n",
      "Epoch 2/10\n",
      "10000/10000 [==============================] - 4s 405us/step - loss: 0.9748 - acc: 0.6646\n",
      "Epoch 3/10\n",
      "10000/10000 [==============================] - 4s 400us/step - loss: 0.9148 - acc: 0.6836\n",
      "Epoch 4/10\n",
      "10000/10000 [==============================] - 4s 412us/step - loss: 0.8438 - acc: 0.7093\n",
      "Epoch 5/10\n",
      "10000/10000 [==============================] - 4s 429us/step - loss: 0.7798 - acc: 0.7355\n",
      "Epoch 6/10\n",
      "10000/10000 [==============================] - 4s 407us/step - loss: 0.7249 - acc: 0.7532\n",
      "Epoch 7/10\n",
      "10000/10000 [==============================] - 4s 415us/step - loss: 0.6536 - acc: 0.7814\n",
      "Epoch 8/10\n",
      "10000/10000 [==============================] - 4s 405us/step - loss: 0.5969 - acc: 0.8041\n",
      "Epoch 9/10\n",
      "10000/10000 [==============================] - 4s 405us/step - loss: 0.5406 - acc: 0.8231\n",
      "Epoch 10/10\n",
      "10000/10000 [==============================] - 4s 408us/step - loss: 0.4823 - acc: 0.8480\n"
     ]
    },
    {
     "data": {
      "text/plain": [
       "<keras.callbacks.History at 0x7fc9d038ec50>"
      ]
     },
     "execution_count": 14,
     "metadata": {},
     "output_type": "execute_result"
    }
   ],
   "source": [
    "print(\"Training ------------------------\")\n",
    "model.fit(pic_data[b'data'],pic_data[b'labels'],epochs=10,batch_size=32)"
   ]
  },
  {
   "cell_type": "code",
   "execution_count": 15,
   "metadata": {},
   "outputs": [
    {
     "name": "stdout",
     "output_type": "stream",
     "text": [
      "10000/10000 [==============================] - 1s 59us/step\n",
      "[2.2815400272369386, 0.4038]\n"
     ]
    }
   ],
   "source": [
    "print (model.evaluate(test_data[b'data'],test_data[b'labels']))"
   ]
  },
  {
   "cell_type": "code",
   "execution_count": null,
   "metadata": {},
   "outputs": [],
   "source": []
  }
 ],
 "metadata": {
  "kernelspec": {
   "display_name": "Python 3",
   "language": "python",
   "name": "python3"
  },
  "language_info": {
   "codemirror_mode": {
    "name": "ipython",
    "version": 3
   },
   "file_extension": ".py",
   "mimetype": "text/x-python",
   "name": "python",
   "nbconvert_exporter": "python",
   "pygments_lexer": "ipython3",
   "version": "3.7.0"
  }
 },
 "nbformat": 4,
 "nbformat_minor": 2
}
