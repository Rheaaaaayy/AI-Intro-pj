{
 "cells": [
  {
   "cell_type": "markdown",
   "metadata": {},
   "source": [
    "## Y- Encoded Labels\n",
    "__Angry--1__<br>\n",
    "__Disgust --2__<br>\n",
    "__Fear--3__<br>\n",
    "__Happy--4__<br>\n",
    "__Neutral--5__<br>\n",
    "__Sad--6__<br>\n",
    "__Surprise--7__"
   ]
  },
  {
   "cell_type": "markdown",
   "metadata": {},
   "source": [
    "## Mapping real-world to ML Problem"
   ]
  },
  {
   "cell_type": "code",
   "execution_count": 1,
   "metadata": {},
   "outputs": [
    {
     "name": "stderr",
     "output_type": "stream",
     "text": [
      "Using TensorFlow backend.\n"
     ]
    }
   ],
   "source": [
    "import os\n",
    "import numpy as np\n",
    "import pandas as pd\n",
    "import seaborn as sns\n",
    "import matplotlib.pyplot as plt\n",
    "from PIL import Image\n",
    "import glob\n",
    "import cv2\n",
    "from sklearn.model_selection import train_test_split\n",
    "from keras.layers import Dropout, Dense\n",
    "from keras.layers.normalization import BatchNormalization\n",
    "from keras.models import Sequential, load_model\n",
    "from keras.applications import VGG16\n",
    "from sklearn.metrics import accuracy_score, confusion_matrix"
   ]
  },
  {
   "cell_type": "markdown",
   "metadata": {},
   "source": [
    "## 1. Reading the Data of Human Images"
   ]
  },
  {
   "cell_type": "markdown",
   "metadata": {},
   "source": [
    "### Angry"
   ]
  },
  {
   "cell_type": "code",
   "execution_count": 2,
   "metadata": {},
   "outputs": [
    {
     "name": "stdout",
     "output_type": "stream",
     "text": [
      "Number of images in Angry emotion = 119\n"
     ]
    }
   ],
   "source": [
    "human_angry = glob.glob(\"../Data/Human/Angry/*\")\n",
    "# human_angry.remove('../Data/Human/Angry\\\\Thumbs.db')\n",
    "print(\"Number of images in Angry emotion = \"+str(len(human_angry)))"
   ]
  },
  {
   "cell_type": "code",
   "execution_count": 3,
   "metadata": {},
   "outputs": [
    {
     "data": {
      "text/plain": [
       "(119, 119, 119, 119)"
      ]
     },
     "execution_count": 3,
     "metadata": {},
     "output_type": "execute_result"
    }
   ],
   "source": [
    "human_angry_folderName = [str(i.split(\"\\\\\")[0])+\"/\" for i in human_angry]\n",
    "human_angry_imageName = [str(i.split(\"\\\\\")[1]) for i in human_angry]\n",
    "human_angry_emotion = [[\"Angry\"]*len(human_angry)][0]\n",
    "human_angry_label = [1]*len(human_angry)\n",
    "\n",
    "len(human_angry_folderName), len(human_angry_imageName), len(human_angry_emotion), len(human_angry_label)"
   ]
  },
  {
   "cell_type": "code",
   "execution_count": 4,
   "metadata": {},
   "outputs": [
    {
     "data": {
      "text/html": [
       "<div>\n",
       "<style scoped>\n",
       "    .dataframe tbody tr th:only-of-type {\n",
       "        vertical-align: middle;\n",
       "    }\n",
       "\n",
       "    .dataframe tbody tr th {\n",
       "        vertical-align: top;\n",
       "    }\n",
       "\n",
       "    .dataframe thead th {\n",
       "        text-align: right;\n",
       "    }\n",
       "</style>\n",
       "<table border=\"1\" class=\"dataframe\">\n",
       "  <thead>\n",
       "    <tr style=\"text-align: right;\">\n",
       "      <th></th>\n",
       "      <th>folderName</th>\n",
       "      <th>imageName</th>\n",
       "      <th>Emotion</th>\n",
       "      <th>Labels</th>\n",
       "    </tr>\n",
       "  </thead>\n",
       "  <tbody>\n",
       "    <tr>\n",
       "      <th>0</th>\n",
       "      <td>../Data/Human/Angry/</td>\n",
       "      <td>0.png</td>\n",
       "      <td>Angry</td>\n",
       "      <td>1</td>\n",
       "    </tr>\n",
       "    <tr>\n",
       "      <th>1</th>\n",
       "      <td>../Data/Human/Angry/</td>\n",
       "      <td>1.png</td>\n",
       "      <td>Angry</td>\n",
       "      <td>1</td>\n",
       "    </tr>\n",
       "    <tr>\n",
       "      <th>2</th>\n",
       "      <td>../Data/Human/Angry/</td>\n",
       "      <td>107.png</td>\n",
       "      <td>Angry</td>\n",
       "      <td>1</td>\n",
       "    </tr>\n",
       "    <tr>\n",
       "      <th>3</th>\n",
       "      <td>../Data/Human/Angry/</td>\n",
       "      <td>108.png</td>\n",
       "      <td>Angry</td>\n",
       "      <td>1</td>\n",
       "    </tr>\n",
       "    <tr>\n",
       "      <th>4</th>\n",
       "      <td>../Data/Human/Angry/</td>\n",
       "      <td>109.png</td>\n",
       "      <td>Angry</td>\n",
       "      <td>1</td>\n",
       "    </tr>\n",
       "  </tbody>\n",
       "</table>\n",
       "</div>"
      ],
      "text/plain": [
       "             folderName imageName Emotion  Labels\n",
       "0  ../Data/Human/Angry/     0.png   Angry       1\n",
       "1  ../Data/Human/Angry/     1.png   Angry       1\n",
       "2  ../Data/Human/Angry/   107.png   Angry       1\n",
       "3  ../Data/Human/Angry/   108.png   Angry       1\n",
       "4  ../Data/Human/Angry/   109.png   Angry       1"
      ]
     },
     "execution_count": 4,
     "metadata": {},
     "output_type": "execute_result"
    }
   ],
   "source": [
    "df_angry = pd.DataFrame()\n",
    "df_angry[\"folderName\"] = human_angry_folderName\n",
    "df_angry[\"imageName\"] = human_angry_imageName\n",
    "df_angry[\"Emotion\"] = human_angry_emotion\n",
    "df_angry[\"Labels\"] = human_angry_label\n",
    "df_angry.head()"
   ]
  },
  {
   "cell_type": "markdown",
   "metadata": {},
   "source": [
    "### Disgust"
   ]
  },
  {
   "cell_type": "code",
   "execution_count": 5,
   "metadata": {},
   "outputs": [
    {
     "name": "stdout",
     "output_type": "stream",
     "text": [
      "Number of images in Disgust emotion = 146\n"
     ]
    }
   ],
   "source": [
    "human_disgust = glob.glob(\"../Data/Human/Disgust/*\")\n",
    "# human_disgust.remove('../Data/Human/Disgust\\\\Thumbs.db')\n",
    "print(\"Number of images in Disgust emotion = \"+str(len(human_disgust)))"
   ]
  },
  {
   "cell_type": "code",
   "execution_count": 6,
   "metadata": {},
   "outputs": [
    {
     "data": {
      "text/plain": [
       "(146, 146, 146, 146)"
      ]
     },
     "execution_count": 6,
     "metadata": {},
     "output_type": "execute_result"
    }
   ],
   "source": [
    "human_disgust_folderName = [str(i.split(\"\\\\\")[0])+\"/\" for i in human_disgust]\n",
    "human_disgust_imageName = [str(i.split(\"\\\\\")[1]) for i in human_disgust]\n",
    "human_disgust_emotion = [[\"Disgust\"]*len(human_disgust)][0]\n",
    "human_disgust_label = [2]*len(human_disgust)\n",
    "\n",
    "len(human_disgust_folderName), len(human_disgust_imageName), len(human_disgust_emotion), len(human_disgust_label)"
   ]
  },
  {
   "cell_type": "code",
   "execution_count": 7,
   "metadata": {},
   "outputs": [
    {
     "data": {
      "text/html": [
       "<div>\n",
       "<style scoped>\n",
       "    .dataframe tbody tr th:only-of-type {\n",
       "        vertical-align: middle;\n",
       "    }\n",
       "\n",
       "    .dataframe tbody tr th {\n",
       "        vertical-align: top;\n",
       "    }\n",
       "\n",
       "    .dataframe thead th {\n",
       "        text-align: right;\n",
       "    }\n",
       "</style>\n",
       "<table border=\"1\" class=\"dataframe\">\n",
       "  <thead>\n",
       "    <tr style=\"text-align: right;\">\n",
       "      <th></th>\n",
       "      <th>folderName</th>\n",
       "      <th>imageName</th>\n",
       "      <th>Emotion</th>\n",
       "      <th>Labels</th>\n",
       "    </tr>\n",
       "  </thead>\n",
       "  <tbody>\n",
       "    <tr>\n",
       "      <th>0</th>\n",
       "      <td>../Data/Human/Disgust/</td>\n",
       "      <td>KA.DI1.42.tiff</td>\n",
       "      <td>Disgust</td>\n",
       "      <td>2</td>\n",
       "    </tr>\n",
       "    <tr>\n",
       "      <th>1</th>\n",
       "      <td>../Data/Human/Disgust/</td>\n",
       "      <td>KA.DI2.43.tiff</td>\n",
       "      <td>Disgust</td>\n",
       "      <td>2</td>\n",
       "    </tr>\n",
       "    <tr>\n",
       "      <th>2</th>\n",
       "      <td>../Data/Human/Disgust/</td>\n",
       "      <td>KA.DI3.44.tiff</td>\n",
       "      <td>Disgust</td>\n",
       "      <td>2</td>\n",
       "    </tr>\n",
       "    <tr>\n",
       "      <th>3</th>\n",
       "      <td>../Data/Human/Disgust/</td>\n",
       "      <td>KL.DI1.170.tiff</td>\n",
       "      <td>Disgust</td>\n",
       "      <td>2</td>\n",
       "    </tr>\n",
       "    <tr>\n",
       "      <th>4</th>\n",
       "      <td>../Data/Human/Disgust/</td>\n",
       "      <td>KL.DI2.171.tiff</td>\n",
       "      <td>Disgust</td>\n",
       "      <td>2</td>\n",
       "    </tr>\n",
       "  </tbody>\n",
       "</table>\n",
       "</div>"
      ],
      "text/plain": [
       "               folderName        imageName  Emotion  Labels\n",
       "0  ../Data/Human/Disgust/   KA.DI1.42.tiff  Disgust       2\n",
       "1  ../Data/Human/Disgust/   KA.DI2.43.tiff  Disgust       2\n",
       "2  ../Data/Human/Disgust/   KA.DI3.44.tiff  Disgust       2\n",
       "3  ../Data/Human/Disgust/  KL.DI1.170.tiff  Disgust       2\n",
       "4  ../Data/Human/Disgust/  KL.DI2.171.tiff  Disgust       2"
      ]
     },
     "execution_count": 7,
     "metadata": {},
     "output_type": "execute_result"
    }
   ],
   "source": [
    "df_disgust = pd.DataFrame()\n",
    "df_disgust[\"folderName\"] = human_disgust_folderName\n",
    "df_disgust[\"imageName\"] = human_disgust_imageName\n",
    "df_disgust[\"Emotion\"] = human_disgust_emotion\n",
    "df_disgust[\"Labels\"] = human_disgust_label\n",
    "df_disgust.head()"
   ]
  },
  {
   "cell_type": "markdown",
   "metadata": {},
   "source": [
    "### Fear"
   ]
  },
  {
   "cell_type": "code",
   "execution_count": 8,
   "metadata": {},
   "outputs": [
    {
     "name": "stdout",
     "output_type": "stream",
     "text": [
      "Number of images in Fear emotion = 80\n"
     ]
    }
   ],
   "source": [
    "human_fear = glob.glob(\"../Data/Human/Fear/*\")\n",
    "# human_fear.remove('../Data/Human/Fear\\\\Thumbs.db')\n",
    "print(\"Number of images in Fear emotion = \"+str(len(human_fear)))"
   ]
  },
  {
   "cell_type": "code",
   "execution_count": 9,
   "metadata": {},
   "outputs": [
    {
     "data": {
      "text/plain": [
       "(80, 80, 80, 80)"
      ]
     },
     "execution_count": 9,
     "metadata": {},
     "output_type": "execute_result"
    }
   ],
   "source": [
    "human_fear_folderName = [str(i.split(\"\\\\\")[0])+\"/\" for i in human_fear]\n",
    "human_fear_imageName = [str(i.split(\"\\\\\")[1]) for i in human_fear]\n",
    "human_fear_emotion = [[\"Fear\"]*len(human_fear)][0]\n",
    "human_fear_label = [3]*len(human_fear)\n",
    "\n",
    "len(human_fear_folderName), len(human_fear_imageName), len(human_fear_emotion), len(human_fear_label)"
   ]
  },
  {
   "cell_type": "code",
   "execution_count": 10,
   "metadata": {},
   "outputs": [
    {
     "data": {
      "text/html": [
       "<div>\n",
       "<style scoped>\n",
       "    .dataframe tbody tr th:only-of-type {\n",
       "        vertical-align: middle;\n",
       "    }\n",
       "\n",
       "    .dataframe tbody tr th {\n",
       "        vertical-align: top;\n",
       "    }\n",
       "\n",
       "    .dataframe thead th {\n",
       "        text-align: right;\n",
       "    }\n",
       "</style>\n",
       "<table border=\"1\" class=\"dataframe\">\n",
       "  <thead>\n",
       "    <tr style=\"text-align: right;\">\n",
       "      <th></th>\n",
       "      <th>folderName</th>\n",
       "      <th>imageName</th>\n",
       "      <th>Emotion</th>\n",
       "      <th>Labels</th>\n",
       "    </tr>\n",
       "  </thead>\n",
       "  <tbody>\n",
       "    <tr>\n",
       "      <th>0</th>\n",
       "      <td>../Data/Human/Fear/</td>\n",
       "      <td>KA.FE1.45.tiff</td>\n",
       "      <td>Fear</td>\n",
       "      <td>3</td>\n",
       "    </tr>\n",
       "    <tr>\n",
       "      <th>1</th>\n",
       "      <td>../Data/Human/Fear/</td>\n",
       "      <td>KA.FE2.46.tiff</td>\n",
       "      <td>Fear</td>\n",
       "      <td>3</td>\n",
       "    </tr>\n",
       "    <tr>\n",
       "      <th>2</th>\n",
       "      <td>../Data/Human/Fear/</td>\n",
       "      <td>KA.FE3.47.tiff</td>\n",
       "      <td>Fear</td>\n",
       "      <td>3</td>\n",
       "    </tr>\n",
       "    <tr>\n",
       "      <th>3</th>\n",
       "      <td>../Data/Human/Fear/</td>\n",
       "      <td>KA.FE4.48.tiff</td>\n",
       "      <td>Fear</td>\n",
       "      <td>3</td>\n",
       "    </tr>\n",
       "    <tr>\n",
       "      <th>4</th>\n",
       "      <td>../Data/Human/Fear/</td>\n",
       "      <td>KL.FE1.174.tiff</td>\n",
       "      <td>Fear</td>\n",
       "      <td>3</td>\n",
       "    </tr>\n",
       "  </tbody>\n",
       "</table>\n",
       "</div>"
      ],
      "text/plain": [
       "            folderName        imageName Emotion  Labels\n",
       "0  ../Data/Human/Fear/   KA.FE1.45.tiff    Fear       3\n",
       "1  ../Data/Human/Fear/   KA.FE2.46.tiff    Fear       3\n",
       "2  ../Data/Human/Fear/   KA.FE3.47.tiff    Fear       3\n",
       "3  ../Data/Human/Fear/   KA.FE4.48.tiff    Fear       3\n",
       "4  ../Data/Human/Fear/  KL.FE1.174.tiff    Fear       3"
      ]
     },
     "execution_count": 10,
     "metadata": {},
     "output_type": "execute_result"
    }
   ],
   "source": [
    "df_fear = pd.DataFrame()\n",
    "df_fear[\"folderName\"] = human_fear_folderName\n",
    "df_fear[\"imageName\"] = human_fear_imageName\n",
    "df_fear[\"Emotion\"] = human_fear_emotion\n",
    "df_fear[\"Labels\"] = human_fear_label\n",
    "df_fear.head()"
   ]
  },
  {
   "cell_type": "markdown",
   "metadata": {},
   "source": [
    "### Happy"
   ]
  },
  {
   "cell_type": "code",
   "execution_count": 11,
   "metadata": {},
   "outputs": [
    {
     "name": "stdout",
     "output_type": "stream",
     "text": [
      "Number of images in Happy emotion = 169\n"
     ]
    }
   ],
   "source": [
    "human_happy = glob.glob(\"../Data/Human/Happy/*\")\n",
    "# human_happy.remove('../Data/Human/Happy\\\\Thumbs.db')\n",
    "print(\"Number of images in Happy emotion = \"+str(len(human_happy)))"
   ]
  },
  {
   "cell_type": "code",
   "execution_count": 12,
   "metadata": {},
   "outputs": [
    {
     "data": {
      "text/plain": [
       "(169, 169, 169, 169)"
      ]
     },
     "execution_count": 12,
     "metadata": {},
     "output_type": "execute_result"
    }
   ],
   "source": [
    "human_happy_folderName = [str(i.split(\"\\\\\")[0])+\"/\" for i in human_happy]\n",
    "human_happy_imageName = [str(i.split(\"\\\\\")[1]) for i in human_happy]\n",
    "human_happy_emotion = [[\"Happy\"]*len(human_happy)][0]\n",
    "human_happy_label = [4]*len(human_happy)\n",
    "\n",
    "len(human_happy_folderName), len(human_happy_imageName), len(human_happy_emotion), len(human_happy_label)"
   ]
  },
  {
   "cell_type": "code",
   "execution_count": 13,
   "metadata": {},
   "outputs": [
    {
     "data": {
      "text/html": [
       "<div>\n",
       "<style scoped>\n",
       "    .dataframe tbody tr th:only-of-type {\n",
       "        vertical-align: middle;\n",
       "    }\n",
       "\n",
       "    .dataframe tbody tr th {\n",
       "        vertical-align: top;\n",
       "    }\n",
       "\n",
       "    .dataframe thead th {\n",
       "        text-align: right;\n",
       "    }\n",
       "</style>\n",
       "<table border=\"1\" class=\"dataframe\">\n",
       "  <thead>\n",
       "    <tr style=\"text-align: right;\">\n",
       "      <th></th>\n",
       "      <th>folderName</th>\n",
       "      <th>imageName</th>\n",
       "      <th>Emotion</th>\n",
       "      <th>Labels</th>\n",
       "    </tr>\n",
       "  </thead>\n",
       "  <tbody>\n",
       "    <tr>\n",
       "      <th>0</th>\n",
       "      <td>../Data/Human/Happy/</td>\n",
       "      <td>KA.HA1.29.tiff</td>\n",
       "      <td>Happy</td>\n",
       "      <td>4</td>\n",
       "    </tr>\n",
       "    <tr>\n",
       "      <th>1</th>\n",
       "      <td>../Data/Human/Happy/</td>\n",
       "      <td>KA.HA2.30.tiff</td>\n",
       "      <td>Happy</td>\n",
       "      <td>4</td>\n",
       "    </tr>\n",
       "    <tr>\n",
       "      <th>2</th>\n",
       "      <td>../Data/Human/Happy/</td>\n",
       "      <td>KA.HA3.31.tiff</td>\n",
       "      <td>Happy</td>\n",
       "      <td>4</td>\n",
       "    </tr>\n",
       "    <tr>\n",
       "      <th>3</th>\n",
       "      <td>../Data/Human/Happy/</td>\n",
       "      <td>KA.HA4.32.tiff</td>\n",
       "      <td>Happy</td>\n",
       "      <td>4</td>\n",
       "    </tr>\n",
       "    <tr>\n",
       "      <th>4</th>\n",
       "      <td>../Data/Human/Happy/</td>\n",
       "      <td>KL.HA1.158.tiff</td>\n",
       "      <td>Happy</td>\n",
       "      <td>4</td>\n",
       "    </tr>\n",
       "  </tbody>\n",
       "</table>\n",
       "</div>"
      ],
      "text/plain": [
       "             folderName        imageName Emotion  Labels\n",
       "0  ../Data/Human/Happy/   KA.HA1.29.tiff   Happy       4\n",
       "1  ../Data/Human/Happy/   KA.HA2.30.tiff   Happy       4\n",
       "2  ../Data/Human/Happy/   KA.HA3.31.tiff   Happy       4\n",
       "3  ../Data/Human/Happy/   KA.HA4.32.tiff   Happy       4\n",
       "4  ../Data/Human/Happy/  KL.HA1.158.tiff   Happy       4"
      ]
     },
     "execution_count": 13,
     "metadata": {},
     "output_type": "execute_result"
    }
   ],
   "source": [
    "df_happy = pd.DataFrame()\n",
    "df_happy[\"folderName\"] = human_happy_folderName\n",
    "df_happy[\"imageName\"] = human_happy_imageName\n",
    "df_happy[\"Emotion\"] = human_happy_emotion\n",
    "df_happy[\"Labels\"] = human_happy_label\n",
    "df_happy.head()"
   ]
  },
  {
   "cell_type": "markdown",
   "metadata": {},
   "source": [
    "### Neutral"
   ]
  },
  {
   "cell_type": "code",
   "execution_count": 14,
   "metadata": {},
   "outputs": [
    {
     "name": "stdout",
     "output_type": "stream",
     "text": [
      "Number of images in Neutral emotion = 56\n"
     ]
    }
   ],
   "source": [
    "human_neutral = glob.glob(\"../Data/Human/Neutral/*\")\n",
    "# human_neutral.remove('../Data/Human/Neutral\\\\Thumbs.db')\n",
    "print(\"Number of images in Neutral emotion = \"+str(len(human_neutral)))"
   ]
  },
  {
   "cell_type": "code",
   "execution_count": 15,
   "metadata": {},
   "outputs": [
    {
     "data": {
      "text/plain": [
       "(56, 56, 56, 56)"
      ]
     },
     "execution_count": 15,
     "metadata": {},
     "output_type": "execute_result"
    }
   ],
   "source": [
    "human_neutral_folderName = [str(i.split(\"\\\\\")[0])+\"/\" for i in human_neutral]\n",
    "human_neutral_imageName = [str(i.split(\"\\\\\")[1]) for i in human_neutral]\n",
    "human_neutral_emotion = [[\"Neutral\"]*len(human_neutral)][0]\n",
    "human_neutral_label = [5]*len(human_neutral)\n",
    "\n",
    "len(human_neutral_folderName), len(human_neutral_imageName), len(human_neutral_emotion), len(human_neutral_label)"
   ]
  },
  {
   "cell_type": "code",
   "execution_count": 16,
   "metadata": {},
   "outputs": [
    {
     "data": {
      "text/html": [
       "<div>\n",
       "<style scoped>\n",
       "    .dataframe tbody tr th:only-of-type {\n",
       "        vertical-align: middle;\n",
       "    }\n",
       "\n",
       "    .dataframe tbody tr th {\n",
       "        vertical-align: top;\n",
       "    }\n",
       "\n",
       "    .dataframe thead th {\n",
       "        text-align: right;\n",
       "    }\n",
       "</style>\n",
       "<table border=\"1\" class=\"dataframe\">\n",
       "  <thead>\n",
       "    <tr style=\"text-align: right;\">\n",
       "      <th></th>\n",
       "      <th>folderName</th>\n",
       "      <th>imageName</th>\n",
       "      <th>Emotion</th>\n",
       "      <th>Labels</th>\n",
       "    </tr>\n",
       "  </thead>\n",
       "  <tbody>\n",
       "    <tr>\n",
       "      <th>0</th>\n",
       "      <td>../Data/Human/Neutral/</td>\n",
       "      <td>KA.NE2.27.tiff</td>\n",
       "      <td>Neutral</td>\n",
       "      <td>5</td>\n",
       "    </tr>\n",
       "    <tr>\n",
       "      <th>1</th>\n",
       "      <td>../Data/Human/Neutral/</td>\n",
       "      <td>KA.NE3.28.tiff</td>\n",
       "      <td>Neutral</td>\n",
       "      <td>5</td>\n",
       "    </tr>\n",
       "    <tr>\n",
       "      <th>2</th>\n",
       "      <td>../Data/Human/Neutral/</td>\n",
       "      <td>KL.NE2.156.tiff</td>\n",
       "      <td>Neutral</td>\n",
       "      <td>5</td>\n",
       "    </tr>\n",
       "    <tr>\n",
       "      <th>3</th>\n",
       "      <td>../Data/Human/Neutral/</td>\n",
       "      <td>KL.NE3.157.tiff</td>\n",
       "      <td>Neutral</td>\n",
       "      <td>5</td>\n",
       "    </tr>\n",
       "    <tr>\n",
       "      <th>4</th>\n",
       "      <td>../Data/Human/Neutral/</td>\n",
       "      <td>KM.NE2.2.tiff</td>\n",
       "      <td>Neutral</td>\n",
       "      <td>5</td>\n",
       "    </tr>\n",
       "  </tbody>\n",
       "</table>\n",
       "</div>"
      ],
      "text/plain": [
       "               folderName        imageName  Emotion  Labels\n",
       "0  ../Data/Human/Neutral/   KA.NE2.27.tiff  Neutral       5\n",
       "1  ../Data/Human/Neutral/   KA.NE3.28.tiff  Neutral       5\n",
       "2  ../Data/Human/Neutral/  KL.NE2.156.tiff  Neutral       5\n",
       "3  ../Data/Human/Neutral/  KL.NE3.157.tiff  Neutral       5\n",
       "4  ../Data/Human/Neutral/    KM.NE2.2.tiff  Neutral       5"
      ]
     },
     "execution_count": 16,
     "metadata": {},
     "output_type": "execute_result"
    }
   ],
   "source": [
    "df_neutral = pd.DataFrame()\n",
    "df_neutral[\"folderName\"] = human_neutral_folderName\n",
    "df_neutral[\"imageName\"] = human_neutral_imageName\n",
    "df_neutral[\"Emotion\"] = human_neutral_emotion\n",
    "df_neutral[\"Labels\"] = human_neutral_label\n",
    "df_neutral.head()"
   ]
  },
  {
   "cell_type": "markdown",
   "metadata": {},
   "source": [
    "### Sad"
   ]
  },
  {
   "cell_type": "code",
   "execution_count": 17,
   "metadata": {},
   "outputs": [
    {
     "name": "stdout",
     "output_type": "stream",
     "text": [
      "Number of images in Sad emotion = 86\n"
     ]
    }
   ],
   "source": [
    "human_sad = glob.glob(\"../Data/Human/Sad/*\")\n",
    "# human_sad.remove('../Data/Human/Sad\\\\Thumbs.db')\n",
    "print(\"Number of images in Sad emotion = \"+str(len(human_sad)))"
   ]
  },
  {
   "cell_type": "code",
   "execution_count": 18,
   "metadata": {},
   "outputs": [
    {
     "data": {
      "text/plain": [
       "(86, 86, 86, 86)"
      ]
     },
     "execution_count": 18,
     "metadata": {},
     "output_type": "execute_result"
    }
   ],
   "source": [
    "human_sad_folderName = [str(i.split(\"\\\\\")[0])+\"/\" for i in human_sad]\n",
    "human_sad_imageName = [str(i.split(\"\\\\\")[1]) for i in human_sad]\n",
    "human_sad_emotion = [[\"Sad\"]*len(human_sad)][0]\n",
    "human_sad_label = [6]*len(human_sad)\n",
    "\n",
    "len(human_sad_folderName), len(human_sad_imageName), len(human_sad_emotion), len(human_sad_label)"
   ]
  },
  {
   "cell_type": "code",
   "execution_count": 19,
   "metadata": {},
   "outputs": [
    {
     "data": {
      "text/html": [
       "<div>\n",
       "<style scoped>\n",
       "    .dataframe tbody tr th:only-of-type {\n",
       "        vertical-align: middle;\n",
       "    }\n",
       "\n",
       "    .dataframe tbody tr th {\n",
       "        vertical-align: top;\n",
       "    }\n",
       "\n",
       "    .dataframe thead th {\n",
       "        text-align: right;\n",
       "    }\n",
       "</style>\n",
       "<table border=\"1\" class=\"dataframe\">\n",
       "  <thead>\n",
       "    <tr style=\"text-align: right;\">\n",
       "      <th></th>\n",
       "      <th>folderName</th>\n",
       "      <th>imageName</th>\n",
       "      <th>Emotion</th>\n",
       "      <th>Labels</th>\n",
       "    </tr>\n",
       "  </thead>\n",
       "  <tbody>\n",
       "    <tr>\n",
       "      <th>0</th>\n",
       "      <td>../Data/Human/Sad/</td>\n",
       "      <td>KA.SA1.33.tiff</td>\n",
       "      <td>Sad</td>\n",
       "      <td>6</td>\n",
       "    </tr>\n",
       "    <tr>\n",
       "      <th>1</th>\n",
       "      <td>../Data/Human/Sad/</td>\n",
       "      <td>KA.SA2.34.tiff</td>\n",
       "      <td>Sad</td>\n",
       "      <td>6</td>\n",
       "    </tr>\n",
       "    <tr>\n",
       "      <th>2</th>\n",
       "      <td>../Data/Human/Sad/</td>\n",
       "      <td>KA.SA3.35.tiff</td>\n",
       "      <td>Sad</td>\n",
       "      <td>6</td>\n",
       "    </tr>\n",
       "    <tr>\n",
       "      <th>3</th>\n",
       "      <td>../Data/Human/Sad/</td>\n",
       "      <td>KL.SA1.161.tiff</td>\n",
       "      <td>Sad</td>\n",
       "      <td>6</td>\n",
       "    </tr>\n",
       "    <tr>\n",
       "      <th>4</th>\n",
       "      <td>../Data/Human/Sad/</td>\n",
       "      <td>KL.SA2.162.tiff</td>\n",
       "      <td>Sad</td>\n",
       "      <td>6</td>\n",
       "    </tr>\n",
       "  </tbody>\n",
       "</table>\n",
       "</div>"
      ],
      "text/plain": [
       "           folderName        imageName Emotion  Labels\n",
       "0  ../Data/Human/Sad/   KA.SA1.33.tiff     Sad       6\n",
       "1  ../Data/Human/Sad/   KA.SA2.34.tiff     Sad       6\n",
       "2  ../Data/Human/Sad/   KA.SA3.35.tiff     Sad       6\n",
       "3  ../Data/Human/Sad/  KL.SA1.161.tiff     Sad       6\n",
       "4  ../Data/Human/Sad/  KL.SA2.162.tiff     Sad       6"
      ]
     },
     "execution_count": 19,
     "metadata": {},
     "output_type": "execute_result"
    }
   ],
   "source": [
    "df_sad = pd.DataFrame()\n",
    "df_sad[\"folderName\"] = human_sad_folderName\n",
    "df_sad[\"imageName\"] = human_sad_imageName\n",
    "df_sad[\"Emotion\"] = human_sad_emotion\n",
    "df_sad[\"Labels\"] = human_sad_label\n",
    "df_sad.head()"
   ]
  },
  {
   "cell_type": "markdown",
   "metadata": {},
   "source": [
    "### Surprise"
   ]
  },
  {
   "cell_type": "code",
   "execution_count": 20,
   "metadata": {},
   "outputs": [
    {
     "name": "stdout",
     "output_type": "stream",
     "text": [
      "Number of images in Surprise emotion = 196\n"
     ]
    }
   ],
   "source": [
    "human_surprise = glob.glob(\"../Data/Human/Surprise/*\")\n",
    "# human_surprise.remove('../Data/Human/Surprise\\\\Thumbs.db')\n",
    "print(\"Number of images in Surprise emotion = \"+str(len(human_surprise)))"
   ]
  },
  {
   "cell_type": "code",
   "execution_count": 21,
   "metadata": {},
   "outputs": [
    {
     "data": {
      "text/plain": [
       "(196, 196, 196, 196)"
      ]
     },
     "execution_count": 21,
     "metadata": {},
     "output_type": "execute_result"
    }
   ],
   "source": [
    "human_surprise_folderName = [str(i.split(\"\\\\\")[0])+\"/\" for i in human_surprise]\n",
    "human_surprise_imageName = [str(i.split(\"\\\\\")[1]) for i in human_surprise]\n",
    "human_surprise_emotion = [[\"Surprise\"]*len(human_surprise)][0]\n",
    "human_surprise_label = [7]*len(human_surprise)\n",
    "\n",
    "len(human_surprise_folderName), len(human_surprise_imageName), len(human_surprise_emotion), len(human_surprise_label)"
   ]
  },
  {
   "cell_type": "code",
   "execution_count": 22,
   "metadata": {},
   "outputs": [
    {
     "data": {
      "text/html": [
       "<div>\n",
       "<style scoped>\n",
       "    .dataframe tbody tr th:only-of-type {\n",
       "        vertical-align: middle;\n",
       "    }\n",
       "\n",
       "    .dataframe tbody tr th {\n",
       "        vertical-align: top;\n",
       "    }\n",
       "\n",
       "    .dataframe thead th {\n",
       "        text-align: right;\n",
       "    }\n",
       "</style>\n",
       "<table border=\"1\" class=\"dataframe\">\n",
       "  <thead>\n",
       "    <tr style=\"text-align: right;\">\n",
       "      <th></th>\n",
       "      <th>folderName</th>\n",
       "      <th>imageName</th>\n",
       "      <th>Emotion</th>\n",
       "      <th>Labels</th>\n",
       "    </tr>\n",
       "  </thead>\n",
       "  <tbody>\n",
       "    <tr>\n",
       "      <th>0</th>\n",
       "      <td>../Data/Human/Surprise/</td>\n",
       "      <td>KA.SU1.36.tiff</td>\n",
       "      <td>Surprise</td>\n",
       "      <td>7</td>\n",
       "    </tr>\n",
       "    <tr>\n",
       "      <th>1</th>\n",
       "      <td>../Data/Human/Surprise/</td>\n",
       "      <td>KA.SU2.37.tiff</td>\n",
       "      <td>Surprise</td>\n",
       "      <td>7</td>\n",
       "    </tr>\n",
       "    <tr>\n",
       "      <th>2</th>\n",
       "      <td>../Data/Human/Surprise/</td>\n",
       "      <td>KA.SU3.38.tiff</td>\n",
       "      <td>Surprise</td>\n",
       "      <td>7</td>\n",
       "    </tr>\n",
       "    <tr>\n",
       "      <th>3</th>\n",
       "      <td>../Data/Human/Surprise/</td>\n",
       "      <td>KL.SU1.164.tiff</td>\n",
       "      <td>Surprise</td>\n",
       "      <td>7</td>\n",
       "    </tr>\n",
       "    <tr>\n",
       "      <th>4</th>\n",
       "      <td>../Data/Human/Surprise/</td>\n",
       "      <td>KL.SU2.165.tiff</td>\n",
       "      <td>Surprise</td>\n",
       "      <td>7</td>\n",
       "    </tr>\n",
       "  </tbody>\n",
       "</table>\n",
       "</div>"
      ],
      "text/plain": [
       "                folderName        imageName   Emotion  Labels\n",
       "0  ../Data/Human/Surprise/   KA.SU1.36.tiff  Surprise       7\n",
       "1  ../Data/Human/Surprise/   KA.SU2.37.tiff  Surprise       7\n",
       "2  ../Data/Human/Surprise/   KA.SU3.38.tiff  Surprise       7\n",
       "3  ../Data/Human/Surprise/  KL.SU1.164.tiff  Surprise       7\n",
       "4  ../Data/Human/Surprise/  KL.SU2.165.tiff  Surprise       7"
      ]
     },
     "execution_count": 22,
     "metadata": {},
     "output_type": "execute_result"
    }
   ],
   "source": [
    "df_surprise = pd.DataFrame()\n",
    "df_surprise[\"folderName\"] = human_surprise_folderName\n",
    "df_surprise[\"imageName\"] = human_surprise_imageName\n",
    "df_surprise[\"Emotion\"] = human_surprise_emotion\n",
    "df_surprise[\"Labels\"] = human_surprise_label\n",
    "df_surprise.head()"
   ]
  },
  {
   "cell_type": "code",
   "execution_count": 23,
   "metadata": {},
   "outputs": [
    {
     "name": "stdout",
     "output_type": "stream",
     "text": [
      "Total number of images in all the emotions = 852\n"
     ]
    }
   ],
   "source": [
    "length = df_angry.shape[0] + df_disgust.shape[0] + df_fear.shape[0] + df_happy.shape[0] + df_neutral.shape[0] + df_sad.shape[0] + df_surprise.shape[0]\n",
    "print(\"Total number of images in all the emotions = \"+str(length))"
   ]
  },
  {
   "cell_type": "markdown",
   "metadata": {},
   "source": [
    "### Concatenating all dataframes"
   ]
  },
  {
   "cell_type": "code",
   "execution_count": 24,
   "metadata": {},
   "outputs": [
    {
     "data": {
      "text/plain": [
       "(852, 4)"
      ]
     },
     "execution_count": 24,
     "metadata": {},
     "output_type": "execute_result"
    }
   ],
   "source": [
    "frames = [df_angry, df_disgust, df_fear, df_happy, df_neutral, df_sad, df_surprise]\n",
    "Final_human = pd.concat(frames)\n",
    "Final_human.shape"
   ]
  },
  {
   "cell_type": "code",
   "execution_count": 25,
   "metadata": {},
   "outputs": [
    {
     "data": {
      "text/html": [
       "<div>\n",
       "<style scoped>\n",
       "    .dataframe tbody tr th:only-of-type {\n",
       "        vertical-align: middle;\n",
       "    }\n",
       "\n",
       "    .dataframe tbody tr th {\n",
       "        vertical-align: top;\n",
       "    }\n",
       "\n",
       "    .dataframe thead th {\n",
       "        text-align: right;\n",
       "    }\n",
       "</style>\n",
       "<table border=\"1\" class=\"dataframe\">\n",
       "  <thead>\n",
       "    <tr style=\"text-align: right;\">\n",
       "      <th></th>\n",
       "      <th>folderName</th>\n",
       "      <th>imageName</th>\n",
       "      <th>Emotion</th>\n",
       "      <th>Labels</th>\n",
       "    </tr>\n",
       "  </thead>\n",
       "  <tbody>\n",
       "    <tr>\n",
       "      <th>0</th>\n",
       "      <td>../Data/Human/Happy/</td>\n",
       "      <td>NM.HA2.96.tiff</td>\n",
       "      <td>Happy</td>\n",
       "      <td>4</td>\n",
       "    </tr>\n",
       "    <tr>\n",
       "      <th>1</th>\n",
       "      <td>../Data/Human/Sad/</td>\n",
       "      <td>S125_001_00000014.png</td>\n",
       "      <td>Sad</td>\n",
       "      <td>6</td>\n",
       "    </tr>\n",
       "    <tr>\n",
       "      <th>2</th>\n",
       "      <td>../Data/Human/Neutral/</td>\n",
       "      <td>KR.NE2.72.tiff</td>\n",
       "      <td>Neutral</td>\n",
       "      <td>5</td>\n",
       "    </tr>\n",
       "    <tr>\n",
       "      <th>3</th>\n",
       "      <td>../Data/Human/Sad/</td>\n",
       "      <td>S095_010_00000014.png</td>\n",
       "      <td>Sad</td>\n",
       "      <td>6</td>\n",
       "    </tr>\n",
       "    <tr>\n",
       "      <th>4</th>\n",
       "      <td>../Data/Human/Angry/</td>\n",
       "      <td>S113_008_00000018.png</td>\n",
       "      <td>Angry</td>\n",
       "      <td>1</td>\n",
       "    </tr>\n",
       "  </tbody>\n",
       "</table>\n",
       "</div>"
      ],
      "text/plain": [
       "               folderName              imageName  Emotion  Labels\n",
       "0    ../Data/Human/Happy/         NM.HA2.96.tiff    Happy       4\n",
       "1      ../Data/Human/Sad/  S125_001_00000014.png      Sad       6\n",
       "2  ../Data/Human/Neutral/         KR.NE2.72.tiff  Neutral       5\n",
       "3      ../Data/Human/Sad/  S095_010_00000014.png      Sad       6\n",
       "4    ../Data/Human/Angry/  S113_008_00000018.png    Angry       1"
      ]
     },
     "execution_count": 25,
     "metadata": {},
     "output_type": "execute_result"
    }
   ],
   "source": [
    "Final_human.reset_index(inplace = True, drop = True)\n",
    "Final_human = Final_human.sample(frac = 1.0)   #shuffling the dataframe\n",
    "Final_human.reset_index(inplace = True, drop = True)\n",
    "Final_human.head()"
   ]
  },
  {
   "cell_type": "markdown",
   "metadata": {},
   "source": [
    "## 2. Train, CV and Test Split for Human Images"
   ]
  },
  {
   "cell_type": "code",
   "execution_count": 26,
   "metadata": {},
   "outputs": [
    {
     "data": {
      "text/plain": [
       "((569, 4), (114, 4), (169, 4))"
      ]
     },
     "execution_count": 26,
     "metadata": {},
     "output_type": "execute_result"
    }
   ],
   "source": [
    "df_human_train_data, df_human_test = train_test_split(Final_human, stratify=Final_human[\"Labels\"], test_size = 0.197860)\n",
    "df_human_train, df_human_cv = train_test_split(df_human_train_data, stratify=df_human_train_data[\"Labels\"], test_size = 0.166666)\n",
    "df_human_train.shape, df_human_cv.shape, df_human_test.shape "
   ]
  },
  {
   "cell_type": "code",
   "execution_count": 27,
   "metadata": {},
   "outputs": [],
   "source": [
    "df_human_train.reset_index(inplace = True, drop = True)\n",
    "df_human_train.to_pickle(\"../Data/Dataframes/Human/df_human_train.pkl\")\n",
    "\n",
    "df_human_cv.reset_index(inplace = True, drop = True)\n",
    "df_human_cv.to_pickle(\"../Data/Dataframes/Human/df_human_cv.pkl\")\n",
    "\n",
    "df_human_test.reset_index(inplace = True, drop = True)\n",
    "df_human_test.to_pickle(\"../Data/Dataframes/Human/df_human_test.pkl\")"
   ]
  },
  {
   "cell_type": "code",
   "execution_count": 28,
   "metadata": {},
   "outputs": [
    {
     "data": {
      "text/html": [
       "<div>\n",
       "<style scoped>\n",
       "    .dataframe tbody tr th:only-of-type {\n",
       "        vertical-align: middle;\n",
       "    }\n",
       "\n",
       "    .dataframe tbody tr th {\n",
       "        vertical-align: top;\n",
       "    }\n",
       "\n",
       "    .dataframe thead th {\n",
       "        text-align: right;\n",
       "    }\n",
       "</style>\n",
       "<table border=\"1\" class=\"dataframe\">\n",
       "  <thead>\n",
       "    <tr style=\"text-align: right;\">\n",
       "      <th></th>\n",
       "      <th>folderName</th>\n",
       "      <th>imageName</th>\n",
       "      <th>Emotion</th>\n",
       "      <th>Labels</th>\n",
       "    </tr>\n",
       "  </thead>\n",
       "  <tbody>\n",
       "    <tr>\n",
       "      <th>0</th>\n",
       "      <td>../Data/Human/Surprise/</td>\n",
       "      <td>S127_001_00000016.png</td>\n",
       "      <td>Surprise</td>\n",
       "      <td>7</td>\n",
       "    </tr>\n",
       "    <tr>\n",
       "      <th>1</th>\n",
       "      <td>../Data/Human/Angry/</td>\n",
       "      <td>192.png</td>\n",
       "      <td>Angry</td>\n",
       "      <td>1</td>\n",
       "    </tr>\n",
       "    <tr>\n",
       "      <th>2</th>\n",
       "      <td>../Data/Human/Happy/</td>\n",
       "      <td>S050_006_00000018.png</td>\n",
       "      <td>Happy</td>\n",
       "      <td>4</td>\n",
       "    </tr>\n",
       "    <tr>\n",
       "      <th>3</th>\n",
       "      <td>../Data/Human/Fear/</td>\n",
       "      <td>S065_002_00000019.png</td>\n",
       "      <td>Fear</td>\n",
       "      <td>3</td>\n",
       "    </tr>\n",
       "    <tr>\n",
       "      <th>4</th>\n",
       "      <td>../Data/Human/Surprise/</td>\n",
       "      <td>S057_001_00000019.png</td>\n",
       "      <td>Surprise</td>\n",
       "      <td>7</td>\n",
       "    </tr>\n",
       "  </tbody>\n",
       "</table>\n",
       "</div>"
      ],
      "text/plain": [
       "                folderName              imageName   Emotion  Labels\n",
       "0  ../Data/Human/Surprise/  S127_001_00000016.png  Surprise       7\n",
       "1     ../Data/Human/Angry/                192.png     Angry       1\n",
       "2     ../Data/Human/Happy/  S050_006_00000018.png     Happy       4\n",
       "3      ../Data/Human/Fear/  S065_002_00000019.png      Fear       3\n",
       "4  ../Data/Human/Surprise/  S057_001_00000019.png  Surprise       7"
      ]
     },
     "execution_count": 28,
     "metadata": {},
     "output_type": "execute_result"
    }
   ],
   "source": [
    "df_human_train = pd.read_pickle(\"../Data/Dataframes/Human/df_human_train.pkl\")\n",
    "df_human_train.head()"
   ]
  },
  {
   "cell_type": "code",
   "execution_count": 29,
   "metadata": {},
   "outputs": [
    {
     "data": {
      "text/plain": [
       "(569, 4)"
      ]
     },
     "execution_count": 29,
     "metadata": {},
     "output_type": "execute_result"
    }
   ],
   "source": [
    "df_human_train.shape"
   ]
  },
  {
   "cell_type": "code",
   "execution_count": 30,
   "metadata": {},
   "outputs": [
    {
     "data": {
      "text/html": [
       "<div>\n",
       "<style scoped>\n",
       "    .dataframe tbody tr th:only-of-type {\n",
       "        vertical-align: middle;\n",
       "    }\n",
       "\n",
       "    .dataframe tbody tr th {\n",
       "        vertical-align: top;\n",
       "    }\n",
       "\n",
       "    .dataframe thead th {\n",
       "        text-align: right;\n",
       "    }\n",
       "</style>\n",
       "<table border=\"1\" class=\"dataframe\">\n",
       "  <thead>\n",
       "    <tr style=\"text-align: right;\">\n",
       "      <th></th>\n",
       "      <th>folderName</th>\n",
       "      <th>imageName</th>\n",
       "      <th>Emotion</th>\n",
       "      <th>Labels</th>\n",
       "    </tr>\n",
       "  </thead>\n",
       "  <tbody>\n",
       "    <tr>\n",
       "      <th>0</th>\n",
       "      <td>../Data/Human/Disgust/</td>\n",
       "      <td>S085_004_00000016.png</td>\n",
       "      <td>Disgust</td>\n",
       "      <td>2</td>\n",
       "    </tr>\n",
       "    <tr>\n",
       "      <th>1</th>\n",
       "      <td>../Data/Human/Happy/</td>\n",
       "      <td>S052_004_00000019.png</td>\n",
       "      <td>Happy</td>\n",
       "      <td>4</td>\n",
       "    </tr>\n",
       "    <tr>\n",
       "      <th>2</th>\n",
       "      <td>../Data/Human/Angry/</td>\n",
       "      <td>S050_004_00000019.png</td>\n",
       "      <td>Angry</td>\n",
       "      <td>1</td>\n",
       "    </tr>\n",
       "    <tr>\n",
       "      <th>3</th>\n",
       "      <td>../Data/Human/Sad/</td>\n",
       "      <td>TM.SA1.184.tiff</td>\n",
       "      <td>Sad</td>\n",
       "      <td>6</td>\n",
       "    </tr>\n",
       "    <tr>\n",
       "      <th>4</th>\n",
       "      <td>../Data/Human/Sad/</td>\n",
       "      <td>S131_003_00000018.png</td>\n",
       "      <td>Sad</td>\n",
       "      <td>6</td>\n",
       "    </tr>\n",
       "  </tbody>\n",
       "</table>\n",
       "</div>"
      ],
      "text/plain": [
       "               folderName              imageName  Emotion  Labels\n",
       "0  ../Data/Human/Disgust/  S085_004_00000016.png  Disgust       2\n",
       "1    ../Data/Human/Happy/  S052_004_00000019.png    Happy       4\n",
       "2    ../Data/Human/Angry/  S050_004_00000019.png    Angry       1\n",
       "3      ../Data/Human/Sad/        TM.SA1.184.tiff      Sad       6\n",
       "4      ../Data/Human/Sad/  S131_003_00000018.png      Sad       6"
      ]
     },
     "execution_count": 30,
     "metadata": {},
     "output_type": "execute_result"
    }
   ],
   "source": [
    "df_human_cv = pd.read_pickle(\"../Data/Dataframes/Human/df_human_cv.pkl\")\n",
    "df_human_cv.head()"
   ]
  },
  {
   "cell_type": "code",
   "execution_count": 31,
   "metadata": {},
   "outputs": [
    {
     "data": {
      "text/plain": [
       "(114, 4)"
      ]
     },
     "execution_count": 31,
     "metadata": {},
     "output_type": "execute_result"
    }
   ],
   "source": [
    "df_human_cv.shape"
   ]
  },
  {
   "cell_type": "code",
   "execution_count": 32,
   "metadata": {},
   "outputs": [
    {
     "data": {
      "text/html": [
       "<div>\n",
       "<style scoped>\n",
       "    .dataframe tbody tr th:only-of-type {\n",
       "        vertical-align: middle;\n",
       "    }\n",
       "\n",
       "    .dataframe tbody tr th {\n",
       "        vertical-align: top;\n",
       "    }\n",
       "\n",
       "    .dataframe thead th {\n",
       "        text-align: right;\n",
       "    }\n",
       "</style>\n",
       "<table border=\"1\" class=\"dataframe\">\n",
       "  <thead>\n",
       "    <tr style=\"text-align: right;\">\n",
       "      <th></th>\n",
       "      <th>folderName</th>\n",
       "      <th>imageName</th>\n",
       "      <th>Emotion</th>\n",
       "      <th>Labels</th>\n",
       "    </tr>\n",
       "  </thead>\n",
       "  <tbody>\n",
       "    <tr>\n",
       "      <th>0</th>\n",
       "      <td>../Data/Human/Surprise/</td>\n",
       "      <td>S102_002_00000017.png</td>\n",
       "      <td>Surprise</td>\n",
       "      <td>7</td>\n",
       "    </tr>\n",
       "    <tr>\n",
       "      <th>1</th>\n",
       "      <td>../Data/Human/Happy/</td>\n",
       "      <td>S010_006_00000015.png</td>\n",
       "      <td>Happy</td>\n",
       "      <td>4</td>\n",
       "    </tr>\n",
       "    <tr>\n",
       "      <th>2</th>\n",
       "      <td>../Data/Human/Surprise/</td>\n",
       "      <td>S044_001_00000019.png</td>\n",
       "      <td>Surprise</td>\n",
       "      <td>7</td>\n",
       "    </tr>\n",
       "    <tr>\n",
       "      <th>3</th>\n",
       "      <td>../Data/Human/Angry/</td>\n",
       "      <td>S127_010_00000017.png</td>\n",
       "      <td>Angry</td>\n",
       "      <td>1</td>\n",
       "    </tr>\n",
       "    <tr>\n",
       "      <th>4</th>\n",
       "      <td>../Data/Human/Happy/</td>\n",
       "      <td>S087_005_00000011.png</td>\n",
       "      <td>Happy</td>\n",
       "      <td>4</td>\n",
       "    </tr>\n",
       "  </tbody>\n",
       "</table>\n",
       "</div>"
      ],
      "text/plain": [
       "                folderName              imageName   Emotion  Labels\n",
       "0  ../Data/Human/Surprise/  S102_002_00000017.png  Surprise       7\n",
       "1     ../Data/Human/Happy/  S010_006_00000015.png     Happy       4\n",
       "2  ../Data/Human/Surprise/  S044_001_00000019.png  Surprise       7\n",
       "3     ../Data/Human/Angry/  S127_010_00000017.png     Angry       1\n",
       "4     ../Data/Human/Happy/  S087_005_00000011.png     Happy       4"
      ]
     },
     "execution_count": 32,
     "metadata": {},
     "output_type": "execute_result"
    }
   ],
   "source": [
    "df_human_test = pd.read_pickle(\"../Data/Dataframes/Human/df_human_test.pkl\")\n",
    "df_human_test.head()"
   ]
  },
  {
   "cell_type": "code",
   "execution_count": 33,
   "metadata": {},
   "outputs": [
    {
     "data": {
      "text/plain": [
       "(169, 4)"
      ]
     },
     "execution_count": 33,
     "metadata": {},
     "output_type": "execute_result"
    }
   ],
   "source": [
    "df_human_test.shape"
   ]
  },
  {
   "cell_type": "markdown",
   "metadata": {},
   "source": [
    "## 3. Analysing Data of Human Images\n",
    "### Distribution of class labels in Train, CV and Test"
   ]
  },
  {
   "cell_type": "code",
   "execution_count": 34,
   "metadata": {},
   "outputs": [],
   "source": [
    "df_temp_train = df_human_train.sort_values(by = \"Labels\", inplace = False)\n",
    "df_temp_cv = df_human_cv.sort_values(by = \"Labels\", inplace = False)\n",
    "df_temp_test = df_human_test.sort_values(by = \"Labels\", inplace = False)\n",
    "\n",
    "TrainData_distribution = df_human_train[\"Emotion\"].value_counts().sort_index()\n",
    "CVData_distribution = df_human_cv[\"Emotion\"].value_counts().sort_index()\n",
    "TestData_distribution = df_human_test[\"Emotion\"].value_counts().sort_index()\n",
    "\n",
    "TrainData_distribution_sorted = sorted(TrainData_distribution.items(), key = lambda d: d[1], reverse = True)\n",
    "CVData_distribution_sorted = sorted(CVData_distribution.items(), key = lambda d: d[1], reverse = True)\n",
    "TestData_distribution_sorted = sorted(TestData_distribution.items(), key = lambda d: d[1], reverse = True)"
   ]
  },
  {
   "cell_type": "code",
   "execution_count": 35,
   "metadata": {
    "scrolled": false
   },
   "outputs": [
    {
     "data": {
      "image/png": "[encoded data removed]",
      "text/plain": [
       "<Figure size 720x432 with 1 Axes>"
      ]
     },
     "metadata": {
      "needs_background": "light"
     },
     "output_type": "display_data"
    },
    {
     "name": "stdout",
     "output_type": "stream",
     "text": [
      "Number of training data points in class Surprise = 131(23.0228%)\n",
      "Number of training data points in class Happy = 113(19.8594%)\n",
      "Number of training data points in class Disgust = 97(17.0475%)\n",
      "Number of training data points in class Angry = 79(13.884%)\n",
      "Number of training data points in class Sad = 58(10.1933%)\n",
      "Number of training data points in class Fear = 53(9.3146%)\n",
      "Number of training data points in class Neutral = 38(6.6784%)\n",
      "--------------------------------------------------------------------------------\n"
     ]
    },
    {
     "data": {
      "image/png": "[encoded data removed]",
      "text/plain": [
       "<Figure size 720x432 with 1 Axes>"
      ]
     },
     "metadata": {
      "needs_background": "light"
     },
     "output_type": "display_data"
    },
    {
     "name": "stdout",
     "output_type": "stream",
     "text": [
      "Number of training data points in class Surprise = 26(22.807%)\n",
      "Number of training data points in class Happy = 23(20.1754%)\n",
      "Number of training data points in class Disgust = 20(17.5439%)\n",
      "Number of training data points in class Angry = 16(14.0351%)\n",
      "Number of training data points in class Fear = 11(9.6491%)\n",
      "Number of training data points in class Sad = 11(9.6491%)\n",
      "Number of training data points in class Neutral = 7(6.1404%)\n",
      "--------------------------------------------------------------------------------\n"
     ]
    },
    {
     "data": {
      "image/png": "[encoded data removed]",
      "text/plain": [
       "<Figure size 720x432 with 1 Axes>"
      ]
     },
     "metadata": {
      "needs_background": "light"
     },
     "output_type": "display_data"
    },
    {
     "name": "stdout",
     "output_type": "stream",
     "text": [
      "Number of training data points in class Surprise = 39(23.0769%)\n",
      "Number of training data points in class Happy = 33(19.5266%)\n",
      "Number of training data points in class Disgust = 29(17.1598%)\n",
      "Number of training data points in class Angry = 24(14.2012%)\n",
      "Number of training data points in class Sad = 17(10.0592%)\n",
      "Number of training data points in class Fear = 16(9.4675%)\n",
      "Number of training data points in class Neutral = 11(6.5089%)\n"
     ]
    }
   ],
   "source": [
    "fig = plt.figure(figsize = (10, 6))\n",
    "ax = fig.add_axes([0,0,1,1])\n",
    "ax.set_title(\"Count of each Emotion in Train Data\", fontsize = 20)\n",
    "sns.countplot(x = \"Emotion\", data = df_temp_train)\n",
    "plt.grid()\n",
    "for i in ax.patches:\n",
    "    ax.text(x = i.get_x() + 0.2, y = i.get_height()+1.5, s = str(i.get_height()), fontsize = 20, color = \"grey\")\n",
    "plt.xlabel(\"\")\n",
    "plt.ylabel(\"Count\", fontsize = 15)\n",
    "plt.tick_params(labelsize = 15)\n",
    "plt.xticks(rotation = 40)\n",
    "plt.show()\n",
    "\n",
    "for i in TrainData_distribution_sorted:\n",
    "    print(\"Number of training data points in class \"+str(i[0])+\" = \"+str(i[1])+ \"(\"+str(np.round(((i[1]/df_temp_train.shape[0])*100), 4))+\"%)\")\n",
    "\n",
    "print(\"-\"*80)\n",
    "\n",
    "fig = plt.figure(figsize = (10, 6))\n",
    "ax = fig.add_axes([0,0,1,1])\n",
    "ax.set_title(\"Count of each Emotion in Validation Data\", fontsize = 20)\n",
    "sns.countplot(x = \"Emotion\", data = df_temp_cv)\n",
    "plt.grid()\n",
    "for i in ax.patches:\n",
    "    ax.text(x = i.get_x() + 0.27, y = i.get_height()+0.2, s = str(i.get_height()), fontsize = 20, color = \"grey\")\n",
    "plt.xlabel(\"\")\n",
    "plt.ylabel(\"Count\", fontsize = 15)\n",
    "plt.tick_params(labelsize = 15)\n",
    "plt.xticks(rotation = 40)\n",
    "plt.show()\n",
    "\n",
    "for i in CVData_distribution_sorted:\n",
    "    print(\"Number of training data points in class \"+str(i[0])+\" = \"+str(i[1])+ \"(\"+str(np.round(((i[1]/df_temp_cv.shape[0])*100), 4))+\"%)\")\n",
    "\n",
    "print(\"-\"*80)\n",
    "\n",
    "fig = plt.figure(figsize = (10, 6))\n",
    "ax = fig.add_axes([0,0,1,1])\n",
    "ax.set_title(\"Count of each Emotion in Test Data\", fontsize = 20)\n",
    "sns.countplot(x = \"Emotion\", data = df_temp_test)\n",
    "plt.grid()\n",
    "for i in ax.patches:\n",
    "    ax.text(x = i.get_x() + 0.27, y = i.get_height()+0.2, s = str(i.get_height()), fontsize = 20, color = \"grey\")\n",
    "plt.xlabel(\"\")\n",
    "plt.ylabel(\"Count\", fontsize = 15)\n",
    "plt.tick_params(labelsize = 15)\n",
    "plt.xticks(rotation = 40)\n",
    "plt.show()\n",
    "\n",
    "for i in TestData_distribution_sorted:\n",
    "    print(\"Number of training data points in class \"+str(i[0])+\" = \"+str(i[1])+ \"(\"+str(np.round(((i[1]/df_temp_test.shape[0])*100), 4))+\"%)\")"
   ]
  },
  {
   "cell_type": "markdown",
   "metadata": {},
   "source": [
    "## 4. Pre-Processing Human Images"
   ]
  },
  {
   "cell_type": "markdown",
   "metadata": {},
   "source": [
    "### 4.1 Converting all the images to grayscale and save them"
   ]
  },
  {
   "cell_type": "code",
   "execution_count": 36,
   "metadata": {},
   "outputs": [],
   "source": [
    "def convt_to_gray(df):\n",
    "    count = 0\n",
    "    for i in range(len(df)):\n",
    "        path1 = df[\"folderName\"][i]\n",
    "        path2 = df[\"imageName\"][i]\n",
    "        img = cv2.imread(os.path.join(path1, path2))\n",
    "        gray = cv2.cvtColor(img, cv2.COLOR_BGR2GRAY)\n",
    "        cv2.imwrite(os.path.join(path1, path2), gray)\n",
    "        count += 1\n",
    "    print(\"Total number of images converted and saved = \"+str(count))"
   ]
  },
  {
   "cell_type": "code",
   "execution_count": 37,
   "metadata": {},
   "outputs": [
    {
     "name": "stdout",
     "output_type": "stream",
     "text": [
      "Total number of images converted and saved = 569\n"
     ]
    }
   ],
   "source": [
    "convt_to_gray(df_human_train)"
   ]
  },
  {
   "cell_type": "code",
   "execution_count": 38,
   "metadata": {},
   "outputs": [
    {
     "name": "stdout",
     "output_type": "stream",
     "text": [
      "Total number of images converted and saved = 114\n"
     ]
    }
   ],
   "source": [
    "convt_to_gray(df_human_cv)"
   ]
  },
  {
   "cell_type": "code",
   "execution_count": 39,
   "metadata": {},
   "outputs": [
    {
     "name": "stdout",
     "output_type": "stream",
     "text": [
      "Total number of images converted and saved = 169\n"
     ]
    }
   ],
   "source": [
    "convt_to_gray(df_human_test)"
   ]
  },
  {
   "cell_type": "markdown",
   "metadata": {},
   "source": [
    "### 4.2 Detecting face in image using HAAR then crop it then resize then save the image"
   ]
  },
  {
   "cell_type": "code",
   "execution_count": 40,
   "metadata": {},
   "outputs": [],
   "source": [
    "#detect the face in image using HAAR cascade then crop it then resize it and finally save it.\n",
    "face_cascade = cv2.CascadeClassifier('haarcascade_frontalface_default.xml') \n",
    "#download this xml file from link: https://github.com/opencv/opencv/tree/master/data/haarcascades.\n",
    "def face_det_crop_resize(img_path):\n",
    "    img = cv2.imread(img_path)\n",
    "    gray = cv2.cvtColor(img, cv2.COLOR_BGR2GRAY)\n",
    "    faces = face_cascade.detectMultiScale(gray, 1.3, 5)\n",
    "    if faces is not ():\n",
    "        for (x,y,w,h) in faces:\n",
    "            face_clip = img[y:y+h, x:x+w]  #cropping the face in image\n",
    "            cv2.imwrite(img_path, cv2.resize(face_clip, (350, 350)))  #resizing image then saving it\n",
    "    if faces is ():\n",
    "        cv2.imwrite(img_path, cv2.resize(img, (350, 350)))"
   ]
  },
  {
   "cell_type": "code",
   "execution_count": 41,
   "metadata": {},
   "outputs": [],
   "source": [
    "for i, d in df_human_train.iterrows():\n",
    "    img_path = os.path.join(d[\"folderName\"], d[\"imageName\"])\n",
    "    face_det_crop_resize(img_path)"
   ]
  },
  {
   "cell_type": "code",
   "execution_count": 42,
   "metadata": {},
   "outputs": [],
   "source": [
    "for i, d in df_human_cv.iterrows():\n",
    "    img_path = os.path.join(d[\"folderName\"], d[\"imageName\"])\n",
    "    face_det_crop_resize(img_path)"
   ]
  },
  {
   "cell_type": "code",
   "execution_count": 43,
   "metadata": {},
   "outputs": [],
   "source": [
    "for i, d in df_human_test.iterrows():\n",
    "    img_path = os.path.join(d[\"folderName\"], d[\"imageName\"])\n",
    "    face_det_crop_resize(img_path)"
   ]
  },
  {
   "cell_type": "markdown",
   "metadata": {},
   "source": [
    "## 5. Reading the Data of Animated Images"
   ]
  },
  {
   "cell_type": "markdown",
   "metadata": {},
   "source": [
    "### Angry"
   ]
  },
  {
   "cell_type": "code",
   "execution_count": 44,
   "metadata": {},
   "outputs": [
    {
     "name": "stdout",
     "output_type": "stream",
     "text": [
      "Number of images in Angry emotion = 650\n"
     ]
    }
   ],
   "source": [
    "anime_angry = glob.glob(\"../Data/Animated/Angry/*.png\")\n",
    "print(\"Number of images in Angry emotion = \"+str(len(anime_angry)))"
   ]
  },
  {
   "cell_type": "code",
   "execution_count": 45,
   "metadata": {},
   "outputs": [
    {
     "data": {
      "text/plain": [
       "(650, 650, 650, 650)"
      ]
     },
     "execution_count": 45,
     "metadata": {},
     "output_type": "execute_result"
    }
   ],
   "source": [
    "anime_angry_folderName = [str(i.split(\"\\\\\")[0])+\"/\" for i in anime_angry]\n",
    "anime_angry_imageName = [str(i.split(\"\\\\\")[1]) for i in anime_angry]\n",
    "anime_angry_emotion = [[\"Angry\"]*len(anime_angry)][0]\n",
    "anime_angry_label = [1]*len(anime_angry)\n",
    "\n",
    "len(anime_angry_folderName), len(anime_angry_imageName), len(anime_angry_emotion), len(anime_angry_label)"
   ]
  },
  {
   "cell_type": "code",
   "execution_count": 46,
   "metadata": {},
   "outputs": [
    {
     "data": {
      "text/html": [
       "<div>\n",
       "<style scoped>\n",
       "    .dataframe tbody tr th:only-of-type {\n",
       "        vertical-align: middle;\n",
       "    }\n",
       "\n",
       "    .dataframe tbody tr th {\n",
       "        vertical-align: top;\n",
       "    }\n",
       "\n",
       "    .dataframe thead th {\n",
       "        text-align: right;\n",
       "    }\n",
       "</style>\n",
       "<table border=\"1\" class=\"dataframe\">\n",
       "  <thead>\n",
       "    <tr style=\"text-align: right;\">\n",
       "      <th></th>\n",
       "      <th>folderName</th>\n",
       "      <th>imageName</th>\n",
       "      <th>Emotion</th>\n",
       "      <th>Labels</th>\n",
       "    </tr>\n",
       "  </thead>\n",
       "  <tbody>\n",
       "    <tr>\n",
       "      <th>0</th>\n",
       "      <td>../Data/Animated/Angry/</td>\n",
       "      <td>aia_anger_10.png</td>\n",
       "      <td>Angry</td>\n",
       "      <td>1</td>\n",
       "    </tr>\n",
       "    <tr>\n",
       "      <th>1</th>\n",
       "      <td>../Data/Animated/Angry/</td>\n",
       "      <td>aia_anger_1002.png</td>\n",
       "      <td>Angry</td>\n",
       "      <td>1</td>\n",
       "    </tr>\n",
       "    <tr>\n",
       "      <th>2</th>\n",
       "      <td>../Data/Animated/Angry/</td>\n",
       "      <td>aia_anger_102.png</td>\n",
       "      <td>Angry</td>\n",
       "      <td>1</td>\n",
       "    </tr>\n",
       "    <tr>\n",
       "      <th>3</th>\n",
       "      <td>../Data/Animated/Angry/</td>\n",
       "      <td>aia_anger_1021.png</td>\n",
       "      <td>Angry</td>\n",
       "      <td>1</td>\n",
       "    </tr>\n",
       "    <tr>\n",
       "      <th>4</th>\n",
       "      <td>../Data/Animated/Angry/</td>\n",
       "      <td>aia_anger_1047.png</td>\n",
       "      <td>Angry</td>\n",
       "      <td>1</td>\n",
       "    </tr>\n",
       "  </tbody>\n",
       "</table>\n",
       "</div>"
      ],
      "text/plain": [
       "                folderName           imageName Emotion  Labels\n",
       "0  ../Data/Animated/Angry/    aia_anger_10.png   Angry       1\n",
       "1  ../Data/Animated/Angry/  aia_anger_1002.png   Angry       1\n",
       "2  ../Data/Animated/Angry/   aia_anger_102.png   Angry       1\n",
       "3  ../Data/Animated/Angry/  aia_anger_1021.png   Angry       1\n",
       "4  ../Data/Animated/Angry/  aia_anger_1047.png   Angry       1"
      ]
     },
     "execution_count": 46,
     "metadata": {},
     "output_type": "execute_result"
    }
   ],
   "source": [
    "df_angry = pd.DataFrame()\n",
    "df_angry[\"folderName\"] = anime_angry_folderName\n",
    "df_angry[\"imageName\"] = anime_angry_imageName\n",
    "df_angry[\"Emotion\"] = anime_angry_emotion\n",
    "df_angry[\"Labels\"] = anime_angry_label\n",
    "df_angry.head()"
   ]
  },
  {
   "cell_type": "code",
   "execution_count": 47,
   "metadata": {},
   "outputs": [
    {
     "data": {
      "text/plain": [
       "(650, 4)"
      ]
     },
     "execution_count": 47,
     "metadata": {},
     "output_type": "execute_result"
    }
   ],
   "source": [
    "df_angry = df_angry.sample(frac = 1.0) #shuffling dataframe\n",
    "df_angry_reduced = df_angry.sample(n = 650)  #taking only 1300 random images\n",
    "df_angry_reduced.shape"
   ]
  },
  {
   "cell_type": "code",
   "execution_count": 48,
   "metadata": {},
   "outputs": [
    {
     "name": "stdout",
     "output_type": "stream",
     "text": [
      "Total number of images removed = 0\n"
     ]
    }
   ],
   "source": [
    "#removing all the extra images from storage\n",
    "df_angry_reducedIndx = df_angry_reduced.index\n",
    "count = 0\n",
    "for i, d in df_angry.iterrows():\n",
    "    if i not in df_angry_reducedIndx:\n",
    "        os.remove(os.path.join(d[\"folderName\"], d[\"imageName\"]))\n",
    "        count += 1\n",
    "print(\"Total number of images removed = \"+str(count))"
   ]
  },
  {
   "cell_type": "markdown",
   "metadata": {},
   "source": [
    "### Disgust"
   ]
  },
  {
   "cell_type": "code",
   "execution_count": 49,
   "metadata": {},
   "outputs": [
    {
     "name": "stdout",
     "output_type": "stream",
     "text": [
      "Number of images in Disgust emotion = 650\n"
     ]
    }
   ],
   "source": [
    "anime_disgust = glob.glob(\"../Data/Animated/Disgust/*.png\")\n",
    "print(\"Number of images in Disgust emotion = \"+str(len(anime_disgust)))"
   ]
  },
  {
   "cell_type": "code",
   "execution_count": 50,
   "metadata": {},
   "outputs": [
    {
     "data": {
      "text/plain": [
       "(650, 650, 650, 650)"
      ]
     },
     "execution_count": 50,
     "metadata": {},
     "output_type": "execute_result"
    }
   ],
   "source": [
    "anime_disgust_folderName = [str(i.split(\"\\\\\")[0])+\"/\" for i in anime_disgust]\n",
    "anime_disgust_imageName = [str(i.split(\"\\\\\")[1]) for i in anime_disgust]\n",
    "anime_disgust_emotion = [[\"Disgust\"]*len(anime_disgust)][0]\n",
    "anime_disgust_label = [2]*len(anime_disgust)\n",
    "\n",
    "len(anime_disgust_folderName), len(anime_disgust_imageName), len(anime_disgust_emotion), len(anime_disgust_label)"
   ]
  },
  {
   "cell_type": "code",
   "execution_count": 51,
   "metadata": {},
   "outputs": [
    {
     "data": {
      "text/html": [
       "<div>\n",
       "<style scoped>\n",
       "    .dataframe tbody tr th:only-of-type {\n",
       "        vertical-align: middle;\n",
       "    }\n",
       "\n",
       "    .dataframe tbody tr th {\n",
       "        vertical-align: top;\n",
       "    }\n",
       "\n",
       "    .dataframe thead th {\n",
       "        text-align: right;\n",
       "    }\n",
       "</style>\n",
       "<table border=\"1\" class=\"dataframe\">\n",
       "  <thead>\n",
       "    <tr style=\"text-align: right;\">\n",
       "      <th></th>\n",
       "      <th>folderName</th>\n",
       "      <th>imageName</th>\n",
       "      <th>Emotion</th>\n",
       "      <th>Labels</th>\n",
       "    </tr>\n",
       "  </thead>\n",
       "  <tbody>\n",
       "    <tr>\n",
       "      <th>0</th>\n",
       "      <td>../Data/Animated/Disgust/</td>\n",
       "      <td>aia_disgust_10.png</td>\n",
       "      <td>Disgust</td>\n",
       "      <td>2</td>\n",
       "    </tr>\n",
       "    <tr>\n",
       "      <th>1</th>\n",
       "      <td>../Data/Animated/Disgust/</td>\n",
       "      <td>aia_disgust_118.png</td>\n",
       "      <td>Disgust</td>\n",
       "      <td>2</td>\n",
       "    </tr>\n",
       "    <tr>\n",
       "      <th>2</th>\n",
       "      <td>../Data/Animated/Disgust/</td>\n",
       "      <td>aia_disgust_120.png</td>\n",
       "      <td>Disgust</td>\n",
       "      <td>2</td>\n",
       "    </tr>\n",
       "    <tr>\n",
       "      <th>3</th>\n",
       "      <td>../Data/Animated/Disgust/</td>\n",
       "      <td>aia_disgust_138.png</td>\n",
       "      <td>Disgust</td>\n",
       "      <td>2</td>\n",
       "    </tr>\n",
       "    <tr>\n",
       "      <th>4</th>\n",
       "      <td>../Data/Animated/Disgust/</td>\n",
       "      <td>aia_disgust_162.png</td>\n",
       "      <td>Disgust</td>\n",
       "      <td>2</td>\n",
       "    </tr>\n",
       "  </tbody>\n",
       "</table>\n",
       "</div>"
      ],
      "text/plain": [
       "                  folderName            imageName  Emotion  Labels\n",
       "0  ../Data/Animated/Disgust/   aia_disgust_10.png  Disgust       2\n",
       "1  ../Data/Animated/Disgust/  aia_disgust_118.png  Disgust       2\n",
       "2  ../Data/Animated/Disgust/  aia_disgust_120.png  Disgust       2\n",
       "3  ../Data/Animated/Disgust/  aia_disgust_138.png  Disgust       2\n",
       "4  ../Data/Animated/Disgust/  aia_disgust_162.png  Disgust       2"
      ]
     },
     "execution_count": 51,
     "metadata": {},
     "output_type": "execute_result"
    }
   ],
   "source": [
    "df_disgust = pd.DataFrame()\n",
    "df_disgust[\"folderName\"] = anime_disgust_folderName\n",
    "df_disgust[\"imageName\"] = anime_disgust_imageName\n",
    "df_disgust[\"Emotion\"] = anime_disgust_emotion\n",
    "df_disgust[\"Labels\"] = anime_disgust_label\n",
    "df_disgust.head()"
   ]
  },
  {
   "cell_type": "code",
   "execution_count": 52,
   "metadata": {},
   "outputs": [
    {
     "data": {
      "text/plain": [
       "(650, 4)"
      ]
     },
     "execution_count": 52,
     "metadata": {},
     "output_type": "execute_result"
    }
   ],
   "source": [
    "df_disgust = df_disgust.sample(frac = 1.0) #shuffling dataframe\n",
    "df_disgust_reduced = df_disgust.sample(n = 650)  #taking only 1300 random images\n",
    "df_disgust_reduced.shape"
   ]
  },
  {
   "cell_type": "code",
   "execution_count": 53,
   "metadata": {},
   "outputs": [
    {
     "name": "stdout",
     "output_type": "stream",
     "text": [
      "Total number of images removed = 0\n"
     ]
    }
   ],
   "source": [
    "#removing all the extra images from storage\n",
    "df_disgust_reducedIndx = df_disgust_reduced.index\n",
    "count = 0\n",
    "for i, d in df_disgust.iterrows():\n",
    "    if i not in df_disgust_reducedIndx:\n",
    "        os.remove(os.path.join(d[\"folderName\"], d[\"imageName\"]))\n",
    "        count += 1\n",
    "print(\"Total number of images removed = \"+str(count))"
   ]
  },
  {
   "cell_type": "markdown",
   "metadata": {},
   "source": [
    "### Fear"
   ]
  },
  {
   "cell_type": "code",
   "execution_count": 54,
   "metadata": {},
   "outputs": [
    {
     "name": "stdout",
     "output_type": "stream",
     "text": [
      "Number of images in Fear emotion = 650\n"
     ]
    }
   ],
   "source": [
    "anime_fear = glob.glob(\"../Data/Animated/Fear/*.png\")\n",
    "print(\"Number of images in Fear emotion = \"+str(len(anime_fear)))"
   ]
  },
  {
   "cell_type": "code",
   "execution_count": 55,
   "metadata": {},
   "outputs": [
    {
     "data": {
      "text/plain": [
       "(650, 650, 650, 650)"
      ]
     },
     "execution_count": 55,
     "metadata": {},
     "output_type": "execute_result"
    }
   ],
   "source": [
    "anime_fear_folderName = [str(i.split(\"\\\\\")[0])+\"/\" for i in anime_fear]\n",
    "anime_fear_imageName = [str(i.split(\"\\\\\")[1]) for i in anime_fear]\n",
    "anime_fear_emotion = [[\"Fear\"]*len(anime_fear)][0]\n",
    "anime_fear_label = [3]*len(anime_fear)\n",
    "\n",
    "len(anime_fear_folderName), len(anime_fear_imageName), len(anime_fear_emotion), len(anime_fear_label)"
   ]
  },
  {
   "cell_type": "code",
   "execution_count": 56,
   "metadata": {},
   "outputs": [
    {
     "data": {
      "text/html": [
       "<div>\n",
       "<style scoped>\n",
       "    .dataframe tbody tr th:only-of-type {\n",
       "        vertical-align: middle;\n",
       "    }\n",
       "\n",
       "    .dataframe tbody tr th {\n",
       "        vertical-align: top;\n",
       "    }\n",
       "\n",
       "    .dataframe thead th {\n",
       "        text-align: right;\n",
       "    }\n",
       "</style>\n",
       "<table border=\"1\" class=\"dataframe\">\n",
       "  <thead>\n",
       "    <tr style=\"text-align: right;\">\n",
       "      <th></th>\n",
       "      <th>folderName</th>\n",
       "      <th>imageName</th>\n",
       "      <th>Emotion</th>\n",
       "      <th>Labels</th>\n",
       "    </tr>\n",
       "  </thead>\n",
       "  <tbody>\n",
       "    <tr>\n",
       "      <th>0</th>\n",
       "      <td>../Data/Animated/Fear/</td>\n",
       "      <td>aia_fear_1019.png</td>\n",
       "      <td>Fear</td>\n",
       "      <td>3</td>\n",
       "    </tr>\n",
       "    <tr>\n",
       "      <th>1</th>\n",
       "      <td>../Data/Animated/Fear/</td>\n",
       "      <td>aia_fear_1052.png</td>\n",
       "      <td>Fear</td>\n",
       "      <td>3</td>\n",
       "    </tr>\n",
       "    <tr>\n",
       "      <th>2</th>\n",
       "      <td>../Data/Animated/Fear/</td>\n",
       "      <td>aia_fear_1069.png</td>\n",
       "      <td>Fear</td>\n",
       "      <td>3</td>\n",
       "    </tr>\n",
       "    <tr>\n",
       "      <th>3</th>\n",
       "      <td>../Data/Animated/Fear/</td>\n",
       "      <td>aia_fear_1085.png</td>\n",
       "      <td>Fear</td>\n",
       "      <td>3</td>\n",
       "    </tr>\n",
       "    <tr>\n",
       "      <th>4</th>\n",
       "      <td>../Data/Animated/Fear/</td>\n",
       "      <td>aia_fear_1109.png</td>\n",
       "      <td>Fear</td>\n",
       "      <td>3</td>\n",
       "    </tr>\n",
       "  </tbody>\n",
       "</table>\n",
       "</div>"
      ],
      "text/plain": [
       "               folderName          imageName Emotion  Labels\n",
       "0  ../Data/Animated/Fear/  aia_fear_1019.png    Fear       3\n",
       "1  ../Data/Animated/Fear/  aia_fear_1052.png    Fear       3\n",
       "2  ../Data/Animated/Fear/  aia_fear_1069.png    Fear       3\n",
       "3  ../Data/Animated/Fear/  aia_fear_1085.png    Fear       3\n",
       "4  ../Data/Animated/Fear/  aia_fear_1109.png    Fear       3"
      ]
     },
     "execution_count": 56,
     "metadata": {},
     "output_type": "execute_result"
    }
   ],
   "source": [
    "df_fear = pd.DataFrame()\n",
    "df_fear[\"folderName\"] = anime_fear_folderName\n",
    "df_fear[\"imageName\"] = anime_fear_imageName\n",
    "df_fear[\"Emotion\"] = anime_fear_emotion\n",
    "df_fear[\"Labels\"] = anime_fear_label\n",
    "df_fear.head()"
   ]
  },
  {
   "cell_type": "code",
   "execution_count": 57,
   "metadata": {},
   "outputs": [
    {
     "data": {
      "text/plain": [
       "(650, 4)"
      ]
     },
     "execution_count": 57,
     "metadata": {},
     "output_type": "execute_result"
    }
   ],
   "source": [
    "df_fear = df_fear.sample(frac = 1.0) #shuffling dataframe\n",
    "df_fear_reduced = df_fear.sample(n = 650)  #taking only 1300 random images\n",
    "df_fear_reduced.shape"
   ]
  },
  {
   "cell_type": "code",
   "execution_count": 58,
   "metadata": {},
   "outputs": [
    {
     "name": "stdout",
     "output_type": "stream",
     "text": [
      "Total number of images removed = 0\n"
     ]
    }
   ],
   "source": [
    "#removing all the extra images from storage\n",
    "df_fear_reducedIndx = df_fear_reduced.index\n",
    "count = 0\n",
    "for i, d in df_fear.iterrows():\n",
    "    if i not in df_fear_reducedIndx:\n",
    "        os.remove(os.path.join(d[\"folderName\"], d[\"imageName\"]))\n",
    "        count += 1\n",
    "print(\"Total number of images removed = \"+str(count))"
   ]
  },
  {
   "cell_type": "markdown",
   "metadata": {},
   "source": [
    "### Happy"
   ]
  },
  {
   "cell_type": "code",
   "execution_count": 59,
   "metadata": {},
   "outputs": [
    {
     "name": "stdout",
     "output_type": "stream",
     "text": [
      "Number of images in Happy emotion = 650\n"
     ]
    }
   ],
   "source": [
    "anime_happy = glob.glob(\"../Data/Animated/Happy/*.png\")\n",
    "print(\"Number of images in Happy emotion = \"+str(len(anime_happy)))"
   ]
  },
  {
   "cell_type": "code",
   "execution_count": 60,
   "metadata": {},
   "outputs": [
    {
     "data": {
      "text/plain": [
       "(650, 650, 650, 650)"
      ]
     },
     "execution_count": 60,
     "metadata": {},
     "output_type": "execute_result"
    }
   ],
   "source": [
    "anime_happy_folderName = [str(i.split(\"\\\\\")[0])+\"/\" for i in anime_happy]\n",
    "anime_happy_imageName = [str(i.split(\"\\\\\")[1]) for i in anime_happy]\n",
    "anime_happy_emotion = [[\"Happy\"]*len(anime_happy)][0]\n",
    "anime_happy_label = [4]*len(anime_happy)\n",
    "\n",
    "len(anime_happy_folderName), len(anime_happy_imageName), len(anime_happy_emotion), len(anime_happy_label)"
   ]
  },
  {
   "cell_type": "code",
   "execution_count": 61,
   "metadata": {},
   "outputs": [
    {
     "data": {
      "text/html": [
       "<div>\n",
       "<style scoped>\n",
       "    .dataframe tbody tr th:only-of-type {\n",
       "        vertical-align: middle;\n",
       "    }\n",
       "\n",
       "    .dataframe tbody tr th {\n",
       "        vertical-align: top;\n",
       "    }\n",
       "\n",
       "    .dataframe thead th {\n",
       "        text-align: right;\n",
       "    }\n",
       "</style>\n",
       "<table border=\"1\" class=\"dataframe\">\n",
       "  <thead>\n",
       "    <tr style=\"text-align: right;\">\n",
       "      <th></th>\n",
       "      <th>folderName</th>\n",
       "      <th>imageName</th>\n",
       "      <th>Emotion</th>\n",
       "      <th>Labels</th>\n",
       "    </tr>\n",
       "  </thead>\n",
       "  <tbody>\n",
       "    <tr>\n",
       "      <th>0</th>\n",
       "      <td>../Data/Animated/Happy/</td>\n",
       "      <td>(1006).png</td>\n",
       "      <td>Happy</td>\n",
       "      <td>4</td>\n",
       "    </tr>\n",
       "    <tr>\n",
       "      <th>1</th>\n",
       "      <td>../Data/Animated/Happy/</td>\n",
       "      <td>(1008).png</td>\n",
       "      <td>Happy</td>\n",
       "      <td>4</td>\n",
       "    </tr>\n",
       "    <tr>\n",
       "      <th>2</th>\n",
       "      <td>../Data/Animated/Happy/</td>\n",
       "      <td>(1013).png</td>\n",
       "      <td>Happy</td>\n",
       "      <td>4</td>\n",
       "    </tr>\n",
       "    <tr>\n",
       "      <th>3</th>\n",
       "      <td>../Data/Animated/Happy/</td>\n",
       "      <td>(1028).png</td>\n",
       "      <td>Happy</td>\n",
       "      <td>4</td>\n",
       "    </tr>\n",
       "    <tr>\n",
       "      <th>4</th>\n",
       "      <td>../Data/Animated/Happy/</td>\n",
       "      <td>(1029).png</td>\n",
       "      <td>Happy</td>\n",
       "      <td>4</td>\n",
       "    </tr>\n",
       "  </tbody>\n",
       "</table>\n",
       "</div>"
      ],
      "text/plain": [
       "                folderName   imageName Emotion  Labels\n",
       "0  ../Data/Animated/Happy/  (1006).png   Happy       4\n",
       "1  ../Data/Animated/Happy/  (1008).png   Happy       4\n",
       "2  ../Data/Animated/Happy/  (1013).png   Happy       4\n",
       "3  ../Data/Animated/Happy/  (1028).png   Happy       4\n",
       "4  ../Data/Animated/Happy/  (1029).png   Happy       4"
      ]
     },
     "execution_count": 61,
     "metadata": {},
     "output_type": "execute_result"
    }
   ],
   "source": [
    "df_happy = pd.DataFrame()\n",
    "df_happy[\"folderName\"] = anime_happy_folderName\n",
    "df_happy[\"imageName\"] = anime_happy_imageName\n",
    "df_happy[\"Emotion\"] = anime_happy_emotion\n",
    "df_happy[\"Labels\"] = anime_happy_label\n",
    "df_happy.head()"
   ]
  },
  {
   "cell_type": "code",
   "execution_count": 62,
   "metadata": {},
   "outputs": [
    {
     "data": {
      "text/plain": [
       "(650, 4)"
      ]
     },
     "execution_count": 62,
     "metadata": {},
     "output_type": "execute_result"
    }
   ],
   "source": [
    "df_happy = df_happy.sample(frac = 1.0) #shuffling dataframe\n",
    "df_happy_reduced = df_happy.sample(n = 650)  #taking only 1300 random images\n",
    "df_happy_reduced.shape"
   ]
  },
  {
   "cell_type": "code",
   "execution_count": 63,
   "metadata": {},
   "outputs": [
    {
     "name": "stdout",
     "output_type": "stream",
     "text": [
      "Total number of images removed = 0\n"
     ]
    }
   ],
   "source": [
    "#removing all the extra images from storage\n",
    "df_happy_reducedIndx = df_happy_reduced.index\n",
    "count = 0\n",
    "for i, d in df_happy.iterrows():\n",
    "    if i not in df_happy_reducedIndx:\n",
    "        os.remove(os.path.join(d[\"folderName\"], d[\"imageName\"]))\n",
    "        count += 1\n",
    "print(\"Total number of images removed = \"+str(count))"
   ]
  },
  {
   "cell_type": "markdown",
   "metadata": {},
   "source": [
    "### Neutral"
   ]
  },
  {
   "cell_type": "code",
   "execution_count": 64,
   "metadata": {},
   "outputs": [
    {
     "name": "stdout",
     "output_type": "stream",
     "text": [
      "Number of images in Neutral emotion = 650\n"
     ]
    }
   ],
   "source": [
    "anime_neutral = glob.glob(\"../Data/Animated/Neutral/*.png\")\n",
    "print(\"Number of images in Neutral emotion = \"+str(len(anime_neutral)))"
   ]
  },
  {
   "cell_type": "code",
   "execution_count": 65,
   "metadata": {},
   "outputs": [
    {
     "data": {
      "text/plain": [
       "(650, 650, 650, 650)"
      ]
     },
     "execution_count": 65,
     "metadata": {},
     "output_type": "execute_result"
    }
   ],
   "source": [
    "anime_neutral_folderName = [str(i.split(\"\\\\\")[0])+\"/\" for i in anime_neutral]\n",
    "anime_neutral_imageName = [str(i.split(\"\\\\\")[1]) for i in anime_neutral]\n",
    "anime_neutral_emotion = [[\"Neutral\"]*len(anime_neutral)][0]\n",
    "anime_neutral_label = [5]*len(anime_neutral)\n",
    "\n",
    "len(anime_neutral_folderName), len(anime_neutral_imageName), len(anime_neutral_emotion), len(anime_neutral_label)"
   ]
  },
  {
   "cell_type": "code",
   "execution_count": 66,
   "metadata": {},
   "outputs": [
    {
     "data": {
      "text/html": [
       "<div>\n",
       "<style scoped>\n",
       "    .dataframe tbody tr th:only-of-type {\n",
       "        vertical-align: middle;\n",
       "    }\n",
       "\n",
       "    .dataframe tbody tr th {\n",
       "        vertical-align: top;\n",
       "    }\n",
       "\n",
       "    .dataframe thead th {\n",
       "        text-align: right;\n",
       "    }\n",
       "</style>\n",
       "<table border=\"1\" class=\"dataframe\">\n",
       "  <thead>\n",
       "    <tr style=\"text-align: right;\">\n",
       "      <th></th>\n",
       "      <th>folderName</th>\n",
       "      <th>imageName</th>\n",
       "      <th>Emotion</th>\n",
       "      <th>Labels</th>\n",
       "    </tr>\n",
       "  </thead>\n",
       "  <tbody>\n",
       "    <tr>\n",
       "      <th>0</th>\n",
       "      <td>../Data/Animated/Neutral/</td>\n",
       "      <td>aia_neutral_100.png</td>\n",
       "      <td>Neutral</td>\n",
       "      <td>5</td>\n",
       "    </tr>\n",
       "    <tr>\n",
       "      <th>1</th>\n",
       "      <td>../Data/Animated/Neutral/</td>\n",
       "      <td>aia_neutral_1024.png</td>\n",
       "      <td>Neutral</td>\n",
       "      <td>5</td>\n",
       "    </tr>\n",
       "    <tr>\n",
       "      <th>2</th>\n",
       "      <td>../Data/Animated/Neutral/</td>\n",
       "      <td>aia_neutral_1027.png</td>\n",
       "      <td>Neutral</td>\n",
       "      <td>5</td>\n",
       "    </tr>\n",
       "    <tr>\n",
       "      <th>3</th>\n",
       "      <td>../Data/Animated/Neutral/</td>\n",
       "      <td>aia_neutral_1028.png</td>\n",
       "      <td>Neutral</td>\n",
       "      <td>5</td>\n",
       "    </tr>\n",
       "    <tr>\n",
       "      <th>4</th>\n",
       "      <td>../Data/Animated/Neutral/</td>\n",
       "      <td>aia_neutral_103.png</td>\n",
       "      <td>Neutral</td>\n",
       "      <td>5</td>\n",
       "    </tr>\n",
       "  </tbody>\n",
       "</table>\n",
       "</div>"
      ],
      "text/plain": [
       "                  folderName             imageName  Emotion  Labels\n",
       "0  ../Data/Animated/Neutral/   aia_neutral_100.png  Neutral       5\n",
       "1  ../Data/Animated/Neutral/  aia_neutral_1024.png  Neutral       5\n",
       "2  ../Data/Animated/Neutral/  aia_neutral_1027.png  Neutral       5\n",
       "3  ../Data/Animated/Neutral/  aia_neutral_1028.png  Neutral       5\n",
       "4  ../Data/Animated/Neutral/   aia_neutral_103.png  Neutral       5"
      ]
     },
     "execution_count": 66,
     "metadata": {},
     "output_type": "execute_result"
    }
   ],
   "source": [
    "df_neutral = pd.DataFrame()\n",
    "df_neutral[\"folderName\"] = anime_neutral_folderName\n",
    "df_neutral[\"imageName\"] = anime_neutral_imageName\n",
    "df_neutral[\"Emotion\"] = anime_neutral_emotion\n",
    "df_neutral[\"Labels\"] = anime_neutral_label\n",
    "df_neutral.head()"
   ]
  },
  {
   "cell_type": "code",
   "execution_count": 67,
   "metadata": {},
   "outputs": [
    {
     "data": {
      "text/plain": [
       "(650, 4)"
      ]
     },
     "execution_count": 67,
     "metadata": {},
     "output_type": "execute_result"
    }
   ],
   "source": [
    "df_neutral = df_neutral.sample(frac = 1.0) #shuffling dataframe\n",
    "df_neutral_reduced = df_neutral.sample(n =650)  #taking only 1300 random images\n",
    "df_neutral_reduced.shape"
   ]
  },
  {
   "cell_type": "code",
   "execution_count": 68,
   "metadata": {},
   "outputs": [
    {
     "name": "stdout",
     "output_type": "stream",
     "text": [
      "Total number of images removed = 0\n"
     ]
    }
   ],
   "source": [
    "#removing all the extra images from storage\n",
    "df_neutral_reducedIndx = df_neutral_reduced.index\n",
    "count = 0\n",
    "for i, d in df_neutral.iterrows():\n",
    "    if i not in df_neutral_reducedIndx:\n",
    "        os.remove(os.path.join(d[\"folderName\"], d[\"imageName\"]))\n",
    "        count += 1\n",
    "print(\"Total number of images removed = \"+str(count))"
   ]
  },
  {
   "cell_type": "markdown",
   "metadata": {},
   "source": [
    "### Sad"
   ]
  },
  {
   "cell_type": "code",
   "execution_count": 69,
   "metadata": {},
   "outputs": [
    {
     "name": "stdout",
     "output_type": "stream",
     "text": [
      "Number of images in Sad emotion = 650\n"
     ]
    }
   ],
   "source": [
    "anime_sad = glob.glob(\"../Data/Animated/Sad/*.png\")\n",
    "print(\"Number of images in Sad emotion = \"+str(len(anime_sad)))"
   ]
  },
  {
   "cell_type": "code",
   "execution_count": 70,
   "metadata": {},
   "outputs": [
    {
     "data": {
      "text/plain": [
       "(650, 650, 650, 650)"
      ]
     },
     "execution_count": 70,
     "metadata": {},
     "output_type": "execute_result"
    }
   ],
   "source": [
    "anime_sad_folderName = [str(i.split(\"\\\\\")[0])+\"/\" for i in anime_sad]\n",
    "anime_sad_imageName = [str(i.split(\"\\\\\")[1]) for i in anime_sad]\n",
    "anime_sad_emotion = [[\"Sad\"]*len(anime_sad)][0]\n",
    "anime_sad_label = [6]*len(anime_sad)\n",
    "\n",
    "len(anime_sad_folderName), len(anime_sad_imageName), len(anime_sad_emotion), len(anime_sad_label)"
   ]
  },
  {
   "cell_type": "code",
   "execution_count": 71,
   "metadata": {},
   "outputs": [
    {
     "data": {
      "text/html": [
       "<div>\n",
       "<style scoped>\n",
       "    .dataframe tbody tr th:only-of-type {\n",
       "        vertical-align: middle;\n",
       "    }\n",
       "\n",
       "    .dataframe tbody tr th {\n",
       "        vertical-align: top;\n",
       "    }\n",
       "\n",
       "    .dataframe thead th {\n",
       "        text-align: right;\n",
       "    }\n",
       "</style>\n",
       "<table border=\"1\" class=\"dataframe\">\n",
       "  <thead>\n",
       "    <tr style=\"text-align: right;\">\n",
       "      <th></th>\n",
       "      <th>folderName</th>\n",
       "      <th>imageName</th>\n",
       "      <th>Emotion</th>\n",
       "      <th>Labels</th>\n",
       "    </tr>\n",
       "  </thead>\n",
       "  <tbody>\n",
       "    <tr>\n",
       "      <th>0</th>\n",
       "      <td>../Data/Animated/Sad/</td>\n",
       "      <td>aia_sadness_1010.png</td>\n",
       "      <td>Sad</td>\n",
       "      <td>6</td>\n",
       "    </tr>\n",
       "    <tr>\n",
       "      <th>1</th>\n",
       "      <td>../Data/Animated/Sad/</td>\n",
       "      <td>aia_sadness_1012.png</td>\n",
       "      <td>Sad</td>\n",
       "      <td>6</td>\n",
       "    </tr>\n",
       "    <tr>\n",
       "      <th>2</th>\n",
       "      <td>../Data/Animated/Sad/</td>\n",
       "      <td>aia_sadness_1021.png</td>\n",
       "      <td>Sad</td>\n",
       "      <td>6</td>\n",
       "    </tr>\n",
       "    <tr>\n",
       "      <th>3</th>\n",
       "      <td>../Data/Animated/Sad/</td>\n",
       "      <td>aia_sadness_1026.png</td>\n",
       "      <td>Sad</td>\n",
       "      <td>6</td>\n",
       "    </tr>\n",
       "    <tr>\n",
       "      <th>4</th>\n",
       "      <td>../Data/Animated/Sad/</td>\n",
       "      <td>aia_sadness_103.png</td>\n",
       "      <td>Sad</td>\n",
       "      <td>6</td>\n",
       "    </tr>\n",
       "  </tbody>\n",
       "</table>\n",
       "</div>"
      ],
      "text/plain": [
       "              folderName             imageName Emotion  Labels\n",
       "0  ../Data/Animated/Sad/  aia_sadness_1010.png     Sad       6\n",
       "1  ../Data/Animated/Sad/  aia_sadness_1012.png     Sad       6\n",
       "2  ../Data/Animated/Sad/  aia_sadness_1021.png     Sad       6\n",
       "3  ../Data/Animated/Sad/  aia_sadness_1026.png     Sad       6\n",
       "4  ../Data/Animated/Sad/   aia_sadness_103.png     Sad       6"
      ]
     },
     "execution_count": 71,
     "metadata": {},
     "output_type": "execute_result"
    }
   ],
   "source": [
    "df_sad = pd.DataFrame()\n",
    "df_sad[\"folderName\"] = anime_sad_folderName\n",
    "df_sad[\"imageName\"] = anime_sad_imageName\n",
    "df_sad[\"Emotion\"] = anime_sad_emotion\n",
    "df_sad[\"Labels\"] = anime_sad_label\n",
    "df_sad.head()"
   ]
  },
  {
   "cell_type": "code",
   "execution_count": 72,
   "metadata": {},
   "outputs": [
    {
     "data": {
      "text/plain": [
       "(650, 4)"
      ]
     },
     "execution_count": 72,
     "metadata": {},
     "output_type": "execute_result"
    }
   ],
   "source": [
    "df_sad = df_sad.sample(frac = 1.0) #shuffling dataframe\n",
    "df_sad_reduced = df_sad.sample(n = 650)  #taking only 1300 random images\n",
    "df_sad_reduced.shape"
   ]
  },
  {
   "cell_type": "code",
   "execution_count": 73,
   "metadata": {},
   "outputs": [
    {
     "name": "stdout",
     "output_type": "stream",
     "text": [
      "Total number of images removed = 0\n"
     ]
    }
   ],
   "source": [
    "#removing all the extra images from storage\n",
    "df_sad_reducedIndx = df_sad_reduced.index\n",
    "count = 0\n",
    "for i, d in df_sad.iterrows():\n",
    "    if i not in df_sad_reducedIndx:\n",
    "        os.remove(os.path.join(d[\"folderName\"], d[\"imageName\"]))\n",
    "        count += 1\n",
    "print(\"Total number of images removed = \"+str(count))"
   ]
  },
  {
   "cell_type": "markdown",
   "metadata": {},
   "source": [
    "### Surprise"
   ]
  },
  {
   "cell_type": "code",
   "execution_count": 74,
   "metadata": {},
   "outputs": [
    {
     "name": "stdout",
     "output_type": "stream",
     "text": [
      "Number of images in Surprise emotion = 650\n"
     ]
    }
   ],
   "source": [
    "anime_surprise = glob.glob(\"../Data/Animated/Surprise/*.png\")\n",
    "print(\"Number of images in Surprise emotion = \"+str(len(anime_surprise)))"
   ]
  },
  {
   "cell_type": "code",
   "execution_count": 75,
   "metadata": {},
   "outputs": [
    {
     "data": {
      "text/plain": [
       "(650, 650, 650, 650)"
      ]
     },
     "execution_count": 75,
     "metadata": {},
     "output_type": "execute_result"
    }
   ],
   "source": [
    "anime_surprise_folderName = [str(i.split(\"\\\\\")[0])+\"/\" for i in anime_surprise]\n",
    "anime_surprise_imageName = [str(i.split(\"\\\\\")[1]) for i in anime_surprise]\n",
    "anime_surprise_emotion = [[\"Surprise\"]*len(anime_surprise)][0]\n",
    "anime_surprise_label = [7]*len(anime_surprise)\n",
    "\n",
    "len(anime_surprise_folderName), len(anime_surprise_imageName), len(anime_surprise_emotion), len(anime_surprise_label)"
   ]
  },
  {
   "cell_type": "code",
   "execution_count": 76,
   "metadata": {},
   "outputs": [
    {
     "data": {
      "text/html": [
       "<div>\n",
       "<style scoped>\n",
       "    .dataframe tbody tr th:only-of-type {\n",
       "        vertical-align: middle;\n",
       "    }\n",
       "\n",
       "    .dataframe tbody tr th {\n",
       "        vertical-align: top;\n",
       "    }\n",
       "\n",
       "    .dataframe thead th {\n",
       "        text-align: right;\n",
       "    }\n",
       "</style>\n",
       "<table border=\"1\" class=\"dataframe\">\n",
       "  <thead>\n",
       "    <tr style=\"text-align: right;\">\n",
       "      <th></th>\n",
       "      <th>folderName</th>\n",
       "      <th>imageName</th>\n",
       "      <th>Emotion</th>\n",
       "      <th>Labels</th>\n",
       "    </tr>\n",
       "  </thead>\n",
       "  <tbody>\n",
       "    <tr>\n",
       "      <th>0</th>\n",
       "      <td>../Data/Animated/Surprise/</td>\n",
       "      <td>aia_surprise_100.png</td>\n",
       "      <td>Surprise</td>\n",
       "      <td>7</td>\n",
       "    </tr>\n",
       "    <tr>\n",
       "      <th>1</th>\n",
       "      <td>../Data/Animated/Surprise/</td>\n",
       "      <td>aia_surprise_1021.png</td>\n",
       "      <td>Surprise</td>\n",
       "      <td>7</td>\n",
       "    </tr>\n",
       "    <tr>\n",
       "      <th>2</th>\n",
       "      <td>../Data/Animated/Surprise/</td>\n",
       "      <td>aia_surprise_1023.png</td>\n",
       "      <td>Surprise</td>\n",
       "      <td>7</td>\n",
       "    </tr>\n",
       "    <tr>\n",
       "      <th>3</th>\n",
       "      <td>../Data/Animated/Surprise/</td>\n",
       "      <td>aia_surprise_1026.png</td>\n",
       "      <td>Surprise</td>\n",
       "      <td>7</td>\n",
       "    </tr>\n",
       "    <tr>\n",
       "      <th>4</th>\n",
       "      <td>../Data/Animated/Surprise/</td>\n",
       "      <td>aia_surprise_1027.png</td>\n",
       "      <td>Surprise</td>\n",
       "      <td>7</td>\n",
       "    </tr>\n",
       "  </tbody>\n",
       "</table>\n",
       "</div>"
      ],
      "text/plain": [
       "                   folderName              imageName   Emotion  Labels\n",
       "0  ../Data/Animated/Surprise/   aia_surprise_100.png  Surprise       7\n",
       "1  ../Data/Animated/Surprise/  aia_surprise_1021.png  Surprise       7\n",
       "2  ../Data/Animated/Surprise/  aia_surprise_1023.png  Surprise       7\n",
       "3  ../Data/Animated/Surprise/  aia_surprise_1026.png  Surprise       7\n",
       "4  ../Data/Animated/Surprise/  aia_surprise_1027.png  Surprise       7"
      ]
     },
     "execution_count": 76,
     "metadata": {},
     "output_type": "execute_result"
    }
   ],
   "source": [
    "df_surprise = pd.DataFrame()\n",
    "df_surprise[\"folderName\"] = anime_surprise_folderName\n",
    "df_surprise[\"imageName\"] = anime_surprise_imageName\n",
    "df_surprise[\"Emotion\"] = anime_surprise_emotion\n",
    "df_surprise[\"Labels\"] = anime_surprise_label\n",
    "df_surprise.head()"
   ]
  },
  {
   "cell_type": "code",
   "execution_count": 77,
   "metadata": {},
   "outputs": [
    {
     "data": {
      "text/plain": [
       "(650, 4)"
      ]
     },
     "execution_count": 77,
     "metadata": {},
     "output_type": "execute_result"
    }
   ],
   "source": [
    "df_surprise = df_surprise.sample(frac = 1.0) #shuffling dataframe\n",
    "df_surprise_reduced = df_surprise.sample(n = 650)  #taking only 1300 random images\n",
    "df_surprise_reduced.shape"
   ]
  },
  {
   "cell_type": "code",
   "execution_count": 78,
   "metadata": {},
   "outputs": [
    {
     "name": "stdout",
     "output_type": "stream",
     "text": [
      "Total number of images removed = 0\n"
     ]
    }
   ],
   "source": [
    "#removing all the extra images from storage\n",
    "df_surprise_reducedIndx = df_surprise_reduced.index\n",
    "count = 0\n",
    "for i, d in df_surprise.iterrows():\n",
    "    if i not in df_surprise_reducedIndx:\n",
    "        os.remove(os.path.join(d[\"folderName\"], d[\"imageName\"]))\n",
    "        count += 1\n",
    "print(\"Total number of images removed = \"+str(count))"
   ]
  },
  {
   "cell_type": "markdown",
   "metadata": {},
   "source": [
    "### Concatenating all Datafames"
   ]
  },
  {
   "cell_type": "code",
   "execution_count": 79,
   "metadata": {},
   "outputs": [
    {
     "data": {
      "text/plain": [
       "(4550, 4)"
      ]
     },
     "execution_count": 79,
     "metadata": {},
     "output_type": "execute_result"
    }
   ],
   "source": [
    "frames = [df_angry_reduced, df_disgust_reduced, df_fear_reduced, df_happy_reduced, df_neutral_reduced, df_sad_reduced, df_surprise_reduced]\n",
    "Final_Animated = pd.concat(frames)\n",
    "Final_Animated.shape"
   ]
  },
  {
   "cell_type": "code",
   "execution_count": 80,
   "metadata": {},
   "outputs": [
    {
     "data": {
      "text/html": [
       "<div>\n",
       "<style scoped>\n",
       "    .dataframe tbody tr th:only-of-type {\n",
       "        vertical-align: middle;\n",
       "    }\n",
       "\n",
       "    .dataframe tbody tr th {\n",
       "        vertical-align: top;\n",
       "    }\n",
       "\n",
       "    .dataframe thead th {\n",
       "        text-align: right;\n",
       "    }\n",
       "</style>\n",
       "<table border=\"1\" class=\"dataframe\">\n",
       "  <thead>\n",
       "    <tr style=\"text-align: right;\">\n",
       "      <th></th>\n",
       "      <th>folderName</th>\n",
       "      <th>imageName</th>\n",
       "      <th>Emotion</th>\n",
       "      <th>Labels</th>\n",
       "    </tr>\n",
       "  </thead>\n",
       "  <tbody>\n",
       "    <tr>\n",
       "      <th>0</th>\n",
       "      <td>../Data/Animated/Happy/</td>\n",
       "      <td>ray_joy_383.png</td>\n",
       "      <td>Happy</td>\n",
       "      <td>4</td>\n",
       "    </tr>\n",
       "    <tr>\n",
       "      <th>1</th>\n",
       "      <td>../Data/Animated/Happy/</td>\n",
       "      <td>aia_joy_817.png</td>\n",
       "      <td>Happy</td>\n",
       "      <td>4</td>\n",
       "    </tr>\n",
       "    <tr>\n",
       "      <th>2</th>\n",
       "      <td>../Data/Animated/Neutral/</td>\n",
       "      <td>jules_neutral_60.png</td>\n",
       "      <td>Neutral</td>\n",
       "      <td>5</td>\n",
       "    </tr>\n",
       "    <tr>\n",
       "      <th>3</th>\n",
       "      <td>../Data/Animated/Disgust/</td>\n",
       "      <td>ray_disgust_394.png</td>\n",
       "      <td>Disgust</td>\n",
       "      <td>2</td>\n",
       "    </tr>\n",
       "    <tr>\n",
       "      <th>4</th>\n",
       "      <td>../Data/Animated/Angry/</td>\n",
       "      <td>bonnie_anger_1770.png</td>\n",
       "      <td>Angry</td>\n",
       "      <td>1</td>\n",
       "    </tr>\n",
       "  </tbody>\n",
       "</table>\n",
       "</div>"
      ],
      "text/plain": [
       "                  folderName              imageName  Emotion  Labels\n",
       "0    ../Data/Animated/Happy/        ray_joy_383.png    Happy       4\n",
       "1    ../Data/Animated/Happy/        aia_joy_817.png    Happy       4\n",
       "2  ../Data/Animated/Neutral/   jules_neutral_60.png  Neutral       5\n",
       "3  ../Data/Animated/Disgust/    ray_disgust_394.png  Disgust       2\n",
       "4    ../Data/Animated/Angry/  bonnie_anger_1770.png    Angry       1"
      ]
     },
     "execution_count": 80,
     "metadata": {},
     "output_type": "execute_result"
    }
   ],
   "source": [
    "Final_Animated.reset_index(inplace = True, drop = True)\n",
    "Final_Animated = Final_Animated.sample(frac = 1.0)   #shuffling the dataframe\n",
    "Final_Animated.reset_index(inplace = True, drop = True)\n",
    "Final_Animated.head()"
   ]
  },
  {
   "cell_type": "markdown",
   "metadata": {},
   "source": [
    "## 6. Train, CV and Test Split for Animated Images"
   ]
  },
  {
   "cell_type": "code",
   "execution_count": 81,
   "metadata": {},
   "outputs": [
    {
     "data": {
      "text/plain": [
       "((3600, 4), (350, 4), (600, 4))"
      ]
     },
     "execution_count": 81,
     "metadata": {},
     "output_type": "execute_result"
    }
   ],
   "source": [
    "df_anime_train_data, df_anime_test = train_test_split(Final_Animated, stratify=Final_Animated[\"Labels\"], test_size = 0.131868)\n",
    "df_anime_train, df_anime_cv = train_test_split(df_anime_train_data, stratify=df_anime_train_data[\"Labels\"], test_size = 0.088607)\n",
    "df_anime_train.shape, df_anime_cv.shape, df_anime_test.shape"
   ]
  },
  {
   "cell_type": "code",
   "execution_count": 82,
   "metadata": {},
   "outputs": [],
   "source": [
    "df_anime_train.reset_index(inplace = True, drop = True)\n",
    "df_anime_train.to_pickle(\"../Data/Dataframes/Animated/df_anime_train.pkl\")\n",
    "\n",
    "df_anime_cv.reset_index(inplace = True, drop = True)\n",
    "df_anime_cv.to_pickle(\"../Data/Dataframes/Animated/df_anime_cv.pkl\")\n",
    "\n",
    "df_anime_test.reset_index(inplace = True, drop = True)\n",
    "df_anime_test.to_pickle(\"../Data/Dataframes/Animated/df_anime_test.pkl\")"
   ]
  },
  {
   "cell_type": "code",
   "execution_count": 83,
   "metadata": {},
   "outputs": [
    {
     "data": {
      "text/html": [
       "<div>\n",
       "<style scoped>\n",
       "    .dataframe tbody tr th:only-of-type {\n",
       "        vertical-align: middle;\n",
       "    }\n",
       "\n",
       "    .dataframe tbody tr th {\n",
       "        vertical-align: top;\n",
       "    }\n",
       "\n",
       "    .dataframe thead th {\n",
       "        text-align: right;\n",
       "    }\n",
       "</style>\n",
       "<table border=\"1\" class=\"dataframe\">\n",
       "  <thead>\n",
       "    <tr style=\"text-align: right;\">\n",
       "      <th></th>\n",
       "      <th>folderName</th>\n",
       "      <th>imageName</th>\n",
       "      <th>Emotion</th>\n",
       "      <th>Labels</th>\n",
       "    </tr>\n",
       "  </thead>\n",
       "  <tbody>\n",
       "    <tr>\n",
       "      <th>0</th>\n",
       "      <td>../Data/Animated/Neutral/</td>\n",
       "      <td>aia_neutral_158.png</td>\n",
       "      <td>Neutral</td>\n",
       "      <td>5</td>\n",
       "    </tr>\n",
       "    <tr>\n",
       "      <th>1</th>\n",
       "      <td>../Data/Animated/Angry/</td>\n",
       "      <td>mery_anger_462.png</td>\n",
       "      <td>Angry</td>\n",
       "      <td>1</td>\n",
       "    </tr>\n",
       "    <tr>\n",
       "      <th>2</th>\n",
       "      <td>../Data/Animated/Angry/</td>\n",
       "      <td>aia_anger_1108.png</td>\n",
       "      <td>Angry</td>\n",
       "      <td>1</td>\n",
       "    </tr>\n",
       "    <tr>\n",
       "      <th>3</th>\n",
       "      <td>../Data/Animated/Neutral/</td>\n",
       "      <td>bonnie_neutral_1019.png</td>\n",
       "      <td>Neutral</td>\n",
       "      <td>5</td>\n",
       "    </tr>\n",
       "    <tr>\n",
       "      <th>4</th>\n",
       "      <td>../Data/Animated/Fear/</td>\n",
       "      <td>mery_fear_354.png</td>\n",
       "      <td>Fear</td>\n",
       "      <td>3</td>\n",
       "    </tr>\n",
       "  </tbody>\n",
       "</table>\n",
       "</div>"
      ],
      "text/plain": [
       "                  folderName                imageName  Emotion  Labels\n",
       "0  ../Data/Animated/Neutral/      aia_neutral_158.png  Neutral       5\n",
       "1    ../Data/Animated/Angry/       mery_anger_462.png    Angry       1\n",
       "2    ../Data/Animated/Angry/       aia_anger_1108.png    Angry       1\n",
       "3  ../Data/Animated/Neutral/  bonnie_neutral_1019.png  Neutral       5\n",
       "4     ../Data/Animated/Fear/        mery_fear_354.png     Fear       3"
      ]
     },
     "execution_count": 83,
     "metadata": {},
     "output_type": "execute_result"
    }
   ],
   "source": [
    "df_anime_train = pd.read_pickle(\"../Data/Dataframes/Animated/df_anime_train.pkl\")\n",
    "df_anime_train.head()"
   ]
  },
  {
   "cell_type": "code",
   "execution_count": 84,
   "metadata": {},
   "outputs": [
    {
     "data": {
      "text/plain": [
       "(3600, 4)"
      ]
     },
     "execution_count": 84,
     "metadata": {},
     "output_type": "execute_result"
    }
   ],
   "source": [
    "df_anime_train.shape"
   ]
  },
  {
   "cell_type": "code",
   "execution_count": 85,
   "metadata": {},
   "outputs": [
    {
     "data": {
      "text/html": [
       "<div>\n",
       "<style scoped>\n",
       "    .dataframe tbody tr th:only-of-type {\n",
       "        vertical-align: middle;\n",
       "    }\n",
       "\n",
       "    .dataframe tbody tr th {\n",
       "        vertical-align: top;\n",
       "    }\n",
       "\n",
       "    .dataframe thead th {\n",
       "        text-align: right;\n",
       "    }\n",
       "</style>\n",
       "<table border=\"1\" class=\"dataframe\">\n",
       "  <thead>\n",
       "    <tr style=\"text-align: right;\">\n",
       "      <th></th>\n",
       "      <th>folderName</th>\n",
       "      <th>imageName</th>\n",
       "      <th>Emotion</th>\n",
       "      <th>Labels</th>\n",
       "    </tr>\n",
       "  </thead>\n",
       "  <tbody>\n",
       "    <tr>\n",
       "      <th>0</th>\n",
       "      <td>../Data/Animated/Disgust/</td>\n",
       "      <td>bonnie_disgust_206.png</td>\n",
       "      <td>Disgust</td>\n",
       "      <td>2</td>\n",
       "    </tr>\n",
       "    <tr>\n",
       "      <th>1</th>\n",
       "      <td>../Data/Animated/Sad/</td>\n",
       "      <td>jules_sadness_1089.png</td>\n",
       "      <td>Sad</td>\n",
       "      <td>6</td>\n",
       "    </tr>\n",
       "    <tr>\n",
       "      <th>2</th>\n",
       "      <td>../Data/Animated/Happy/</td>\n",
       "      <td>aia_joy_911.png</td>\n",
       "      <td>Happy</td>\n",
       "      <td>4</td>\n",
       "    </tr>\n",
       "    <tr>\n",
       "      <th>3</th>\n",
       "      <td>../Data/Animated/Disgust/</td>\n",
       "      <td>jules_disgust_97.png</td>\n",
       "      <td>Disgust</td>\n",
       "      <td>2</td>\n",
       "    </tr>\n",
       "    <tr>\n",
       "      <th>4</th>\n",
       "      <td>../Data/Animated/Surprise/</td>\n",
       "      <td>jules_surprise_721.png</td>\n",
       "      <td>Surprise</td>\n",
       "      <td>7</td>\n",
       "    </tr>\n",
       "  </tbody>\n",
       "</table>\n",
       "</div>"
      ],
      "text/plain": [
       "                   folderName               imageName   Emotion  Labels\n",
       "0   ../Data/Animated/Disgust/  bonnie_disgust_206.png   Disgust       2\n",
       "1       ../Data/Animated/Sad/  jules_sadness_1089.png       Sad       6\n",
       "2     ../Data/Animated/Happy/         aia_joy_911.png     Happy       4\n",
       "3   ../Data/Animated/Disgust/    jules_disgust_97.png   Disgust       2\n",
       "4  ../Data/Animated/Surprise/  jules_surprise_721.png  Surprise       7"
      ]
     },
     "execution_count": 85,
     "metadata": {},
     "output_type": "execute_result"
    }
   ],
   "source": [
    "df_anime_cv = pd.read_pickle(\"../Data/Dataframes/Animated/df_anime_cv.pkl\")\n",
    "df_anime_cv.head()"
   ]
  },
  {
   "cell_type": "code",
   "execution_count": 86,
   "metadata": {},
   "outputs": [
    {
     "data": {
      "text/plain": [
       "(350, 4)"
      ]
     },
     "execution_count": 86,
     "metadata": {},
     "output_type": "execute_result"
    }
   ],
   "source": [
    "df_anime_cv.shape"
   ]
  },
  {
   "cell_type": "code",
   "execution_count": 87,
   "metadata": {},
   "outputs": [
    {
     "data": {
      "text/html": [
       "<div>\n",
       "<style scoped>\n",
       "    .dataframe tbody tr th:only-of-type {\n",
       "        vertical-align: middle;\n",
       "    }\n",
       "\n",
       "    .dataframe tbody tr th {\n",
       "        vertical-align: top;\n",
       "    }\n",
       "\n",
       "    .dataframe thead th {\n",
       "        text-align: right;\n",
       "    }\n",
       "</style>\n",
       "<table border=\"1\" class=\"dataframe\">\n",
       "  <thead>\n",
       "    <tr style=\"text-align: right;\">\n",
       "      <th></th>\n",
       "      <th>folderName</th>\n",
       "      <th>imageName</th>\n",
       "      <th>Emotion</th>\n",
       "      <th>Labels</th>\n",
       "    </tr>\n",
       "  </thead>\n",
       "  <tbody>\n",
       "    <tr>\n",
       "      <th>0</th>\n",
       "      <td>../Data/Animated/Disgust/</td>\n",
       "      <td>bonnie_disgust_176.png</td>\n",
       "      <td>Disgust</td>\n",
       "      <td>2</td>\n",
       "    </tr>\n",
       "    <tr>\n",
       "      <th>1</th>\n",
       "      <td>../Data/Animated/Surprise/</td>\n",
       "      <td>aia_surprise_550.png</td>\n",
       "      <td>Surprise</td>\n",
       "      <td>7</td>\n",
       "    </tr>\n",
       "    <tr>\n",
       "      <th>2</th>\n",
       "      <td>../Data/Animated/Neutral/</td>\n",
       "      <td>aia_neutral_813.png</td>\n",
       "      <td>Neutral</td>\n",
       "      <td>5</td>\n",
       "    </tr>\n",
       "    <tr>\n",
       "      <th>3</th>\n",
       "      <td>../Data/Animated/Neutral/</td>\n",
       "      <td>mery_neutral_71.png</td>\n",
       "      <td>Neutral</td>\n",
       "      <td>5</td>\n",
       "    </tr>\n",
       "    <tr>\n",
       "      <th>4</th>\n",
       "      <td>../Data/Animated/Angry/</td>\n",
       "      <td>jules_anger_220.png</td>\n",
       "      <td>Angry</td>\n",
       "      <td>1</td>\n",
       "    </tr>\n",
       "  </tbody>\n",
       "</table>\n",
       "</div>"
      ],
      "text/plain": [
       "                   folderName               imageName   Emotion  Labels\n",
       "0   ../Data/Animated/Disgust/  bonnie_disgust_176.png   Disgust       2\n",
       "1  ../Data/Animated/Surprise/    aia_surprise_550.png  Surprise       7\n",
       "2   ../Data/Animated/Neutral/     aia_neutral_813.png   Neutral       5\n",
       "3   ../Data/Animated/Neutral/     mery_neutral_71.png   Neutral       5\n",
       "4     ../Data/Animated/Angry/     jules_anger_220.png     Angry       1"
      ]
     },
     "execution_count": 87,
     "metadata": {},
     "output_type": "execute_result"
    }
   ],
   "source": [
    "df_anime_test = pd.read_pickle(\"../Data/Dataframes/Animated/df_anime_test.pkl\")\n",
    "df_anime_test.head()"
   ]
  },
  {
   "cell_type": "code",
   "execution_count": 88,
   "metadata": {},
   "outputs": [
    {
     "data": {
      "text/plain": [
       "(600, 4)"
      ]
     },
     "execution_count": 88,
     "metadata": {},
     "output_type": "execute_result"
    }
   ],
   "source": [
    "df_anime_test.shape"
   ]
  },
  {
   "cell_type": "markdown",
   "metadata": {},
   "source": [
    "## 7. Analysing Data of Animated Images\n",
    "### Distribution of class labels in Train, CV and Test"
   ]
  },
  {
   "cell_type": "code",
   "execution_count": 89,
   "metadata": {},
   "outputs": [],
   "source": [
    "df_temp_train = df_anime_train.sort_values(by = \"Labels\", inplace = False)\n",
    "df_temp_cv = df_anime_cv.sort_values(by = \"Labels\", inplace = False)\n",
    "df_temp_test = df_anime_test.sort_values(by = \"Labels\", inplace = False)\n",
    "\n",
    "TrainData_distribution = df_anime_train[\"Emotion\"].value_counts().sort_index()\n",
    "CVData_distribution = df_anime_cv[\"Emotion\"].value_counts().sort_index()\n",
    "TestData_distribution = df_anime_test[\"Emotion\"].value_counts().sort_index()\n",
    "\n",
    "TrainData_distribution_sorted = sorted(TrainData_distribution.items(), key = lambda d: d[1], reverse = True)\n",
    "CVData_distribution_sorted = sorted(CVData_distribution.items(), key = lambda d: d[1], reverse = True)\n",
    "TestData_distribution_sorted = sorted(TestData_distribution.items(), key = lambda d: d[1], reverse = True)"
   ]
  },
  {
   "cell_type": "code",
   "execution_count": 90,
   "metadata": {
    "scrolled": false
   },
   "outputs": [
    {
     "data": {
      "image/png": "[encoded data removed]",
      "text/plain": [
       "<Figure size 720x432 with 1 Axes>"
      ]
     },
     "metadata": {
      "needs_background": "light"
     },
     "output_type": "display_data"
    },
    {
     "name": "stdout",
     "output_type": "stream",
     "text": [
      "Number of training data points in class Angry = 515(14.3056%)\n",
      "Number of training data points in class Fear = 515(14.3056%)\n",
      "Number of training data points in class Disgust = 514(14.2778%)\n",
      "Number of training data points in class Happy = 514(14.2778%)\n",
      "Number of training data points in class Neutral = 514(14.2778%)\n",
      "Number of training data points in class Sad = 514(14.2778%)\n",
      "Number of training data points in class Surprise = 514(14.2778%)\n",
      "--------------------------------------------------------------------------------\n"
     ]
    },
    {
     "data": {
      "image/png": "[encoded data removed]",
      "text/plain": [
       "<Figure size 720x432 with 1 Axes>"
      ]
     },
     "metadata": {
      "needs_background": "light"
     },
     "output_type": "display_data"
    },
    {
     "name": "stdout",
     "output_type": "stream",
     "text": [
      "Number of training data points in class Angry = 50(14.2857%)\n",
      "Number of training data points in class Disgust = 50(14.2857%)\n",
      "Number of training data points in class Fear = 50(14.2857%)\n",
      "Number of training data points in class Happy = 50(14.2857%)\n",
      "Number of training data points in class Neutral = 50(14.2857%)\n",
      "Number of training data points in class Sad = 50(14.2857%)\n",
      "Number of training data points in class Surprise = 50(14.2857%)\n",
      "--------------------------------------------------------------------------------\n"
     ]
    },
    {
     "data": {
      "image/png": "[encoded data removed]",
      "text/plain": [
       "<Figure size 720x432 with 1 Axes>"
      ]
     },
     "metadata": {
      "needs_background": "light"
     },
     "output_type": "display_data"
    },
    {
     "name": "stdout",
     "output_type": "stream",
     "text": [
      "Number of training data points in class Disgust = 86(14.3333%)\n",
      "Number of training data points in class Happy = 86(14.3333%)\n",
      "Number of training data points in class Neutral = 86(14.3333%)\n",
      "Number of training data points in class Sad = 86(14.3333%)\n",
      "Number of training data points in class Surprise = 86(14.3333%)\n",
      "Number of training data points in class Angry = 85(14.1667%)\n",
      "Number of training data points in class Fear = 85(14.1667%)\n"
     ]
    }
   ],
   "source": [
    "fig = plt.figure(figsize = (10, 6))\n",
    "ax = fig.add_axes([0,0,1,1])\n",
    "ax.set_title(\"Count of each Emotion in Train Data\", fontsize = 20)\n",
    "sns.countplot(x = \"Emotion\", data = df_temp_train)\n",
    "plt.grid()\n",
    "for i in ax.patches:\n",
    "    ax.text(x = i.get_x() + 0.185, y = i.get_height()+1.6, s = str(i.get_height()), fontsize = 20, color = \"grey\")\n",
    "plt.xlabel(\"\")\n",
    "plt.ylabel(\"Count\", fontsize = 15)\n",
    "plt.tick_params(labelsize = 15)\n",
    "plt.xticks(rotation = 40)\n",
    "plt.show()\n",
    "\n",
    "for i in TrainData_distribution_sorted:\n",
    "    print(\"Number of training data points in class \"+str(i[0])+\" = \"+str(i[1])+ \"(\"+str(np.round(((i[1]/df_temp_train.shape[0])*100), 4))+\"%)\")\n",
    "\n",
    "print(\"-\"*80)\n",
    "\n",
    "fig = plt.figure(figsize = (10, 6))\n",
    "ax = fig.add_axes([0,0,1,1])\n",
    "ax.set_title(\"Count of each Emotion in Validation Data\", fontsize = 20)\n",
    "sns.countplot(x = \"Emotion\", data = df_temp_cv)\n",
    "plt.grid()\n",
    "for i in ax.patches:\n",
    "    ax.text(x = i.get_x() + 0.21, y = i.get_height()+0.3, s = str(i.get_height()), fontsize = 20, color = \"grey\")\n",
    "plt.xlabel(\"\")\n",
    "plt.ylabel(\"Count\", fontsize = 15)\n",
    "plt.tick_params(labelsize = 15)\n",
    "plt.xticks(rotation = 40)\n",
    "plt.show()\n",
    "\n",
    "for i in CVData_distribution_sorted:\n",
    "    print(\"Number of training data points in class \"+str(i[0])+\" = \"+str(i[1])+ \"(\"+str(np.round(((i[1]/df_temp_cv.shape[0])*100), 4))+\"%)\")\n",
    "\n",
    "print(\"-\"*80)\n",
    "\n",
    "fig = plt.figure(figsize = (10, 6))\n",
    "ax = fig.add_axes([0,0,1,1])\n",
    "ax.set_title(\"Count of each Emotion in Test Data\", fontsize = 20)\n",
    "sns.countplot(x = \"Emotion\", data = df_temp_test)\n",
    "plt.grid()\n",
    "for i in ax.patches:\n",
    "    ax.text(x = i.get_x() + 0.21, y = i.get_height()+0.3, s = str(i.get_height()), fontsize = 20, color = \"grey\")\n",
    "plt.xlabel(\"\")\n",
    "plt.ylabel(\"Count\", fontsize = 15)\n",
    "plt.tick_params(labelsize = 15)\n",
    "plt.xticks(rotation = 40)\n",
    "plt.show()\n",
    "\n",
    "for i in TestData_distribution_sorted:\n",
    "    print(\"Number of training data points in class \"+str(i[0])+\" = \"+str(i[1])+ \"(\"+str(np.round(((i[1]/df_temp_test.shape[0])*100), 4))+\"%)\")"
   ]
  },
  {
   "cell_type": "markdown",
   "metadata": {},
   "source": [
    "## 8. Pre-Processing Animated Images"
   ]
  },
  {
   "cell_type": "markdown",
   "metadata": {},
   "source": [
    "### 8.1 Converting all the images to grayscale and save them"
   ]
  },
  {
   "cell_type": "code",
   "execution_count": 91,
   "metadata": {},
   "outputs": [],
   "source": [
    "def convt_to_gray(df):\n",
    "    count = 0\n",
    "    for i in range(len(df)):\n",
    "        path1 = df[\"folderName\"][i]\n",
    "        path2 = df[\"imageName\"][i]\n",
    "        img = cv2.imread(os.path.join(path1, path2))\n",
    "        gray = cv2.cvtColor(img, cv2.COLOR_BGR2GRAY)\n",
    "        cv2.imwrite(os.path.join(path1, path2), gray)\n",
    "        count += 1\n",
    "    print(\"Total number of images converted and saved = \"+str(count))"
   ]
  },
  {
   "cell_type": "code",
   "execution_count": 92,
   "metadata": {},
   "outputs": [],
   "source": [
    "# convt_to_gray(df_anime_train)"
   ]
  },
  {
   "cell_type": "code",
   "execution_count": 93,
   "metadata": {},
   "outputs": [],
   "source": [
    "# convt_to_gray(df_anime_cv)"
   ]
  },
  {
   "cell_type": "code",
   "execution_count": 94,
   "metadata": {},
   "outputs": [],
   "source": [
    "# convt_to_gray(df_anime_test)"
   ]
  },
  {
   "cell_type": "markdown",
   "metadata": {},
   "source": [
    "### 8.2 Crop the image then resize them then save them."
   ]
  },
  {
   "cell_type": "code",
   "execution_count": 95,
   "metadata": {},
   "outputs": [],
   "source": [
    "def change_image(df):\n",
    "    count = 0\n",
    "    for i, d in df.iterrows():\n",
    "        img = cv2.imread(os.path.join(d[\"folderName\"], d[\"imageName\"]))\n",
    "        face_clip = img[40:240, 35:225]         #cropping the face in image\n",
    "        face_resized = cv2.resize(face_clip, (350, 350))\n",
    "        cv2.imwrite(os.path.join(d[\"folderName\"], d[\"imageName\"]), face_resized) #resizing and saving the image\n",
    "        count += 1\n",
    "    print(\"Total number of images cropped and resized = {}\".format(count))"
   ]
  },
  {
   "cell_type": "code",
   "execution_count": 96,
   "metadata": {},
   "outputs": [],
   "source": [
    "# change_image(df_anime_train)"
   ]
  },
  {
   "cell_type": "code",
   "execution_count": 97,
   "metadata": {},
   "outputs": [],
   "source": [
    "# change_image(df_anime_cv)"
   ]
  },
  {
   "cell_type": "code",
   "execution_count": 98,
   "metadata": {},
   "outputs": [],
   "source": [
    "# change_image(df_anime_test)"
   ]
  },
  {
   "cell_type": "markdown",
   "metadata": {},
   "source": [
    "## 9. Combining train data of both Animated and Human images"
   ]
  },
  {
   "cell_type": "markdown",
   "metadata": {},
   "source": [
    "Remember, that here we have combined only the train images of both human and animated so that we can train our model on both human and animated images. However, we have kept CV and test images of both human and animated separate so that we can cross validation our results on both human and animated images separately. At the same time we will also be able to test the efficiency of our model separately on human and animated images. By this we will get to know that how well our model is performing on human and animated images separately."
   ]
  },
  {
   "cell_type": "code",
   "execution_count": 99,
   "metadata": {},
   "outputs": [
    {
     "data": {
      "text/plain": [
       "(4169, 4)"
      ]
     },
     "execution_count": 99,
     "metadata": {},
     "output_type": "execute_result"
    }
   ],
   "source": [
    "frames = [df_human_train, df_anime_train]\n",
    "combined_train = pd.concat(frames)\n",
    "combined_train.shape"
   ]
  },
  {
   "cell_type": "code",
   "execution_count": 100,
   "metadata": {},
   "outputs": [],
   "source": [
    "combined_train = combined_train.sample(frac = 1.0)  #shuffling the dataframe\n",
    "combined_train.reset_index(inplace = True, drop = True)\n",
    "combined_train.to_pickle(\"../Data/Dataframes/combined_train.pkl\")"
   ]
  },
  {
   "cell_type": "markdown",
   "metadata": {},
   "source": [
    "## 10. Creating bottleneck features from VGG-16 model. Here, we are using Transfer learning."
   ]
  },
  {
   "cell_type": "code",
   "execution_count": 134,
   "metadata": {},
   "outputs": [
    {
     "data": {
      "text/plain": [
       "((4169, 4), (114, 4), (350, 4), (169, 4), (600, 4))"
      ]
     },
     "execution_count": 134,
     "metadata": {},
     "output_type": "execute_result"
    }
   ],
   "source": [
    "Train_Combined = pd.read_pickle(\"../Data/Dataframes/combined_train.pkl\")\n",
    "CV_Humans = pd.read_pickle(\"../Data/Dataframes/Human/df_human_cv.pkl\")\n",
    "CV_Animated = pd.read_pickle(\"../Data/Dataframes/Animated/df_anime_cv.pkl\")\n",
    "Test_Humans = pd.read_pickle(\"../Data/Dataframes/Human/df_human_test.pkl\")\n",
    "Test_Animated = pd.read_pickle(\"../Data/Dataframes/Animated/df_anime_test.pkl\")\n",
    "\n",
    "Train_Combined.shape, CV_Humans.shape, CV_Animated.shape, Test_Humans.shape, Test_Animated.shape"
   ]
  },
  {
   "cell_type": "code",
   "execution_count": 135,
   "metadata": {},
   "outputs": [],
   "source": [
    "TrainCombined_batch_pointer = 0\n",
    "CVHumans_batch_pointer = 0\n",
    "CVAnimated_batch_pointer = 0\n",
    "TestHumans_batch_pointer = 0\n",
    "TestAnimated_batch_pointer = 0"
   ]
  },
  {
   "cell_type": "markdown",
   "metadata": {},
   "source": [
    "### 10.1 Bottleneck features for CombinedTrain Data"
   ]
  },
  {
   "cell_type": "code",
   "execution_count": 136,
   "metadata": {},
   "outputs": [
    {
     "name": "stderr",
     "output_type": "stream",
     "text": [
      "C:\\Users\\xsy\\Anaconda3\\lib\\site-packages\\ipykernel_launcher.py:1: FutureWarning: Method .as_matrix will be removed in a future version. Use .values instead.\n",
      "  \"\"\"Entry point for launching an IPython kernel.\n"
     ]
    },
    {
     "data": {
      "text/plain": [
       "(4169, 7)"
      ]
     },
     "execution_count": 136,
     "metadata": {},
     "output_type": "execute_result"
    }
   ],
   "source": [
    "TrainCombined_Labels = pd.get_dummies(Train_Combined[\"Labels\"]).as_matrix()\n",
    "TrainCombined_Labels.shape"
   ]
  },
  {
   "cell_type": "code",
   "execution_count": 137,
   "metadata": {},
   "outputs": [],
   "source": [
    "# read_image = cv2.imread(\"../Data/Human/Happy/S070_003_00000017.png\")\n",
    "# print(read_image/255.0)"
   ]
  },
  {
   "cell_type": "code",
   "execution_count": 138,
   "metadata": {},
   "outputs": [],
   "source": [
    "# print(Train_Combined.iloc[3270 + 327])"
   ]
  },
  {
   "cell_type": "code",
   "execution_count": 139,
   "metadata": {},
   "outputs": [],
   "source": [
    "def loadCombinedTrainBatch(batch_size):\n",
    "    global TrainCombined_batch_pointer\n",
    "    batch_images = []\n",
    "    batch_labels = []\n",
    "    for i in range(batch_size):\n",
    "        path1 = Train_Combined.iloc[TrainCombined_batch_pointer + i][\"folderName\"]\n",
    "        path2 = Train_Combined.iloc[TrainCombined_batch_pointer + i][\"imageName\"]\n",
    "        read_image = cv2.imread(os.path.join(path1, path2))\n",
    "        read_image_final = read_image/255.0  #here, we are normalizing the images\n",
    "#         print(read_image_final.shape)\n",
    "        batch_images.append(read_image_final)\n",
    "        \n",
    "        batch_labels.append(TrainCombined_Labels[TrainCombined_batch_pointer + i]) #appending corresponding labels\n",
    "        \n",
    "    TrainCombined_batch_pointer += batch_size\n",
    "        \n",
    "    return np.array(batch_images), np.array(batch_labels)"
   ]
  },
  {
   "cell_type": "code",
   "execution_count": 140,
   "metadata": {
    "scrolled": true
   },
   "outputs": [
    {
     "name": "stdout",
     "output_type": "stream",
     "text": [
      "Batch 1 loaded\n",
      "Creating bottleneck features for batch 1\n",
      "Bottleneck features for batch 1 created and saved\n",
      "\n",
      "Batch 2 loaded\n",
      "Creating bottleneck features for batch 2\n",
      "Bottleneck features for batch 2 created and saved\n",
      "\n",
      "Batch 3 loaded\n",
      "Creating bottleneck features for batch 3\n",
      "Bottleneck features for batch 3 created and saved\n",
      "\n",
      "Batch 4 loaded\n",
      "Creating bottleneck features for batch 4\n",
      "Bottleneck features for batch 4 created and saved\n",
      "\n",
      "Batch 5 loaded\n",
      "Creating bottleneck features for batch 5\n",
      "Bottleneck features for batch 5 created and saved\n",
      "\n",
      "Batch 6 loaded\n",
      "Creating bottleneck features for batch 6\n",
      "Bottleneck features for batch 6 created and saved\n",
      "\n",
      "Batch 7 loaded\n",
      "Creating bottleneck features for batch 7\n",
      "Bottleneck features for batch 7 created and saved\n",
      "\n",
      "Batch 8 loaded\n",
      "Creating bottleneck features for batch 8\n",
      "Bottleneck features for batch 8 created and saved\n",
      "\n",
      "Batch 9 loaded\n",
      "Creating bottleneck features for batch 9\n",
      "Bottleneck features for batch 9 created and saved\n",
      "\n",
      "Batch 10 loaded\n",
      "Creating bottleneck features for batch 10\n",
      "Bottleneck features for batch 10 created and saved\n",
      "\n",
      "Batch 11 loaded\n",
      "Creating bottleneck features for batch 11\n",
      "Bottleneck features for batch 11 created and saved\n",
      "\n",
      "Batch 12 loaded\n",
      "Creating bottleneck features for batch 12\n",
      "Bottleneck features for batch 12 created and saved\n",
      "\n",
      "Batch 13 loaded\n",
      "Creating bottleneck features for batch 13\n",
      "Bottleneck features for batch 13 created and saved\n",
      "\n",
      "Batch 14 loaded\n",
      "Creating bottleneck features for batch 14\n",
      "Bottleneck features for batch 14 created and saved\n",
      "\n",
      "Batch 15 loaded\n",
      "Creating bottleneck features for batch 15\n",
      "Bottleneck features for batch 15 created and saved\n",
      "\n",
      "Batch 16 loaded\n",
      "Creating bottleneck features for batch 16\n",
      "Bottleneck features for batch 16 created and saved\n",
      "\n",
      "Batch 17 loaded\n",
      "Creating bottleneck features for batch 17\n",
      "Bottleneck features for batch 17 created and saved\n",
      "\n",
      "Batch 18 loaded\n",
      "Creating bottleneck features for batch 18\n",
      "Bottleneck features for batch 18 created and saved\n",
      "\n",
      "Batch 19 loaded\n",
      "Creating bottleneck features for batch 19\n",
      "Bottleneck features for batch 19 created and saved\n",
      "\n",
      "Batch 20 loaded\n",
      "Creating bottleneck features for batch 20\n",
      "Bottleneck features for batch 20 created and saved\n",
      "\n",
      "Batch 21 loaded\n",
      "Creating bottleneck features for batch 21\n",
      "Bottleneck features for batch 21 created and saved\n",
      "\n",
      "Batch 22 loaded\n",
      "Creating bottleneck features for batch 22\n",
      "Bottleneck features for batch 22 created and saved\n",
      "\n",
      "Batch 23 loaded\n",
      "Creating bottleneck features for batch 23\n",
      "Bottleneck features for batch 23 created and saved\n",
      "\n",
      "Batch 24 loaded\n",
      "Creating bottleneck features for batch 24\n",
      "Bottleneck features for batch 24 created and saved\n",
      "\n",
      "Batch 25 loaded\n",
      "Creating bottleneck features for batch 25\n",
      "Bottleneck features for batch 25 created and saved\n",
      "\n",
      "Batch 26 loaded\n",
      "Creating bottleneck features for batch 26\n",
      "Bottleneck features for batch 26 created and saved\n",
      "\n",
      "Batch 27 loaded\n",
      "Creating bottleneck features for batch 27\n",
      "Bottleneck features for batch 27 created and saved\n",
      "\n",
      "Batch 28 loaded\n",
      "Creating bottleneck features for batch 28\n",
      "Bottleneck features for batch 28 created and saved\n",
      "\n",
      "Batch 29 loaded\n",
      "Creating bottleneck features for batch 29\n",
      "Bottleneck features for batch 29 created and saved\n",
      "\n",
      "Batch 30 loaded\n",
      "Creating bottleneck features for batch 30\n",
      "Bottleneck features for batch 30 created and saved\n",
      "\n",
      "Batch 31 loaded\n",
      "Creating bottleneck features for batch 31\n",
      "Bottleneck features for batch 31 created and saved\n",
      "\n",
      "Batch 32 loaded\n",
      "Creating bottleneck features for batch 32\n",
      "Bottleneck features for batch 32 created and saved\n",
      "\n",
      "Batch 33 loaded\n",
      "Creating bottleneck features for batch 33\n",
      "Bottleneck features for batch 33 created and saved\n",
      "\n",
      "Batch 34 loaded\n",
      "Creating bottleneck features for batch 34\n",
      "Bottleneck features for batch 34 created and saved\n",
      "\n",
      "Batch 35 loaded\n",
      "Creating bottleneck features for batch 35\n",
      "Bottleneck features for batch 35 created and saved\n",
      "\n",
      "Batch 36 loaded\n",
      "Creating bottleneck features for batch 36\n",
      "Bottleneck features for batch 36 created and saved\n",
      "\n",
      "Batch 37 loaded\n",
      "Creating bottleneck features for batch 37\n",
      "Bottleneck features for batch 37 created and saved\n",
      "\n",
      "Batch 38 loaded\n",
      "Creating bottleneck features for batch 38\n",
      "Bottleneck features for batch 38 created and saved\n",
      "\n",
      "Batch 39 loaded\n",
      "Creating bottleneck features for batch 39\n",
      "Bottleneck features for batch 39 created and saved\n",
      "\n",
      "Batch 40 loaded\n",
      "Creating bottleneck features for batch 40\n",
      "Bottleneck features for batch 40 created and saved\n",
      "\n",
      "Batch 41 loaded\n",
      "Creating bottleneck features for batch 41\n",
      "Bottleneck features for batch 41 created and saved\n",
      "\n"
     ]
    }
   ],
   "source": [
    "#creating bottleneck features for train data using VGG-16- Image-net model\n",
    "model = VGG16(weights='imagenet', include_top=False)\n",
    "SAVEDIR = \"../Data/Bottleneck_Features/Bottleneck_CombinedTrain/\"\n",
    "SAVEDIR_LABELS = \"../Data/Bottleneck_Features/CombinedTrain_Labels/\"\n",
    "batch_size = 100\n",
    "for i in range(int(len(Train_Combined)/batch_size)):\n",
    "    x, y = loadCombinedTrainBatch(batch_size)\n",
    "    print(\"Batch {} loaded\".format(i+1))\n",
    "    np.save(os.path.join(SAVEDIR_LABELS, \"bottleneck_labels_{}\".format(i+1)), y)\n",
    "#     print(x.shape)\n",
    "    print(\"Creating bottleneck features for batch {}\". format(i+1))\n",
    "    bottleneck_features = model.predict(x)\n",
    "    np.save(os.path.join(SAVEDIR, \"bottleneck_{}\".format(i+1)), bottleneck_features)\n",
    "    print(\"Bottleneck features for batch {} created and saved\\n\".format(i+1))"
   ]
  },
  {
   "cell_type": "markdown",
   "metadata": {},
   "source": [
    "### 10.2 Bottleneck features for CV Human"
   ]
  },
  {
   "cell_type": "code",
   "execution_count": 141,
   "metadata": {},
   "outputs": [
    {
     "name": "stderr",
     "output_type": "stream",
     "text": [
      "C:\\Users\\xsy\\Anaconda3\\lib\\site-packages\\ipykernel_launcher.py:1: FutureWarning: Method .as_matrix will be removed in a future version. Use .values instead.\n",
      "  \"\"\"Entry point for launching an IPython kernel.\n"
     ]
    },
    {
     "data": {
      "text/plain": [
       "(114, 7)"
      ]
     },
     "execution_count": 141,
     "metadata": {},
     "output_type": "execute_result"
    }
   ],
   "source": [
    "CVHumans_Labels = pd.get_dummies(CV_Humans[\"Labels\"]).as_matrix()\n",
    "CVHumans_Labels.shape"
   ]
  },
  {
   "cell_type": "code",
   "execution_count": 142,
   "metadata": {},
   "outputs": [],
   "source": [
    "CVHumans_batch_pointer = 0\n",
    "CVAnimated_batch_pointer = 0\n",
    "TestHumans_batch_pointer = 0\n",
    "TestAnimated_batch_pointer = 0"
   ]
  },
  {
   "cell_type": "code",
   "execution_count": 143,
   "metadata": {},
   "outputs": [],
   "source": [
    "def loadCVHumanBatch(batch_size):\n",
    "    global CVHumans_batch_pointer\n",
    "    batch_images = []\n",
    "    batch_labels = []\n",
    "    for i in range(batch_size):\n",
    "        path1 = CV_Humans.iloc[CVHumans_batch_pointer + i][\"folderName\"]\n",
    "        path2 = CV_Humans.iloc[CVHumans_batch_pointer + i][\"imageName\"]\n",
    "        read_image = cv2.imread(os.path.join(path1, path2))\n",
    "        read_image_final = read_image/255.0  #here, we are normalizing the images\n",
    "        batch_images.append(read_image_final)\n",
    "        \n",
    "        batch_labels.append(CVHumans_Labels[CVHumans_batch_pointer + i]) #appending corresponding labels\n",
    "        \n",
    "    CVHumans_batch_pointer += batch_size\n",
    "        \n",
    "    return np.array(batch_images), np.array(batch_labels)"
   ]
  },
  {
   "cell_type": "code",
   "execution_count": 144,
   "metadata": {
    "scrolled": true
   },
   "outputs": [
    {
     "name": "stdout",
     "output_type": "stream",
     "text": [
      "Batch 1 loaded\n",
      "Creating bottleneck features for batch 1\n",
      "Bottleneck features for batch 1 created and saved\n",
      "\n"
     ]
    }
   ],
   "source": [
    "# creating bottleneck features for CV Human data using VGG-16- Image-net model\n",
    "model = VGG16(weights='imagenet', include_top=False)\n",
    "SAVEDIR = \"../Data/Bottleneck_Features/Bottleneck_CVHumans/\"\n",
    "SAVEDIR_LABELS = \"../Data/Bottleneck_Features/CVHumans_Labels/\"\n",
    "batch_size = 100\n",
    "for i in range(int(len(CV_Humans)/batch_size)):\n",
    "    x, y = loadCVHumanBatch(batch_size)\n",
    "    print(\"Batch {} loaded\".format(i+1))\n",
    "    \n",
    "    np.save(os.path.join(SAVEDIR_LABELS, \"bottleneck_labels_{}\".format(i+1)), y)\n",
    "    \n",
    "    print(\"Creating bottleneck features for batch {}\". format(i+1))\n",
    "    bottleneck_features = model.predict(x)\n",
    "    np.save(os.path.join(SAVEDIR, \"bottleneck_{}\".format(i+1)), bottleneck_features)\n",
    "    print(\"Bottleneck features for batch {} created and saved\\n\".format(i+1))"
   ]
  },
  {
   "cell_type": "markdown",
   "metadata": {},
   "source": [
    "### 10.3 Bottleneck features for CV Animated"
   ]
  },
  {
   "cell_type": "code",
   "execution_count": 145,
   "metadata": {},
   "outputs": [
    {
     "name": "stderr",
     "output_type": "stream",
     "text": [
      "C:\\Users\\xsy\\Anaconda3\\lib\\site-packages\\ipykernel_launcher.py:1: FutureWarning: Method .as_matrix will be removed in a future version. Use .values instead.\n",
      "  \"\"\"Entry point for launching an IPython kernel.\n"
     ]
    },
    {
     "data": {
      "text/plain": [
       "(350, 7)"
      ]
     },
     "execution_count": 145,
     "metadata": {},
     "output_type": "execute_result"
    }
   ],
   "source": [
    "CVAnimated_Labels = pd.get_dummies(CV_Animated[\"Labels\"]).as_matrix()\n",
    "CVAnimated_Labels.shape"
   ]
  },
  {
   "cell_type": "code",
   "execution_count": 146,
   "metadata": {},
   "outputs": [],
   "source": [
    "CVAnimated_batch_pointer = 0\n",
    "TestHumans_batch_pointer = 0\n",
    "TestAnimated_batch_pointer = 0"
   ]
  },
  {
   "cell_type": "code",
   "execution_count": 147,
   "metadata": {},
   "outputs": [],
   "source": [
    "def loadCVAnimatedBatch(batch_size):\n",
    "    global CVAnimated_batch_pointer\n",
    "    batch_images = []\n",
    "    batch_labels = []\n",
    "    for i in range(batch_size):\n",
    "        path1 = CV_Animated.iloc[CVAnimated_batch_pointer + i][\"folderName\"]\n",
    "        path2 = CV_Animated.iloc[CVAnimated_batch_pointer + i][\"imageName\"]\n",
    "        read_image = cv2.imread(os.path.join(path1, path2))\n",
    "        read_image_final = read_image/255.0  #here, we are normalizing the images\n",
    "        batch_images.append(read_image_final)\n",
    "        \n",
    "        batch_labels.append(CVAnimated_Labels[CVAnimated_batch_pointer + i]) #appending corresponding labels\n",
    "        \n",
    "    CVAnimated_batch_pointer += batch_size\n",
    "        \n",
    "    return np.array(batch_images), np.array(batch_labels)"
   ]
  },
  {
   "cell_type": "code",
   "execution_count": 148,
   "metadata": {
    "scrolled": true
   },
   "outputs": [
    {
     "name": "stdout",
     "output_type": "stream",
     "text": [
      "Batch 1 loaded\n",
      "Creating bottleneck features for batch 1\n",
      "Bottleneck features for batch 1 created and saved\n",
      "\n",
      "Batch 2 loaded\n",
      "Creating bottleneck features for batch 2\n",
      "Bottleneck features for batch 2 created and saved\n",
      "\n",
      "Batch 3 loaded\n",
      "Creating bottleneck features for batch 3\n",
      "Bottleneck features for batch 3 created and saved\n",
      "\n"
     ]
    }
   ],
   "source": [
    "#creating bottleneck features for CV Animated data using VGG-16- Image-net model\n",
    "model = VGG16(weights='imagenet', include_top=False)\n",
    "SAVEDIR = \"../Data/Bottleneck_Features/Bottleneck_CVAnimated/\"\n",
    "SAVEDIR_LABELS = \"../Data/Bottleneck_Features/CVAnimated_Labels/\"\n",
    "batch_size = 100\n",
    "for i in range(int(len(CV_Animated)/batch_size)):\n",
    "    x, y = loadCVAnimatedBatch(batch_size)\n",
    "    print(\"Batch {} loaded\".format(i+1))\n",
    "    \n",
    "    np.save(os.path.join(SAVEDIR_LABELS, \"bottleneck_labels_{}\".format(i+1)), y)\n",
    "    \n",
    "    print(\"Creating bottleneck features for batch {}\". format(i+1))\n",
    "    bottleneck_features = model.predict(x)\n",
    "    np.save(os.path.join(SAVEDIR, \"bottleneck_{}\".format(i+1)), bottleneck_features)\n",
    "    print(\"Bottleneck features for batch {} created and saved\\n\".format(i+1))"
   ]
  },
  {
   "cell_type": "markdown",
   "metadata": {},
   "source": [
    "### 10.4 Bottleneck Features for Test Human Data"
   ]
  },
  {
   "cell_type": "code",
   "execution_count": 149,
   "metadata": {},
   "outputs": [
    {
     "name": "stderr",
     "output_type": "stream",
     "text": [
      "C:\\Users\\xsy\\Anaconda3\\lib\\site-packages\\ipykernel_launcher.py:1: FutureWarning: Method .as_matrix will be removed in a future version. Use .values instead.\n",
      "  \"\"\"Entry point for launching an IPython kernel.\n"
     ]
    },
    {
     "data": {
      "text/plain": [
       "(169, 7)"
      ]
     },
     "execution_count": 149,
     "metadata": {},
     "output_type": "execute_result"
    }
   ],
   "source": [
    "TestHuman_Labels = pd.get_dummies(Test_Humans[\"Labels\"]).as_matrix()\n",
    "TestHuman_Labels.shape"
   ]
  },
  {
   "cell_type": "code",
   "execution_count": 150,
   "metadata": {},
   "outputs": [],
   "source": [
    "TestHumans_batch_pointer = 0\n",
    "TestAnimated_batch_pointer = 0"
   ]
  },
  {
   "cell_type": "code",
   "execution_count": 151,
   "metadata": {},
   "outputs": [],
   "source": [
    "def loadTestHumansBatch(batch_size):\n",
    "    global TestHumans_batch_pointer\n",
    "    batch_images = []\n",
    "    batch_labels = []\n",
    "    for i in range(batch_size):\n",
    "        path1 = Test_Humans.iloc[TestHumans_batch_pointer + i][\"folderName\"]\n",
    "        path2 = Test_Humans.iloc[TestHumans_batch_pointer + i][\"imageName\"]\n",
    "        read_image = cv2.imread(os.path.join(path1, path2))\n",
    "        read_image_final = read_image/255.0  #here, we are normalizing the images\n",
    "        batch_images.append(read_image_final)\n",
    "        \n",
    "        batch_labels.append(TestHuman_Labels[TestHumans_batch_pointer + i]) #appending corresponding labels\n",
    "        \n",
    "    TestHumans_batch_pointer += batch_size\n",
    "        \n",
    "    return np.array(batch_images), np.array(batch_labels)"
   ]
  },
  {
   "cell_type": "code",
   "execution_count": 152,
   "metadata": {
    "scrolled": true
   },
   "outputs": [
    {
     "name": "stdout",
     "output_type": "stream",
     "text": [
      "Batch 1 loaded\n",
      "Creating bottleneck features for batch 1\n",
      "Bottleneck features for batch 1 created and saved\n",
      "\n"
     ]
    }
   ],
   "source": [
    "#creating bottleneck features for Test Humans data using VGG-16- Image-net model\n",
    "model = VGG16(weights='imagenet', include_top=False)\n",
    "SAVEDIR = \"../Data/Bottleneck_Features/Bottleneck_TestHumans/\"\n",
    "SAVEDIR_LABELS = \"../Data/Bottleneck_Features/TestHumans_Labels/\"\n",
    "batch_size = 100\n",
    "for i in range(int(len(Test_Humans)/batch_size)):\n",
    "    x, y = loadTestHumansBatch(batch_size)\n",
    "    print(\"Batch {} loaded\".format(i+1))\n",
    "    \n",
    "    np.save(os.path.join(SAVEDIR_LABELS, \"bottleneck_labels_{}\".format(i+1)), y)\n",
    "    \n",
    "    print(\"Creating bottleneck features for batch {}\". format(i+1))\n",
    "    bottleneck_features = model.predict(x)\n",
    "    np.save(os.path.join(SAVEDIR, \"bottleneck_{}\".format(i+1)), bottleneck_features)\n",
    "    print(\"Bottleneck features for batch {} created and saved\\n\".format(i+1))\n",
    "\n",
    "leftover_points = len(Test_Humans) - TestHumans_batch_pointer\n",
    "x, y = loadTestHumansBatch(leftover_points)\n",
    "np.save(os.path.join(SAVEDIR_LABELS, \"bottleneck_labels_{}\".format(int(len(Test_Humans)/batch_size) + 1)), y)\n",
    "bottleneck_features = model.predict(x)\n",
    "np.save(os.path.join(SAVEDIR, \"bottleneck_{}\".format(int(len(Test_Humans)/batch_size) + 1)), bottleneck_features)"
   ]
  },
  {
   "cell_type": "markdown",
   "metadata": {},
   "source": [
    "### 10.5 Bottleneck Features for Test Animated Data"
   ]
  },
  {
   "cell_type": "code",
   "execution_count": 157,
   "metadata": {},
   "outputs": [
    {
     "name": "stderr",
     "output_type": "stream",
     "text": [
      "C:\\Users\\xsy\\Anaconda3\\lib\\site-packages\\ipykernel_launcher.py:1: FutureWarning: Method .as_matrix will be removed in a future version. Use .values instead.\n",
      "  \"\"\"Entry point for launching an IPython kernel.\n"
     ]
    },
    {
     "data": {
      "text/plain": [
       "(600, 7)"
      ]
     },
     "execution_count": 157,
     "metadata": {},
     "output_type": "execute_result"
    }
   ],
   "source": [
    "TestAnimated_Labels = pd.get_dummies(Test_Animated[\"Labels\"]).as_matrix()\n",
    "TestAnimated_Labels.shape"
   ]
  },
  {
   "cell_type": "code",
   "execution_count": 158,
   "metadata": {},
   "outputs": [],
   "source": [
    "TestAnimated_batch_pointer = 0"
   ]
  },
  {
   "cell_type": "code",
   "execution_count": 159,
   "metadata": {},
   "outputs": [],
   "source": [
    "def loadTestAnimatedBatch(batch_size):\n",
    "    global TestAnimated_batch_pointer\n",
    "    batch_images = []\n",
    "    batch_labels = []\n",
    "    for i in range(batch_size):\n",
    "        path1 = Test_Animated.iloc[TestAnimated_batch_pointer + i][\"folderName\"]\n",
    "        path2 = Test_Animated.iloc[TestAnimated_batch_pointer + i][\"imageName\"]\n",
    "        read_image = cv2.imread(os.path.join(path1, path2))\n",
    "        read_image_final = read_image/255.0  #here, we are normalizing the images\n",
    "        batch_images.append(read_image_final)\n",
    "        \n",
    "        batch_labels.append(TestAnimated_Labels[TestAnimated_batch_pointer + i]) #appending corresponding labels\n",
    "        \n",
    "    TestAnimated_batch_pointer += batch_size\n",
    "        \n",
    "    return np.array(batch_images), np.array(batch_labels)"
   ]
  },
  {
   "cell_type": "code",
   "execution_count": 160,
   "metadata": {
    "scrolled": true
   },
   "outputs": [
    {
     "name": "stdout",
     "output_type": "stream",
     "text": [
      "Batch 1 loaded\n",
      "Creating bottleneck features for batch 1\n",
      "Bottleneck features for batch 1 created and saved\n",
      "\n",
      "Batch 2 loaded\n",
      "Creating bottleneck features for batch 2\n",
      "Bottleneck features for batch 2 created and saved\n",
      "\n",
      "Batch 3 loaded\n",
      "Creating bottleneck features for batch 3\n",
      "Bottleneck features for batch 3 created and saved\n",
      "\n",
      "Batch 4 loaded\n",
      "Creating bottleneck features for batch 4\n",
      "Bottleneck features for batch 4 created and saved\n",
      "\n",
      "Batch 5 loaded\n",
      "Creating bottleneck features for batch 5\n",
      "Bottleneck features for batch 5 created and saved\n",
      "\n",
      "Batch 6 loaded\n",
      "Creating bottleneck features for batch 6\n",
      "Bottleneck features for batch 6 created and saved\n",
      "\n"
     ]
    }
   ],
   "source": [
    "#creating bottleneck features for Test Animated data using VGG-16- Image-net model\n",
    "model = VGG16(weights='imagenet', include_top=False)\n",
    "SAVEDIR = \"../Data/Bottleneck_Features/Bottleneck_TestAnimated/\"\n",
    "SAVEDIR_LABELS = \"../Data/Bottleneck_Features/TestAnimated_Labels/\"\n",
    "batch_size = 100\n",
    "for i in range(int(len(Test_Animated)/batch_size)):\n",
    "    x, y = loadTestAnimatedBatch(batch_size)\n",
    "    print(\"Batch {} loaded\".format(i+1))\n",
    "    \n",
    "    np.save(os.path.join(SAVEDIR_LABELS, \"bottleneck_labels_{}\".format(i+1)), y)\n",
    "    \n",
    "    print(\"Creating bottleneck features for batch {}\". format(i+1))\n",
    "    bottleneck_features = model.predict(x)\n",
    "    np.save(os.path.join(SAVEDIR, \"bottleneck_{}\".format(i+1)), bottleneck_features)\n",
    "    print(\"Bottleneck features for batch {} created and saved\\n\".format(i+1))"
   ]
  },
  {
   "cell_type": "markdown",
   "metadata": {},
   "source": [
    "## 11. Modelling & Training"
   ]
  },
  {
   "cell_type": "code",
   "execution_count": 161,
   "metadata": {},
   "outputs": [],
   "source": [
    "no_of_classes = 7"
   ]
  },
  {
   "cell_type": "code",
   "execution_count": 162,
   "metadata": {},
   "outputs": [],
   "source": [
    "#model architecture\n",
    "def model(input_shape):\n",
    "    model = Sequential()\n",
    "        \n",
    "    model.add(Dense(512, activation='relu', input_dim = input_shape))\n",
    "    model.add(Dropout(0.1))\n",
    "    \n",
    "    model.add(Dense(256, activation='relu'))\n",
    "    \n",
    "    model.add(Dense(128, activation='relu'))\n",
    "    model.add(BatchNormalization())\n",
    "    \n",
    "    model.add(Dense(64, activation='relu'))\n",
    "    model.add(Dense(output_dim = no_of_classes, activation='softmax')) \n",
    "    \n",
    "    return model"
   ]
  },
  {
   "cell_type": "code",
   "execution_count": 163,
   "metadata": {
    "scrolled": true
   },
   "outputs": [
    {
     "name": "stderr",
     "output_type": "stream",
     "text": [
      "C:\\Users\\xsy\\Anaconda3\\lib\\site-packages\\ipykernel_launcher.py:14: UserWarning: Update your `Dense` call to the Keras 2 API: `Dense(activation=\"softmax\", units=7)`\n",
      "  \n"
     ]
    },
    {
     "name": "stdout",
     "output_type": "stream",
     "text": [
      "_________________________________________________________________\n",
      "Layer (type)                 Output Shape              Param #   \n",
      "=================================================================\n",
      "dense_6 (Dense)              (None, 512)               26214912  \n",
      "_________________________________________________________________\n",
      "dropout_2 (Dropout)          (None, 512)               0         \n",
      "_________________________________________________________________\n",
      "dense_7 (Dense)              (None, 256)               131328    \n",
      "_________________________________________________________________\n",
      "dense_8 (Dense)              (None, 128)               32896     \n",
      "_________________________________________________________________\n",
      "batch_normalization_2 (Batch (None, 128)               512       \n",
      "_________________________________________________________________\n",
      "dense_9 (Dense)              (None, 64)                8256      \n",
      "_________________________________________________________________\n",
      "dense_10 (Dense)             (None, 7)                 455       \n",
      "=================================================================\n",
      "Total params: 26,388,359\n",
      "Trainable params: 26,388,103\n",
      "Non-trainable params: 256\n",
      "_________________________________________________________________\n",
      "Avg_CombTrain_Loss: 1.16, Avg_CombTrain_Acc: 0.6, Avg_CVHum_Loss: 2.65, Avg_CVHum_Acc: 0.35, Avg_CVAnime_Loss: 1.88, Avg_CVAnime_Acc: 0.42\n",
      "Model and weights saved at epoch 1\n",
      "Avg_CombTrain_Loss: 0.24, Avg_CombTrain_Acc: 0.94, Avg_CVHum_Loss: 1.34, Avg_CVHum_Acc: 0.56, Avg_CVAnime_Loss: 0.15, Avg_CVAnime_Acc: 0.96\n",
      "Model and weights saved at epoch 2\n",
      "Avg_CombTrain_Loss: 0.09, Avg_CombTrain_Acc: 0.97, Avg_CVHum_Loss: 0.82, Avg_CVHum_Acc: 0.74, Avg_CVAnime_Loss: 0.03, Avg_CVAnime_Acc: 0.99\n",
      "Model and weights saved at epoch 3\n",
      "Avg_CombTrain_Loss: 0.05, Avg_CombTrain_Acc: 0.98, Avg_CVHum_Loss: 0.79, Avg_CVHum_Acc: 0.76, Avg_CVAnime_Loss: 0.03, Avg_CVAnime_Acc: 0.99\n",
      "Model and weights saved at epoch 4\n",
      "Avg_CombTrain_Loss: 0.04, Avg_CombTrain_Acc: 0.99, Avg_CVHum_Loss: 0.82, Avg_CVHum_Acc: 0.76, Avg_CVAnime_Loss: 0.03, Avg_CVAnime_Acc: 1.0\n",
      "Model and weights saved at epoch 5\n",
      "Avg_CombTrain_Loss: 0.02, Avg_CombTrain_Acc: 0.99, Avg_CVHum_Loss: 0.71, Avg_CVHum_Acc: 0.8, Avg_CVAnime_Loss: 0.01, Avg_CVAnime_Acc: 1.0\n",
      "Model and weights saved at epoch 6\n",
      "Avg_CombTrain_Loss: 0.02, Avg_CombTrain_Acc: 0.99, Avg_CVHum_Loss: 0.76, Avg_CVHum_Acc: 0.79, Avg_CVAnime_Loss: 0.02, Avg_CVAnime_Acc: 1.0\n",
      "Model and weights saved at epoch 7\n",
      "Avg_CombTrain_Loss: 0.02, Avg_CombTrain_Acc: 1.0, Avg_CVHum_Loss: 0.82, Avg_CVHum_Acc: 0.79, Avg_CVAnime_Loss: 0.01, Avg_CVAnime_Acc: 1.0\n",
      "Model and weights saved at epoch 8\n",
      "Avg_CombTrain_Loss: 0.01, Avg_CombTrain_Acc: 1.0, Avg_CVHum_Loss: 0.8, Avg_CVHum_Acc: 0.78, Avg_CVAnime_Loss: 0.01, Avg_CVAnime_Acc: 1.0\n",
      "Model and weights saved at epoch 9\n",
      "Avg_CombTrain_Loss: 0.01, Avg_CombTrain_Acc: 1.0, Avg_CVHum_Loss: 0.85, Avg_CVHum_Acc: 0.8, Avg_CVAnime_Loss: 0.01, Avg_CVAnime_Acc: 1.0\n",
      "Model and weights saved at epoch 10\n",
      "Avg_CombTrain_Loss: 0.03, Avg_CombTrain_Acc: 0.99, Avg_CVHum_Loss: 0.91, Avg_CVHum_Acc: 0.76, Avg_CVAnime_Loss: 0.03, Avg_CVAnime_Acc: 0.99\n",
      "Model and weights saved at epoch 11\n",
      "Avg_CombTrain_Loss: 0.03, Avg_CombTrain_Acc: 0.99, Avg_CVHum_Loss: 0.88, Avg_CVHum_Acc: 0.76, Avg_CVAnime_Loss: 0.03, Avg_CVAnime_Acc: 0.99\n",
      "Model and weights saved at epoch 12\n",
      "Avg_CombTrain_Loss: 0.01, Avg_CombTrain_Acc: 1.0, Avg_CVHum_Loss: 1.16, Avg_CVHum_Acc: 0.75, Avg_CVAnime_Loss: 0.04, Avg_CVAnime_Acc: 0.99\n",
      "Model and weights saved at epoch 13\n",
      "Avg_CombTrain_Loss: 0.01, Avg_CombTrain_Acc: 1.0, Avg_CVHum_Loss: 0.95, Avg_CVHum_Acc: 0.81, Avg_CVAnime_Loss: 0.05, Avg_CVAnime_Acc: 0.98\n",
      "Model and weights saved at epoch 14\n",
      "Avg_CombTrain_Loss: 0.01, Avg_CombTrain_Acc: 1.0, Avg_CVHum_Loss: 1.01, Avg_CVHum_Acc: 0.78, Avg_CVAnime_Loss: 0.03, Avg_CVAnime_Acc: 0.99\n",
      "Model and weights saved at epoch 15\n",
      "Avg_CombTrain_Loss: 0.01, Avg_CombTrain_Acc: 1.0, Avg_CVHum_Loss: 0.93, Avg_CVHum_Acc: 0.81, Avg_CVAnime_Loss: 0.02, Avg_CVAnime_Acc: 0.99\n",
      "Model and weights saved at epoch 16\n",
      "Avg_CombTrain_Loss: 0.03, Avg_CombTrain_Acc: 0.99, Avg_CVHum_Loss: 0.9, Avg_CVHum_Acc: 0.79, Avg_CVAnime_Loss: 0.08, Avg_CVAnime_Acc: 0.97\n",
      "Model and weights saved at epoch 17\n",
      "Avg_CombTrain_Loss: 0.02, Avg_CombTrain_Acc: 0.99, Avg_CVHum_Loss: 0.89, Avg_CVHum_Acc: 0.8, Avg_CVAnime_Loss: 0.05, Avg_CVAnime_Acc: 0.98\n",
      "Model and weights saved at epoch 18\n",
      "Avg_CombTrain_Loss: 0.01, Avg_CombTrain_Acc: 1.0, Avg_CVHum_Loss: 1.12, Avg_CVHum_Acc: 0.77, Avg_CVAnime_Loss: 0.01, Avg_CVAnime_Acc: 1.0\n",
      "Model and weights saved at epoch 19\n",
      "Avg_CombTrain_Loss: 0.01, Avg_CombTrain_Acc: 1.0, Avg_CVHum_Loss: 0.68, Avg_CVHum_Acc: 0.85, Avg_CVAnime_Loss: 0.01, Avg_CVAnime_Acc: 1.0\n",
      "Model and weights saved at epoch 20\n"
     ]
    }
   ],
   "source": [
    "#training the model\n",
    "SAVEDIR_COMB_TRAIN = \"../Data/Bottleneck_Features/Bottleneck_CombinedTrain/\"\n",
    "SAVEDIR_COMB_TRAIN_LABELS = \"../Data/Bottleneck_Features/CombinedTrain_Labels/\"\n",
    "\n",
    "SAVEDIR_CV_HUMANS = \"../Data/Bottleneck_Features/Bottleneck_CVHumans/\"\n",
    "SAVEDIR_CV_HUMANS_LABELS = \"../Data/Bottleneck_Features/CVHumans_Labels/\"\n",
    "\n",
    "SAVEDIR_CV_ANIME = \"../Data/Bottleneck_Features/Bottleneck_CVAnimated/\"\n",
    "SAVEDIR_CV_ANIME_LABELS =  \"../Data/Bottleneck_Features/CVAnimated_Labels/\"\n",
    "\n",
    "SAVER = \"../Data/Model_Save/\"\n",
    "\n",
    "input_shape = 10*10*512   #this is the shape of bottleneck feature of each image which comes after passing the image through VGG-16\n",
    "\n",
    "model = model(input_shape)\n",
    "# model.load_weights(os.path.join(SAVER, \"model.h5\"))\n",
    "model.summary()\n",
    "model.compile(loss = 'categorical_crossentropy', optimizer = \"adam\", metrics = [\"accuracy\"])\n",
    "\n",
    "epochs = 20\n",
    "batch_size = 100\n",
    "step = 0\n",
    "combTrain_bottleneck_files = int(len(Train_Combined) / batch_size)\n",
    "CVHuman_bottleneck_files = int(len(CV_Humans) / batch_size)\n",
    "CVAnime_bottleneck_files = int(len(CV_Animated) / batch_size)\n",
    "epoch_number, CombTrain_loss, CombTrain_acc, CVHuman_loss, CVHuman_acc, CVAnime_loss, CVAnime_acc = [], [], [], [], [], [], []\n",
    "\n",
    "for epoch in range(epochs):\n",
    "    avg_epoch_CombTr_loss, avg_epoch_CombTr_acc, avg_epoch_CVHum_loss, avg_epoch_CVHum_acc, avg_epoch_CVAnime_loss, avg_epoch_CVAnime_acc = 0, 0, 0, 0, 0, 0\n",
    "    epoch_number.append(epoch + 1)\n",
    "    \n",
    "    for i in range(combTrain_bottleneck_files):\n",
    "        \n",
    "        step += 1\n",
    "        \n",
    "        #loading batch of train bottleneck features for training MLP.\n",
    "        X_CombTrain_load = np.load(os.path.join(SAVEDIR_COMB_TRAIN, \"bottleneck_{}.npy\".format(i+1)))\n",
    "        X_CombTrain = X_CombTrain_load.reshape(X_CombTrain_load.shape[0], X_CombTrain_load.shape[1]*X_CombTrain_load.shape[2]*X_CombTrain_load.shape[3])\n",
    "        Y_CombTrain = np.load(os.path.join(SAVEDIR_COMB_TRAIN_LABELS, \"bottleneck_labels_{}.npy\".format(i+1)))\n",
    "#         print(X_CombTrain.shape,Y_CombTrain.shape)\n",
    "        #loading batch of Human CV bottleneck features for cross-validation.\n",
    "        X_CVHuman_load = np.load(os.path.join(SAVEDIR_CV_HUMANS, \"bottleneck_{}.npy\".format((i % CVHuman_bottleneck_files) + 1)))\n",
    "        X_CVHuman = X_CVHuman_load.reshape(X_CVHuman_load.shape[0], X_CVHuman_load.shape[1]*X_CVHuman_load.shape[2]*X_CVHuman_load.shape[3])\n",
    "        Y_CVHuman = np.load(os.path.join(SAVEDIR_CV_HUMANS_LABELS, \"bottleneck_labels_{}.npy\".format((i % CVHuman_bottleneck_files) + 1)))\n",
    "        \n",
    "        #loading batch of animated CV bottleneck features for cross-validation.\n",
    "        X_CVAnime_load = np.load(os.path.join(SAVEDIR_CV_ANIME, \"bottleneck_{}.npy\".format((i % CVAnime_bottleneck_files) + 1)))\n",
    "        X_CVAnime = X_CVAnime_load.reshape(X_CVAnime_load.shape[0], X_CVAnime_load.shape[1]*X_CVAnime_load.shape[2]*X_CVAnime_load.shape[3])\n",
    "        Y_CVAnime = np.load(os.path.join(SAVEDIR_CV_ANIME_LABELS, \"bottleneck_labels_{}.npy\".format((i % CVAnime_bottleneck_files) + 1)))\n",
    "        \n",
    "        CombTrain_Loss, CombTrain_Accuracy = model.train_on_batch(X_CombTrain, Y_CombTrain) #train the model on batch\n",
    "        CVHuman_Loss, CVHuman_Accuracy = model.test_on_batch(X_CVHuman, Y_CVHuman) #cross validate the model on CV Human batch\n",
    "        CVAnime_Loss, CVAnime_Accuracy = model.test_on_batch(X_CVAnime, Y_CVAnime) #cross validate the model on CV Animated batch\n",
    "        \n",
    "#         print(\"Epoch: {}, Step: {}, CombTr_Loss: {}, CombTr_Acc: {}, CVHum_Loss: {}, CVHum_Acc: {}, CVAni_Loss: {}, CVAni_Acc: {}\".format(epoch+1, step, np.round(float(CombTrain_Loss), 2), np.round(float(CombTrain_Accuracy), 2), np.round(float(CVHuman_Loss), 2), np.round(float(CVHuman_Accuracy), 2), np.round(float(CVAnime_Loss), 2), np.round(float(CVAnime_Accuracy), 2)))\n",
    "        \n",
    "        avg_epoch_CombTr_loss += CombTrain_Loss / combTrain_bottleneck_files\n",
    "        avg_epoch_CombTr_acc += CombTrain_Accuracy / combTrain_bottleneck_files\n",
    "        avg_epoch_CVHum_loss += CVHuman_Loss / combTrain_bottleneck_files\n",
    "        avg_epoch_CVHum_acc += CVHuman_Accuracy / combTrain_bottleneck_files\n",
    "        avg_epoch_CVAnime_loss += CVAnime_Loss / combTrain_bottleneck_files\n",
    "        avg_epoch_CVAnime_acc += CVAnime_Accuracy / combTrain_bottleneck_files\n",
    "        \n",
    "    print(\"Avg_CombTrain_Loss: {}, Avg_CombTrain_Acc: {}, Avg_CVHum_Loss: {}, Avg_CVHum_Acc: {}, Avg_CVAnime_Loss: {}, Avg_CVAnime_Acc: {}\".format(np.round(float(avg_epoch_CombTr_loss), 2), np.round(float(avg_epoch_CombTr_acc), 2), np.round(float(avg_epoch_CVHum_loss), 2), np.round(float(avg_epoch_CVHum_acc), 2), np.round(float(avg_epoch_CVAnime_loss), 2), np.round(float(avg_epoch_CVAnime_acc), 2)))\n",
    "\n",
    "    CombTrain_loss.append(avg_epoch_CombTr_loss)\n",
    "    CombTrain_acc.append(avg_epoch_CombTr_acc)\n",
    "    CVHuman_loss.append(avg_epoch_CVHum_loss)\n",
    "    CVHuman_acc.append(avg_epoch_CVHum_acc)\n",
    "    CVAnime_loss.append(avg_epoch_CVAnime_loss)\n",
    "    CVAnime_acc.append(avg_epoch_CVAnime_acc)\n",
    "    \n",
    "    model.save(os.path.join(SAVER, \"model.h5\"))  #saving the model on each epoc\n",
    "    model.save_weights(os.path.join(SAVER, \"model_weights.h5\")) #saving the weights of model on each epoch\n",
    "    print(\"Model and weights saved at epoch {}\".format(epoch + 1))\n",
    "          \n",
    "log_frame = pd.DataFrame(columns = [\"Epoch\", \"Comb_Train_Loss\", \"Comb_Train_Accuracy\", \"CVHuman_Loss\", \"CVHuman_Accuracy\", \"CVAnime_Loss\", \"CVAnime_Accuracy\"])\n",
    "log_frame[\"Epoch\"] = epoch_number\n",
    "log_frame[\"Comb_Train_Loss\"] = CombTrain_loss\n",
    "log_frame[\"Comb_Train_Accuracy\"] = CombTrain_acc\n",
    "log_frame[\"CVHuman_Loss\"] = CVHuman_loss\n",
    "log_frame[\"CVHuman_Accuracy\"] = CVHuman_acc\n",
    "log_frame[\"CVAnime_Loss\"] = CVAnime_loss\n",
    "log_frame[\"CVAnime_Accuracy\"] = CVAnime_acc\n",
    "log_frame.to_csv(\"../Data/Logs/Log.csv\", index = False)"
   ]
  },
  {
   "cell_type": "code",
   "execution_count": 164,
   "metadata": {},
   "outputs": [
    {
     "data": {
      "text/html": [
       "<div>\n",
       "<style scoped>\n",
       "    .dataframe tbody tr th:only-of-type {\n",
       "        vertical-align: middle;\n",
       "    }\n",
       "\n",
       "    .dataframe tbody tr th {\n",
       "        vertical-align: top;\n",
       "    }\n",
       "\n",
       "    .dataframe thead th {\n",
       "        text-align: right;\n",
       "    }\n",
       "</style>\n",
       "<table border=\"1\" class=\"dataframe\">\n",
       "  <thead>\n",
       "    <tr style=\"text-align: right;\">\n",
       "      <th></th>\n",
       "      <th>Epoch</th>\n",
       "      <th>Comb_Train_Loss</th>\n",
       "      <th>Comb_Train_Accuracy</th>\n",
       "      <th>CVHuman_Loss</th>\n",
       "      <th>CVHuman_Accuracy</th>\n",
       "      <th>CVAnime_Loss</th>\n",
       "      <th>CVAnime_Accuracy</th>\n",
       "    </tr>\n",
       "  </thead>\n",
       "  <tbody>\n",
       "    <tr>\n",
       "      <th>0</th>\n",
       "      <td>1</td>\n",
       "      <td>0.704710</td>\n",
       "      <td>0.755769</td>\n",
       "      <td>1.739470</td>\n",
       "      <td>0.448077</td>\n",
       "      <td>1.075818</td>\n",
       "      <td>0.708173</td>\n",
       "    </tr>\n",
       "    <tr>\n",
       "      <th>1</th>\n",
       "      <td>2</td>\n",
       "      <td>0.211229</td>\n",
       "      <td>0.934375</td>\n",
       "      <td>1.985411</td>\n",
       "      <td>0.547837</td>\n",
       "      <td>1.056886</td>\n",
       "      <td>0.805288</td>\n",
       "    </tr>\n",
       "    <tr>\n",
       "      <th>2</th>\n",
       "      <td>3</td>\n",
       "      <td>0.120556</td>\n",
       "      <td>0.962500</td>\n",
       "      <td>1.157691</td>\n",
       "      <td>0.705769</td>\n",
       "      <td>0.321500</td>\n",
       "      <td>0.893269</td>\n",
       "    </tr>\n",
       "    <tr>\n",
       "      <th>3</th>\n",
       "      <td>4</td>\n",
       "      <td>0.091546</td>\n",
       "      <td>0.971154</td>\n",
       "      <td>1.084601</td>\n",
       "      <td>0.711779</td>\n",
       "      <td>0.212145</td>\n",
       "      <td>0.934135</td>\n",
       "    </tr>\n",
       "    <tr>\n",
       "      <th>4</th>\n",
       "      <td>5</td>\n",
       "      <td>0.147811</td>\n",
       "      <td>0.950481</td>\n",
       "      <td>2.246476</td>\n",
       "      <td>0.647837</td>\n",
       "      <td>1.466243</td>\n",
       "      <td>0.834615</td>\n",
       "    </tr>\n",
       "    <tr>\n",
       "      <th>5</th>\n",
       "      <td>6</td>\n",
       "      <td>0.062828</td>\n",
       "      <td>0.976442</td>\n",
       "      <td>1.001590</td>\n",
       "      <td>0.740144</td>\n",
       "      <td>0.092428</td>\n",
       "      <td>0.969952</td>\n",
       "    </tr>\n",
       "    <tr>\n",
       "      <th>6</th>\n",
       "      <td>7</td>\n",
       "      <td>0.111092</td>\n",
       "      <td>0.963221</td>\n",
       "      <td>1.576609</td>\n",
       "      <td>0.689423</td>\n",
       "      <td>0.801960</td>\n",
       "      <td>0.863942</td>\n",
       "    </tr>\n",
       "    <tr>\n",
       "      <th>7</th>\n",
       "      <td>8</td>\n",
       "      <td>0.092735</td>\n",
       "      <td>0.971394</td>\n",
       "      <td>1.417509</td>\n",
       "      <td>0.682933</td>\n",
       "      <td>0.380458</td>\n",
       "      <td>0.889423</td>\n",
       "    </tr>\n",
       "    <tr>\n",
       "      <th>8</th>\n",
       "      <td>9</td>\n",
       "      <td>0.136161</td>\n",
       "      <td>0.956490</td>\n",
       "      <td>1.487133</td>\n",
       "      <td>0.668990</td>\n",
       "      <td>0.675563</td>\n",
       "      <td>0.859615</td>\n",
       "    </tr>\n",
       "    <tr>\n",
       "      <th>9</th>\n",
       "      <td>10</td>\n",
       "      <td>0.108349</td>\n",
       "      <td>0.968750</td>\n",
       "      <td>1.089068</td>\n",
       "      <td>0.737019</td>\n",
       "      <td>0.445498</td>\n",
       "      <td>0.918510</td>\n",
       "    </tr>\n",
       "    <tr>\n",
       "      <th>10</th>\n",
       "      <td>11</td>\n",
       "      <td>0.052084</td>\n",
       "      <td>0.984375</td>\n",
       "      <td>0.718070</td>\n",
       "      <td>0.813462</td>\n",
       "      <td>0.022081</td>\n",
       "      <td>0.994712</td>\n",
       "    </tr>\n",
       "    <tr>\n",
       "      <th>11</th>\n",
       "      <td>12</td>\n",
       "      <td>0.058979</td>\n",
       "      <td>0.981010</td>\n",
       "      <td>0.759884</td>\n",
       "      <td>0.809615</td>\n",
       "      <td>0.054052</td>\n",
       "      <td>0.983894</td>\n",
       "    </tr>\n",
       "    <tr>\n",
       "      <th>12</th>\n",
       "      <td>13</td>\n",
       "      <td>0.047458</td>\n",
       "      <td>0.986779</td>\n",
       "      <td>0.839569</td>\n",
       "      <td>0.811779</td>\n",
       "      <td>0.036898</td>\n",
       "      <td>0.987019</td>\n",
       "    </tr>\n",
       "    <tr>\n",
       "      <th>13</th>\n",
       "      <td>14</td>\n",
       "      <td>0.085495</td>\n",
       "      <td>0.972356</td>\n",
       "      <td>1.029411</td>\n",
       "      <td>0.771635</td>\n",
       "      <td>0.343317</td>\n",
       "      <td>0.941587</td>\n",
       "    </tr>\n",
       "    <tr>\n",
       "      <th>14</th>\n",
       "      <td>15</td>\n",
       "      <td>0.055579</td>\n",
       "      <td>0.982452</td>\n",
       "      <td>0.793958</td>\n",
       "      <td>0.787981</td>\n",
       "      <td>0.018064</td>\n",
       "      <td>0.996875</td>\n",
       "    </tr>\n",
       "    <tr>\n",
       "      <th>15</th>\n",
       "      <td>16</td>\n",
       "      <td>0.108243</td>\n",
       "      <td>0.965385</td>\n",
       "      <td>1.464551</td>\n",
       "      <td>0.718029</td>\n",
       "      <td>0.452601</td>\n",
       "      <td>0.928125</td>\n",
       "    </tr>\n",
       "    <tr>\n",
       "      <th>16</th>\n",
       "      <td>17</td>\n",
       "      <td>0.031406</td>\n",
       "      <td>0.989904</td>\n",
       "      <td>0.524215</td>\n",
       "      <td>0.848558</td>\n",
       "      <td>0.007099</td>\n",
       "      <td>0.998317</td>\n",
       "    </tr>\n",
       "    <tr>\n",
       "      <th>17</th>\n",
       "      <td>18</td>\n",
       "      <td>0.030931</td>\n",
       "      <td>0.990385</td>\n",
       "      <td>0.526826</td>\n",
       "      <td>0.863942</td>\n",
       "      <td>0.003679</td>\n",
       "      <td>0.999038</td>\n",
       "    </tr>\n",
       "    <tr>\n",
       "      <th>18</th>\n",
       "      <td>19</td>\n",
       "      <td>0.075246</td>\n",
       "      <td>0.977885</td>\n",
       "      <td>1.368249</td>\n",
       "      <td>0.770913</td>\n",
       "      <td>0.662559</td>\n",
       "      <td>0.914183</td>\n",
       "    </tr>\n",
       "    <tr>\n",
       "      <th>19</th>\n",
       "      <td>20</td>\n",
       "      <td>0.042613</td>\n",
       "      <td>0.985577</td>\n",
       "      <td>0.556674</td>\n",
       "      <td>0.862740</td>\n",
       "      <td>0.009208</td>\n",
       "      <td>0.996875</td>\n",
       "    </tr>\n",
       "  </tbody>\n",
       "</table>\n",
       "</div>"
      ],
      "text/plain": [
       "    Epoch  Comb_Train_Loss  Comb_Train_Accuracy  CVHuman_Loss  \\\n",
       "0       1         0.704710             0.755769      1.739470   \n",
       "1       2         0.211229             0.934375      1.985411   \n",
       "2       3         0.120556             0.962500      1.157691   \n",
       "3       4         0.091546             0.971154      1.084601   \n",
       "4       5         0.147811             0.950481      2.246476   \n",
       "5       6         0.062828             0.976442      1.001590   \n",
       "6       7         0.111092             0.963221      1.576609   \n",
       "7       8         0.092735             0.971394      1.417509   \n",
       "8       9         0.136161             0.956490      1.487133   \n",
       "9      10         0.108349             0.968750      1.089068   \n",
       "10     11         0.052084             0.984375      0.718070   \n",
       "11     12         0.058979             0.981010      0.759884   \n",
       "12     13         0.047458             0.986779      0.839569   \n",
       "13     14         0.085495             0.972356      1.029411   \n",
       "14     15         0.055579             0.982452      0.793958   \n",
       "15     16         0.108243             0.965385      1.464551   \n",
       "16     17         0.031406             0.989904      0.524215   \n",
       "17     18         0.030931             0.990385      0.526826   \n",
       "18     19         0.075246             0.977885      1.368249   \n",
       "19     20         0.042613             0.985577      0.556674   \n",
       "\n",
       "    CVHuman_Accuracy  CVAnime_Loss  CVAnime_Accuracy  \n",
       "0           0.448077      1.075818          0.708173  \n",
       "1           0.547837      1.056886          0.805288  \n",
       "2           0.705769      0.321500          0.893269  \n",
       "3           0.711779      0.212145          0.934135  \n",
       "4           0.647837      1.466243          0.834615  \n",
       "5           0.740144      0.092428          0.969952  \n",
       "6           0.689423      0.801960          0.863942  \n",
       "7           0.682933      0.380458          0.889423  \n",
       "8           0.668990      0.675563          0.859615  \n",
       "9           0.737019      0.445498          0.918510  \n",
       "10          0.813462      0.022081          0.994712  \n",
       "11          0.809615      0.054052          0.983894  \n",
       "12          0.811779      0.036898          0.987019  \n",
       "13          0.771635      0.343317          0.941587  \n",
       "14          0.787981      0.018064          0.996875  \n",
       "15          0.718029      0.452601          0.928125  \n",
       "16          0.848558      0.007099          0.998317  \n",
       "17          0.863942      0.003679          0.999038  \n",
       "18          0.770913      0.662559          0.914183  \n",
       "19          0.862740      0.009208          0.996875  "
      ]
     },
     "execution_count": 164,
     "metadata": {},
     "output_type": "execute_result"
    }
   ],
   "source": [
    "log = pd.read_csv(\"../Data/Logs/Loggood_job0.75-0.85_618.csv\")\n",
    "log"
   ]
  },
  {
   "cell_type": "code",
   "execution_count": 128,
   "metadata": {},
   "outputs": [],
   "source": [
    "def plotting(epoch, train_loss, CVHuman_loss, CVAnimated_loss, title):\n",
    "    fig, axes = plt.subplots(1,1, figsize = (12, 8))\n",
    "    axes.plot(epoch, train_loss, color = 'red', label = \"Train\")\n",
    "    axes.plot(epoch, CVHuman_loss, color = 'blue', label = \"CV_Human\")\n",
    "    axes.plot(epoch, CVAnimated_loss, color = 'green', label = \"CV_Animated\")\n",
    "    axes.set_title(title, fontsize = 25)\n",
    "    axes.set_xlabel(\"Epochs\", fontsize = 20)\n",
    "    axes.set_ylabel(\"Loss\", fontsize = 20)\n",
    "    axes.grid()\n",
    "    axes.legend(fontsize = 20)"
   ]
  },
  {
   "cell_type": "code",
   "execution_count": 129,
   "metadata": {
    "scrolled": false
   },
   "outputs": [
    {
     "data": {
      "image/png": "[encoded data removed]",
      "text/plain": [
       "<Figure size 864x576 with 1 Axes>"
      ]
     },
     "metadata": {
      "needs_background": "light"
     },
     "output_type": "display_data"
    }
   ],
   "source": [
    "plotting(list(log[\"Epoch\"]), list(log[\"Comb_Train_Loss\"]), list(log[\"CVHuman_Loss\"]), list(log[\"CVAnime_Loss\"]), \"EPOCH VS LOSS\")"
   ]
  },
  {
   "cell_type": "code",
   "execution_count": 130,
   "metadata": {},
   "outputs": [],
   "source": [
    "def plotting(epoch, train_acc, CVHuman_acc, CVAnimated_acc, title):\n",
    "    fig, axes = plt.subplots(1,1, figsize = (12, 8))\n",
    "    axes.plot(epoch, train_acc, color = 'red', label = \"Train_Accuracy\")\n",
    "    axes.plot(epoch, CVHuman_acc, color = 'blue', label = \"CV_Human_Accuracy\")\n",
    "    axes.plot(epoch, CVAnimated_acc, color = 'green', label = \"CV_Animated_Accuracy\")\n",
    "    axes.set_title(title, fontsize = 25)\n",
    "    axes.set_xlabel(\"Epochs\", fontsize = 20)\n",
    "    axes.set_ylabel(\"Accuracy\", fontsize = 20)\n",
    "    axes.grid()\n",
    "    axes.legend(fontsize = 20)"
   ]
  },
  {
   "cell_type": "code",
   "execution_count": 131,
   "metadata": {},
   "outputs": [
    {
     "data": {
      "image/png": "[encoded data removed]",
      "text/plain": [
       "<Figure size 864x576 with 1 Axes>"
      ]
     },
     "metadata": {
      "needs_background": "light"
     },
     "output_type": "display_data"
    }
   ],
   "source": [
    "plotting(list(log[\"Epoch\"]), list(log[\"Comb_Train_Accuracy\"]), list(log[\"CVHuman_Accuracy\"]), list(log[\"CVAnime_Accuracy\"]), \"EPOCH VS ACCURACY\")"
   ]
  },
  {
   "cell_type": "markdown",
   "metadata": {},
   "source": [
    "## 12. Checking Test Accuracy"
   ]
  },
  {
   "cell_type": "code",
   "execution_count": 132,
   "metadata": {},
   "outputs": [],
   "source": [
    "def print_confusionMatrix(Y_TestLabels, PredictedLabels):\n",
    "    confusionMatx = confusion_matrix(Y_TestLabels, PredictedLabels)\n",
    "    \n",
    "    precision = confusionMatx/confusionMatx.sum(axis = 0)\n",
    "    \n",
    "    recall = (confusionMatx.T/confusionMatx.sum(axis = 1)).T\n",
    "    \n",
    "    sns.set(font_scale=1.5)\n",
    "    \n",
    "    # confusionMatx = [[1, 2],\n",
    "    #                  [3, 4]]\n",
    "    # confusionMatx.T = [[1, 3],\n",
    "    #                   [2, 4]]\n",
    "    # confusionMatx.sum(axis = 1)  axis=0 corresponds to columns and axis=1 corresponds to rows in two diamensional array\n",
    "    # confusionMatx.sum(axix =1) = [[3, 7]]\n",
    "    # (confusionMatx.T)/(confusionMatx.sum(axis=1)) = [[1/3, 3/7]\n",
    "    #                                                  [2/3, 4/7]]\n",
    "\n",
    "    # (confusionMatx.T)/(confusionMatx.sum(axis=1)).T = [[1/3, 2/3]\n",
    "    #                                                    [3/7, 4/7]]\n",
    "    # sum of row elements = 1\n",
    "    \n",
    "    labels = [\"ANGRY\", \"DISGUST\", \"FEAR\", \"HAPPY\", \"NEUTRAL\", \"SAD\", \"SURPRISE\"]\n",
    "    \n",
    "    plt.figure(figsize=(16,7))\n",
    "    sns.heatmap(confusionMatx, cmap = \"Blues\", annot = True, fmt = \".1f\", xticklabels=labels, yticklabels=labels)\n",
    "    plt.title(\"Confusion Matrix\", fontsize = 30)\n",
    "    plt.xlabel('Predicted Class', fontsize = 20)\n",
    "    plt.ylabel('Original Class', fontsize = 20)\n",
    "    plt.tick_params(labelsize = 15)\n",
    "    plt.xticks(rotation = 90)\n",
    "    plt.show()\n",
    "    \n",
    "    print(\"-\"*125)\n",
    "    \n",
    "    plt.figure(figsize=(16,7))\n",
    "    sns.heatmap(precision, cmap = \"Blues\", annot = True, fmt = \".2f\", xticklabels=labels, yticklabels=labels)\n",
    "    plt.title(\"Precision Matrix\", fontsize = 30)\n",
    "    plt.xlabel('Predicted Class', fontsize = 20)\n",
    "    plt.ylabel('Original Class', fontsize = 20)\n",
    "    plt.tick_params(labelsize = 15)\n",
    "    plt.xticks(rotation = 90)\n",
    "    plt.show()\n",
    "    \n",
    "    print(\"-\"*125)\n",
    "    \n",
    "    plt.figure(figsize=(16,7))\n",
    "    sns.heatmap(recall, cmap = \"Blues\", annot = True, fmt = \".2f\", xticklabels=labels, yticklabels=labels)\n",
    "    plt.title(\"Recall Matrix\", fontsize = 30)\n",
    "    plt.xlabel('Predicted Class', fontsize = 20)\n",
    "    plt.ylabel('Original Class', fontsize = 20)\n",
    "    plt.tick_params(labelsize = 15)\n",
    "    plt.xticks(rotation = 90)\n",
    "    plt.show()"
   ]
  },
  {
   "cell_type": "markdown",
   "metadata": {},
   "source": [
    "### Test Data of Human Images"
   ]
  },
  {
   "cell_type": "code",
   "execution_count": 167,
   "metadata": {},
   "outputs": [
    {
     "name": "stdout",
     "output_type": "stream",
     "text": [
      "Accuracy on Human Test Data = 66.81%\n"
     ]
    }
   ],
   "source": [
    "model = load_model(\"../Data/Model_Save/model.h5\")\n",
    "predicted_labels = []\n",
    "true_labels = []\n",
    "batch_size = 10\n",
    "total_files = int(len(Test_Humans) / batch_size) + 2 #here, I have added 2 because there are 30 files in Test_Humans\n",
    "for i in range(1, total_files, 1):\n",
    "    img_load = np.load(\"../Data/Bottleneck_Features/Bottleneck_TestHumans/bottleneck_{}.npy\".format(i))\n",
    "    img_label = np.load(\"../Data/Bottleneck_Features/TestHumans_Labels/bottleneck_labels_{}.npy\".format(i))\n",
    "    img_bundle = img_load.reshape(img_load.shape[0], img_load.shape[1]*img_load.shape[2]*img_load.shape[3])\n",
    "    for j in range(img_bundle.shape[0]):\n",
    "        img = img_bundle[j]\n",
    "        img = img.reshape(1, img_bundle.shape[1])\n",
    "        pred = model.predict(img)\n",
    "        predicted_labels.append(pred[0].argmax())\n",
    "        true_labels.append(img_label[j].argmax())\n",
    "acc = accuracy_score(true_labels, predicted_labels)\n",
    "print(\"Accuracy on Human Test Data = {}%\".format(np.round(float(acc*100), 2)))"
   ]
  },
  {
   "cell_type": "code",
   "execution_count": 168,
   "metadata": {},
   "outputs": [
    {
     "data": {
      "image/png": "[encoded data removed]",
      "text/plain": [
       "<Figure size 1152x504 with 2 Axes>"
      ]
     },
     "metadata": {},
     "output_type": "display_data"
    },
    {
     "name": "stdout",
     "output_type": "stream",
     "text": [
      "-----------------------------------------------------------------------------------------------------------------------------\n"
     ]
    },
    {
     "data": {
      "image/png": "[encoded data removed]",
      "text/plain": [
       "<Figure size 1152x504 with 2 Axes>"
      ]
     },
     "metadata": {},
     "output_type": "display_data"
    },
    {
     "name": "stdout",
     "output_type": "stream",
     "text": [
      "-----------------------------------------------------------------------------------------------------------------------------\n"
     ]
    },
    {
     "data": {
      "image/png": "[encoded data removed]",
      "text/plain": [
       "<Figure size 1152x504 with 2 Axes>"
      ]
     },
     "metadata": {},
     "output_type": "display_data"
    }
   ],
   "source": [
    "print_confusionMatrix(true_labels, predicted_labels)"
   ]
  },
  {
   "cell_type": "markdown",
   "metadata": {},
   "source": [
    "### Test Data of Animated Images"
   ]
  },
  {
   "cell_type": "code",
   "execution_count": null,
   "metadata": {},
   "outputs": [],
   "source": [
    "model = load_model(\"../Data/Model_Save/model.h5\")\n",
    "predicted_labels = []\n",
    "true_labels = []\n",
    "batch_size = 10\n",
    "total_files = int(len(Test_Animated) / batch_size) + 1\n",
    "for i in range(1, total_files, 1):\n",
    "    img_load = np.load(\"../Data/Bottleneck_Features/Bottleneck_TestAnimated/bottleneck_{}.npy\".format(i))\n",
    "    img_label = np.load(\"../Data/Bottleneck_Features/TestAnimated_Labels/bottleneck_labels_{}.npy\".format(i))\n",
    "    img_bundle = img_load.reshape(img_load.shape[0], img_load.shape[1]*img_load.shape[2]*img_load.shape[3])\n",
    "    for j in range(img_bundle.shape[0]):\n",
    "        img = img_bundle[j]\n",
    "        img = img.reshape(1, img_bundle.shape[1])\n",
    "        pred = model.predict(img)\n",
    "        predicted_labels.append(pred[0].argmax())\n",
    "        true_labels.append(img_label[j].argmax())\n",
    "acc = accuracy_score(true_labels, predicted_labels)\n",
    "print(\"Accuracy on Animated Test Data = {}%\".format(np.round(float(acc*100), 2)))"
   ]
  },
  {
   "cell_type": "code",
   "execution_count": null,
   "metadata": {},
   "outputs": [],
   "source": [
    "print_confusionMatrix(true_labels, predicted_labels)"
   ]
  },
  {
   "cell_type": "markdown",
   "metadata": {},
   "source": [
    "## 13. Testing on Real World with Still Images"
   ]
  },
  {
   "cell_type": "code",
   "execution_count": null,
   "metadata": {},
   "outputs": [],
   "source": [
    "# Now for testing the model on real world images we have to follow all of the same steps which we have done on our training, CV\n",
    "# and test images. Like here we have to first pre-preocess our images then create its VGG-16 bottleneck features then pass those \n",
    "# bottleneck features through our own MLP model for prediction.\n",
    "# Steps are as follows:\n",
    "# 1. Read the image, convert it to grayscale and save it.\n",
    "# 2. Read that grayscale saved image, the detect face in it using HAAR cascade.\n",
    "# 3. Crop the image to the detected face and resize it to 350*350 and save the image.\n",
    "# 4. Read that processed cropped-resized image, then reshape it and normalize it.\n",
    "# 5. Then feed that image to VGG-16 and create bottleneck features of that image and then reshape it.\n",
    "# 6. Then use our own model for final prediction of expression."
   ]
  },
  {
   "cell_type": "code",
   "execution_count": null,
   "metadata": {},
   "outputs": [],
   "source": [
    "EMOTION_DICT = {1:\"ANGRY\", 2:\"DISGUST\", 3:\"FEAR\", 4:\"HAPPY\", 5:\"NEUTRAL\", 6:\"SAD\", 7:\"SURPRISE\"}\n",
    "model_VGG = VGG16(weights='imagenet', include_top=False)\n",
    "model_top = load_model(\"../Data/Model_Save/model.h5\")"
   ]
  },
  {
   "cell_type": "code",
   "execution_count": null,
   "metadata": {},
   "outputs": [],
   "source": [
    "def make_prediction(path):\n",
    "    #converting image to gray scale and save it\n",
    "    img = cv2.imread(path)\n",
    "    gray = cv2.cvtColor(img, cv2.COLOR_BGR2GRAY)\n",
    "    cv2.imwrite(path, gray)\n",
    "    \n",
    "    #detect face in image, crop it then resize it then save it\n",
    "    face_cascade = cv2.CascadeClassifier('haarcascade_frontalface_default.xml') \n",
    "    img = cv2.imread(path)\n",
    "    gray = cv2.cvtColor(img, cv2.COLOR_BGR2GRAY)\n",
    "    faces = face_cascade.detectMultiScale(gray, 1.3, 5)\n",
    "    if faces is not ():\n",
    "        for (x,y,w,h) in faces:\n",
    "            face_clip = img[y:y+h, x:x+w]\n",
    "            cv2.imwrite(path, cv2.resize(face_clip, (350, 350)))\n",
    "    if faces is ():\n",
    "        cv2.imwrite(path, cv2.resize(gray, (350, 350)))\n",
    "    #read the processed image then make prediction and display the result\n",
    "    read_image = cv2.imread(path)\n",
    "    read_image = read_image.reshape(1, read_image.shape[0], read_image.shape[1], read_image.shape[2])\n",
    "    read_image_final = read_image/255.0  #normalizing the image\n",
    "    VGG_Pred = model_VGG.predict(read_image_final)  #creating bottleneck features of image using VGG-16.\n",
    "    VGG_Pred = VGG_Pred.reshape(1, VGG_Pred.shape[1]*VGG_Pred.shape[2]*VGG_Pred.shape[3])\n",
    "    top_pred = model_top.predict(VGG_Pred)  #making prediction from our own model.\n",
    "    emotion_label = top_pred[0].argmax() + 1\n",
    "    print(\"Predicted Expression Probabilities\")\n",
    "    print(\"ANGRY: {}\\nDISGUST: {}\\nFEAR: {}\\nHAPPY: {}\\nNEUTRAL: {}\\nSAD: {}\\nSURPRISE: {}\\n\\n\".format(top_pred[0][0], top_pred[0][1], top_pred[0][2], top_pred[0][3], top_pred[0][4], top_pred[0][5], top_pred[0][6]))\n",
    "    print(\"Dominant Probability = \"+str(EMOTION_DICT[emotion_label])+\": \"+str(max(top_pred[0])))"
   ]
  },
  {
   "cell_type": "markdown",
   "metadata": {},
   "source": [
    "### ANGRY"
   ]
  },
  {
   "cell_type": "markdown",
   "metadata": {},
   "source": [
    "### Correct Result"
   ]
  },
  {
   "cell_type": "code",
   "execution_count": null,
   "metadata": {},
   "outputs": [],
   "source": [
    "Image.open(\"../Data/Test_Images/Angry_1.JPG\")"
   ]
  },
  {
   "cell_type": "code",
   "execution_count": null,
   "metadata": {},
   "outputs": [],
   "source": [
    "make_prediction(\"../Data/Test_Images/Angry_1.JPG\")"
   ]
  },
  {
   "cell_type": "markdown",
   "metadata": {},
   "source": [
    "### Correct Result"
   ]
  },
  {
   "cell_type": "code",
   "execution_count": null,
   "metadata": {},
   "outputs": [],
   "source": [
    "Image.open(\"../Data/Test_Images/Angry_2.png\")"
   ]
  },
  {
   "cell_type": "code",
   "execution_count": null,
   "metadata": {},
   "outputs": [],
   "source": [
    "make_prediction(\"../Data/Test_Images/Angry_2.png\")"
   ]
  },
  {
   "cell_type": "markdown",
   "metadata": {},
   "source": [
    "### DISGUST"
   ]
  },
  {
   "cell_type": "markdown",
   "metadata": {},
   "source": [
    "### Incorrect Result"
   ]
  },
  {
   "cell_type": "code",
   "execution_count": null,
   "metadata": {},
   "outputs": [],
   "source": [
    "Image.open(\"../Data/Test_Images/Disgust_1.jpg\")"
   ]
  },
  {
   "cell_type": "code",
   "execution_count": null,
   "metadata": {},
   "outputs": [],
   "source": [
    "make_prediction(\"../Data/Test_Images/Disgust_1.jpg\")"
   ]
  },
  {
   "cell_type": "markdown",
   "metadata": {},
   "source": [
    "### Correct Result"
   ]
  },
  {
   "cell_type": "code",
   "execution_count": null,
   "metadata": {},
   "outputs": [],
   "source": [
    "Image.open(\"../Data/Test_Images/Disgust_2.png\")"
   ]
  },
  {
   "cell_type": "code",
   "execution_count": null,
   "metadata": {},
   "outputs": [],
   "source": [
    "make_prediction(\"../Data/Test_Images/Disgust_2.png\")"
   ]
  },
  {
   "cell_type": "markdown",
   "metadata": {},
   "source": [
    "### FEAR"
   ]
  },
  {
   "cell_type": "markdown",
   "metadata": {},
   "source": [
    "### Correct Result"
   ]
  },
  {
   "cell_type": "code",
   "execution_count": null,
   "metadata": {},
   "outputs": [],
   "source": [
    "Image.open(\"../Data/Test_Images/Fear_1.jpg\")"
   ]
  },
  {
   "cell_type": "code",
   "execution_count": null,
   "metadata": {},
   "outputs": [],
   "source": [
    "make_prediction(\"../Data/Test_Images/Fear_1.jpg\")"
   ]
  },
  {
   "cell_type": "markdown",
   "metadata": {},
   "source": [
    "### Correct Result"
   ]
  },
  {
   "cell_type": "code",
   "execution_count": null,
   "metadata": {},
   "outputs": [],
   "source": [
    "Image.open(\"../Data/Test_Images/Fear_2.png\")"
   ]
  },
  {
   "cell_type": "code",
   "execution_count": null,
   "metadata": {},
   "outputs": [],
   "source": [
    "make_prediction(\"../Data/Test_Images/Fear_2.png\")"
   ]
  },
  {
   "cell_type": "markdown",
   "metadata": {},
   "source": [
    "### HAPPY"
   ]
  },
  {
   "cell_type": "markdown",
   "metadata": {},
   "source": [
    "### Correct Result"
   ]
  },
  {
   "cell_type": "code",
   "execution_count": null,
   "metadata": {},
   "outputs": [],
   "source": [
    "Image.open(\"../Data/Test_Images/Happy_1.jpg\")"
   ]
  },
  {
   "cell_type": "code",
   "execution_count": null,
   "metadata": {},
   "outputs": [],
   "source": [
    "make_prediction(\"../Data/Test_Images/Happy_1.jpg\")"
   ]
  },
  {
   "cell_type": "markdown",
   "metadata": {},
   "source": [
    "### Correct Result"
   ]
  },
  {
   "cell_type": "code",
   "execution_count": null,
   "metadata": {},
   "outputs": [],
   "source": [
    "Image.open(\"../Data/Test_Images/Happy_2.png\")"
   ]
  },
  {
   "cell_type": "code",
   "execution_count": null,
   "metadata": {},
   "outputs": [],
   "source": [
    "make_prediction(\"../Data/Test_Images/Happy_2.png\")"
   ]
  },
  {
   "cell_type": "markdown",
   "metadata": {},
   "source": [
    "### Neutral"
   ]
  },
  {
   "cell_type": "markdown",
   "metadata": {},
   "source": [
    "### Correct Result"
   ]
  },
  {
   "cell_type": "code",
   "execution_count": null,
   "metadata": {},
   "outputs": [],
   "source": [
    "Image.open(\"../Data/Test_Images/Neutral_1.jpg\")"
   ]
  },
  {
   "cell_type": "code",
   "execution_count": null,
   "metadata": {},
   "outputs": [],
   "source": [
    "make_prediction(\"../Data/Test_Images/Neutral_6.jpg\")"
   ]
  },
  {
   "cell_type": "markdown",
   "metadata": {},
   "source": [
    "### Sad"
   ]
  },
  {
   "cell_type": "markdown",
   "metadata": {},
   "source": [
    "### Correct Prediction"
   ]
  },
  {
   "cell_type": "code",
   "execution_count": null,
   "metadata": {},
   "outputs": [],
   "source": [
    "Image.open(\"../Data/Test_Images/Sad_1.jpg\")"
   ]
  },
  {
   "cell_type": "code",
   "execution_count": null,
   "metadata": {},
   "outputs": [],
   "source": [
    "make_prediction(\"../Data/Test_Images/Sad_1.jpg\")"
   ]
  },
  {
   "cell_type": "markdown",
   "metadata": {},
   "source": [
    "### Correct Prediction"
   ]
  },
  {
   "cell_type": "code",
   "execution_count": null,
   "metadata": {},
   "outputs": [],
   "source": [
    "Image.open(\"../Data/Test_Images/Sad_2.png\")"
   ]
  },
  {
   "cell_type": "code",
   "execution_count": null,
   "metadata": {},
   "outputs": [],
   "source": [
    "make_prediction(\"../Data/Test_Images/Sad_2.png\")"
   ]
  },
  {
   "cell_type": "markdown",
   "metadata": {},
   "source": [
    "### Surprise"
   ]
  },
  {
   "cell_type": "markdown",
   "metadata": {},
   "source": [
    "### Correct Prediction"
   ]
  },
  {
   "cell_type": "code",
   "execution_count": null,
   "metadata": {},
   "outputs": [],
   "source": [
    "Image.open(\"../Data/Test_Images/Surprise_1.jpg\")"
   ]
  },
  {
   "cell_type": "code",
   "execution_count": null,
   "metadata": {},
   "outputs": [],
   "source": [
    "make_prediction(\"../Data/Test_Images/Surprise_1.jpg\")"
   ]
  },
  {
   "cell_type": "markdown",
   "metadata": {},
   "source": [
    "### Correct Prediction"
   ]
  },
  {
   "cell_type": "code",
   "execution_count": null,
   "metadata": {},
   "outputs": [],
   "source": [
    "Image.open(\"../Data/Test_Images/Surprise_2.png\")"
   ]
  },
  {
   "cell_type": "code",
   "execution_count": null,
   "metadata": {},
   "outputs": [],
   "source": [
    "make_prediction(\"../Data/Test_Images/Surprise_2.png\")"
   ]
  },
  {
   "cell_type": "code",
   "execution_count": null,
   "metadata": {},
   "outputs": [],
   "source": [
    "Image.open(\"../Data/Test_Images/Surprise_3.jpg\")"
   ]
  },
  {
   "cell_type": "code",
   "execution_count": null,
   "metadata": {},
   "outputs": [],
   "source": [
    "make_prediction(\"../Data/Test_Images/Surprise_3.jpg\")"
   ]
  },
  {
   "cell_type": "code",
   "execution_count": null,
   "metadata": {},
   "outputs": [],
   "source": [
    "# cnt_correct = 0\n",
    "# cnt_incorrect = 0\n",
    "# for i, d in df_anime_test.iterrows():\n",
    "#     img_path = os.path.join(d[\"folderName\"], d[\"imageName\"])\n",
    "#     im_size = cv2.imread(img_path).shape\n",
    "#     if im_size == (350, 350, 3):\n",
    "#         cnt_correct += 1\n",
    "#     else:\n",
    "#         cnt_incorrect += 1\n",
    "# print(\"Correct = \"+str(cnt_correct))\n",
    "# print(\"incorrect = \"+str(cnt_incorrect))"
   ]
  },
  {
   "cell_type": "code",
   "execution_count": null,
   "metadata": {},
   "outputs": [],
   "source": [
    "# a = Train_Combined\n",
    "# randInt = np.random.randint(0, a.shape[0], size = (1))[0]\n",
    "# emotion = a[\"Emotion\"][randInt]\n",
    "# label = a[\"Labels\"][randInt]\n",
    "# path1 = a[\"folderName\"][randInt]\n",
    "# path2 = a[\"imageName\"][randInt]\n",
    "# img = Image.open(os.path.join(path1, path2))\n",
    "# img"
   ]
  },
  {
   "cell_type": "code",
   "execution_count": null,
   "metadata": {},
   "outputs": [],
   "source": [
    "# print(emotion)\n",
    "# print(label)"
   ]
  },
  {
   "cell_type": "code",
   "execution_count": null,
   "metadata": {},
   "outputs": [],
   "source": [
    "# count_present = 0\n",
    "# count_absent = 0\n",
    "# for i, d in df_angry_reduced.iterrows():\n",
    "#     path1 = d[\"folderName\"]\n",
    "#     path2 = d[\"imageName\"]\n",
    "#     if os.path.isfile(os.path.join(path1, path2)):\n",
    "#         count_present += 1\n",
    "#     else:\n",
    "#         count_absent += 1\n",
    "# print(\"Count present = \"+str(count_present))\n",
    "# print(\"Count absent = \"+str(count_absent))"
   ]
  },
  {
   "cell_type": "code",
   "execution_count": null,
   "metadata": {},
   "outputs": [],
   "source": []
  }
 ],
 "metadata": {
  "kernelspec": {
   "display_name": "Python 3",
   "language": "python",
   "name": "python3"
  },
  "language_info": {
   "codemirror_mode": {
    "name": "ipython",
    "version": 3
   },
   "file_extension": ".py",
   "mimetype": "text/x-python",
   "name": "python",
   "nbconvert_exporter": "python",
   "pygments_lexer": "ipython3",
   "version": "3.7.0"
  }
 },
 "nbformat": 4,
 "nbformat_minor": 2
}
